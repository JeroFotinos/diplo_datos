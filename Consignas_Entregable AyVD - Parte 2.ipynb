{
 "cells": [
  {
   "cell_type": "markdown",
   "metadata": {
    "id": "LYvAOR2VzHmW"
   },
   "source": [
    "\n",
    "**Diplomatura en Ciencia de Datos, Aprendizaje Automático y sus Aplicaciones**\n",
    "\n",
    "**Edición 2023**\n",
    "\n",
    "---\n",
    "\n",
    "# Trabajo práctico entregable - Parte 2"
   ]
  },
  {
   "cell_type": "code",
   "execution_count": null,
   "metadata": {
    "executionInfo": {
     "elapsed": 2059,
     "status": "ok",
     "timestamp": 1680803782300,
     "user": {
      "displayName": "Laura Minuet",
      "userId": "00787725849952937741"
     },
     "user_tz": 180
    },
    "id": "Xwdfo7z20TUK"
   },
   "outputs": [],
   "source": [
    "import io\n",
    "import matplotlib\n",
    "import matplotlib.pyplot as plt\n",
    "import numpy as np\n",
    "import pandas as pd\n",
    "import seaborn as sns\n",
    "import scipy.stats as stats\n",
    "\n",
    "\n",
    "sns.set_context(\"talk\")"
   ]
  },
  {
   "cell_type": "markdown",
   "metadata": {
    "id": "XY2Hl-Ma07Nn"
   },
   "source": [
    "## Lectura del dataset\n",
    "\n",
    "En la notebook 00 se explican los detalles de la siguiente sección."
   ]
  },
  {
   "cell_type": "code",
   "execution_count": null,
   "metadata": {
    "executionInfo": {
     "elapsed": 6,
     "status": "ok",
     "timestamp": 1680803787929,
     "user": {
      "displayName": "Laura Minuet",
      "userId": "00787725849952937741"
     },
     "user_tz": 180
    },
    "id": "Vviv_sqXdR5W"
   },
   "outputs": [],
   "source": [
    "url = \"https://raw.githubusercontent.com/DiploDatos/AnalisisyVisualizacion/master/sysarmy_survey_2022_processed.csv\"\n",
    "df = pd.read_csv(url)"
   ]
  },
  {
   "cell_type": "code",
   "execution_count": null,
   "metadata": {
    "colab": {
     "base_uri": "https://localhost:8080/",
     "height": 341
    },
    "executionInfo": {
     "elapsed": 1527,
     "status": "ok",
     "timestamp": 1680803791992,
     "user": {
      "displayName": "Laura Minuet",
      "userId": "00787725849952937741"
     },
     "user_tz": 180
    },
    "id": "gckNHXXLktJ4",
    "outputId": "c4f8b5a8-07e4-4304-f0d0-7db0904bb482"
   },
   "outputs": [],
   "source": [
    "df[:3]"
   ]
  },
  {
   "cell_type": "code",
   "execution_count": null,
   "metadata": {
    "colab": {
     "base_uri": "https://localhost:8080/"
    },
    "executionInfo": {
     "elapsed": 480,
     "status": "ok",
     "timestamp": 1680803799813,
     "user": {
      "displayName": "Laura Minuet",
      "userId": "00787725849952937741"
     },
     "user_tz": 180
    },
    "id": "BxFBTUsttpX4",
    "outputId": "0acba520-72a3-4de5-89fd-07090566e20b"
   },
   "outputs": [],
   "source": [
    "df.profile_gender.unique()"
   ]
  },
  {
   "cell_type": "code",
   "execution_count": null,
   "metadata": {
    "executionInfo": {
     "elapsed": 324,
     "status": "ok",
     "timestamp": 1680803810873,
     "user": {
      "displayName": "Laura Minuet",
      "userId": "00787725849952937741"
     },
     "user_tz": 180
    },
    "id": "pJjMneUJtr1H"
   },
   "outputs": [],
   "source": [
    "df.loc[:, \"profile_g\"] = df.profile_gender.replace(\n",
    "    {\n",
    "        \"Varón Cis\": \"Varón cis\",\n",
    "        \"Mujer\": \"Mujer cis\",\n",
    "        \"Mujer Cis\": \"Mujer cis\",\n",
    "        \"Femenino\": \"Mujer cis\",\n",
    "        \"mujer\": \"Mujer cis\",\n",
    "        \"Mujer\": \"Mujer cis\",\n",
    "        \"Queer\": \"Diversidades\",\n",
    "        \"Varón Trans\": \"Diversidades\",\n",
    "        \"No binarie\": \"Diversidades\",\n",
    "        \"Mujer Trans\": \"Diversidades\",\n",
    "        \"Fluido\": \"Diversidades\",\n",
    "        \"Bigénero\": \"Diversidades\",\n",
    "        \"Gay\": \"Diversidades\",\n",
    "    }\n",
    ").fillna(False)"
   ]
  },
  {
   "cell_type": "code",
   "execution_count": null,
   "metadata": {
    "colab": {
     "base_uri": "https://localhost:8080/"
    },
    "executionInfo": {
     "elapsed": 7,
     "status": "ok",
     "timestamp": 1680803823255,
     "user": {
      "displayName": "Laura Minuet",
      "userId": "00787725849952937741"
     },
     "user_tz": 180
    },
    "id": "2QhWCZwxtu45",
    "outputId": "b69595bc-7011-402b-a951-7eb13eb4934f"
   },
   "outputs": [],
   "source": [
    "df.profile_g.unique()"
   ]
  },
  {
   "cell_type": "code",
   "execution_count": null,
   "metadata": {
    "colab": {
     "base_uri": "https://localhost:8080/",
     "height": 206
    },
    "executionInfo": {
     "elapsed": 7,
     "status": "ok",
     "timestamp": 1680803837043,
     "user": {
      "displayName": "Laura Minuet",
      "userId": "00787725849952937741"
     },
     "user_tz": 180
    },
    "id": "2lzmzK1NuPNT",
    "outputId": "97d64168-bccc-41fe-831f-6e7af91f7970"
   },
   "outputs": [],
   "source": [
    "df[[\"profile_g\", \"salary_monthly_NETO\"]].groupby(\"profile_g\").describe()"
   ]
  },
  {
   "cell_type": "code",
   "execution_count": null,
   "metadata": {
    "colab": {
     "base_uri": "https://localhost:8080/",
     "height": 206
    },
    "executionInfo": {
     "elapsed": 317,
     "status": "ok",
     "timestamp": 1680803856909,
     "user": {
      "displayName": "Laura Minuet",
      "userId": "00787725849952937741"
     },
     "user_tz": 180
    },
    "id": "pycKJ5jWkShW",
    "outputId": "1e4b5a79-9695-40fb-eb42-20467d9a0d11"
   },
   "outputs": [],
   "source": [
    "df[df.salary_monthly_NETO > 1000][[\"profile_g\", \"salary_monthly_NETO\"]].groupby(\n",
    "    \"profile_g\"\n",
    ").describe()"
   ]
  },
  {
   "cell_type": "code",
   "execution_count": null,
   "metadata": {
    "executionInfo": {
     "elapsed": 816,
     "status": "ok",
     "timestamp": 1680803880409,
     "user": {
      "displayName": "Laura Minuet",
      "userId": "00787725849952937741"
     },
     "user_tz": 180
    },
    "id": "uZ1GxkLylHx0"
   },
   "outputs": [],
   "source": [
    "alpha = 0.05"
   ]
  },
  {
   "cell_type": "code",
   "execution_count": null,
   "metadata": {
    "executionInfo": {
     "elapsed": 4,
     "status": "ok",
     "timestamp": 1680803882836,
     "user": {
      "displayName": "Laura Minuet",
      "userId": "00787725849952937741"
     },
     "user_tz": 180
    },
    "id": "OfzFpDO-lYxk"
   },
   "outputs": [],
   "source": [
    "is_man = df.profile_g == \"Varón cis\"\n",
    "\n",
    "groupA = df[(df.salary_monthly_NETO > 1000) & is_man].salary_monthly_NETO\n",
    "groupB = df[(df.salary_monthly_NETO > 1000) & ~is_man].salary_monthly_NETO"
   ]
  },
  {
   "cell_type": "markdown",
   "metadata": {
    "id": "co_0M_ojtmUh"
   },
   "source": [
    "## Ejercicio 1: Estimación\n",
    "\n",
    "**Consigna:**  Calcular una estimación puntual y un intervalo de confianza de nivel (1-alpha) para la resta entre la media del salario Neto para Hombres menos la media del salario Neto para otros géneros(diferencia de las medias entre el grupoA y grupoB). \n",
    "¿Cómo se relaciona este intervalo de confianza con el test de hipótesis?"
   ]
  },
  {
   "cell_type": "markdown",
   "metadata": {},
   "source": [
    "El intervalo de confianza y el test de hipótesis están estrechamente relacionados porque un intervalo de confianza puede ser utilizado para realizar un test de hipótesis. Por ejemplo, si un intervalo de confianza para la media poblacional no incluye cierto valor especificado, se puede rechazar la hipótesis nula de que la media poblacional es igual a ese valor al nivel de significancia correspondiente al nivel de confianza del intervalo."
   ]
  },
  {
   "cell_type": "code",
   "execution_count": null,
   "metadata": {
    "id": "0fA1RQ0upe6N"
   },
   "outputs": [],
   "source": [
    "# calcular la media de cada grupo\n",
    "x1 = np.mean(groupA)\n",
    "x2 = np.mean(groupB)\n",
    "\n",
    "print(f\"Estimacion puntual de la diferencia de medias {x1-x2}\")\n",
    "# calcular la desviación estándar de cada grupo\n",
    "s1 = np.std(groupA, ddof=1)\n",
    "s2 = np.std(groupB, ddof=1)\n",
    "\n",
    "\n",
    "n1 = len(groupA)\n",
    "n2 = len(groupB)\n",
    "\n",
    "s1_sqrd = s1 ** 2\n",
    "s2_sqrd = s2 ** 2\n",
    "# calcular el intervalo de confianza del 95% para la diferencia de medias\n",
    "degrees_of_freedom = round(((s1_sqrd / n1 + s2_sqrd / n2) ** 2) / ( (((s1_sqrd / n1) ** 2) / (n1 - 1)) + ( ((s2_sqrd /n2) ** 2) / (n2 - 1)) ))\n",
    "\n",
    "t_critico = stats.t.interval(0.95, degrees_of_freedom)[1]\n",
    "SE = np.sqrt(s1_sqrd / n1 + s2_sqrd / n2)\n",
    "LI = (x1 - x2) - t_critico*SE\n",
    "LS = (x1 - x2) + t_critico*SE\n",
    "\n",
    "print(f\"Intervalo de confianza del 95%: ({LI}, {LS})\")"
   ]
  },
  {
   "cell_type": "code",
   "execution_count": null,
   "metadata": {},
   "outputs": [],
   "source": [
    "# Estimación puntual\n",
    "point_estimation = groupA.mean() - groupB.mean()\n",
    "print(f\"Estimación puntual: {point_estimation}\")\n",
    "\n",
    "# Intervalo de confianza\n",
    "alpha = 0.05\n",
    "degrees_of_freedom = round(((s1_sqrd / n1 + s2_sqrd / n2) ** 2) / ( (((s1_sqrd / n1) ** 2) / (n1 - 1)) + ( ((s2_sqrd /n2) ** 2) / (n2 - 1)) ))\n",
    "ci = stats.t.interval(1 - alpha, degrees_of_freedom, loc=point_estimation, scale=np.sqrt(np.var(groupA)/len(groupA) + np.var(groupB)/len(groupB)))\n",
    "print(f\"Intervalo de confianza del 95%: {ci}\")"
   ]
  },
  {
   "cell_type": "markdown",
   "metadata": {
    "id": "IFi2T7Y6nM92"
   },
   "source": [
    "## Ejercicio 2: Test de hipótesis\n"
   ]
  },
  {
   "cell_type": "markdown",
   "metadata": {
    "id": "Rzxe8UYU6EfJ"
   },
   "source": [
    "\n",
    "### 2.1 Formalización\n",
    "\n",
    "Describir formalmente los distintos componentes de un test de hipótesis para comprobar si la distribución de los salarios es distinta entre los grupos A y B.\n",
    "\n",
    "**Hipótesis Nula**\n",
    "\n",
    "$H_0:A=B$\n",
    "\n",
    "**Estadístico (Pivote)**\n",
    "  * Identificar el estadístico\n",
    "  * Escribir qué distribución tiene bajo $H_0$\n"
   ]
  },
  {
   "cell_type": "markdown",
   "metadata": {},
   "source": [
    "- Nuestra hipótesis nula será $H_0:A=B$\n",
    "\n",
    "\n",
    "Para decidir nuestro estadístico, realizamos el test para saber si las varianzas de las muestras pueden considerarse homogéneas.\n",
    "\n",
    "- Donde nuestra hipótesis nula será $H_0:\\sigma_1=\\sigma_2$\n",
    "- El estadístico es $F=\\frac{S_x^2/\\sigma_x^2}{S_y^2/\\sigma_y^2}$, que tiene distribución F con grados de libertad $\\nu_x=n_x-1$ y $\\nu_y=n_y-1$.\n",
    "- El estadístico de prueba será $f=\\frac{s_x^2}{s_y^2}$.\n"
   ]
  },
  {
   "cell_type": "code",
   "execution_count": null,
   "metadata": {},
   "outputs": [],
   "source": [
    "# Significancia alpha\n",
    "alpha=0.001\n",
    "\n",
    "# Calculo de varianzas muestrales\n",
    "s2x = np.var(groupA, ddof=1)\n",
    "s2y = np.var(groupB, ddof=1)\n",
    "\n",
    "# Calculo de estadístico de prueba\n",
    "f = s2x / s2y\n",
    "\n",
    "dof1 = n1 - 1\n",
    "dof2 = n2 - 1\n",
    "\n",
    "# F-critical values\n",
    "f_crit_upper = stats.f.ppf(1 - alpha / 2, dof1, dof2)\n",
    "f_crit_lower = stats.f.ppf(alpha / 2, dof1, dof2)\n",
    "\n",
    "print(f\"Estadístico de prueba: {f}\")\n",
    "print(f\"Valor crítico superior: {f_crit_upper}\")\n",
    "print(f\"Valor crítico inferior: {f_crit_lower}\")\n"
   ]
  },
  {
   "cell_type": "markdown",
   "metadata": {},
   "source": [
    "Dado que el estadístico de prueba es mayor al valor crítico superior, rechazamos la hipótesis nula, lo que indica que hay una probabilidad menor al 0.1% de que las varianzas sean homogéneas (dadas estas muestras para los grupos).\n",
    "\n",
    "Ahora sí podemos elegir nuestro estadístico, que será:\n",
    "\n",
    "$$t=\\frac{(\\overline{x_1}-\\overline{x_2})}{\\sqrt{\\frac{s_1^2}{n_1}+\\frac{s_2^2}{n_2}}}$$\n",
    "\n",
    "El cual sigue una distribución t de student con:\n",
    "- desviación estándar $s=\\sqrt{s_1^2/n_1+s_2^2/n_2}$;\n",
    "- media $\\mu=0$;\n",
    "- grados de libertad $$\\nu = \\frac{\\left(\\frac{s_1^2}{n_1} + \\frac{s_2^2}{n_2}\\right)^2}{\\frac{\\left(\\frac{s_1^2}{n_1}\\right)^2}{n_1-1} + \\frac{\\left(\\frac{s_2^2}{n_2}\\right)^2}{n_2-1}}$$.\n"
   ]
  },
  {
   "cell_type": "markdown",
   "metadata": {},
   "source": [
    "Realicemos ahora el test para ver si podemos decir que la media del grupo A es superior a la del grupo B con significancia \\(\\alpha = 0.001\\). Al igual que antes, nuestra hipótesis nula será que ambas medias son iguales, i.e.\n",
    "$$H_0: \\mu_A - \\mu_B = 0$$\n",
    "Las hipótesis alternativas que consideraremos serán:\n",
    "1. que la media salarial del grupo A es distinta a la del grupo B, i.e., $$H^1_a: \\mu_A - \\mu_B > 0 \\rightarrow RR_1 = \\{ t \\geq t_{\\alpha/2, \\nu} \\vee t \\leq -t_{\\alpha/2, \\nu} \\}$$\n",
    "2. que la media salarial del grupo A es superior a la del grupo B, i.e., $$H^2_a: \\mu_A - \\mu_B > 0 \\rightarrow RR_2 = \\{ t \\geq t_{\\alpha, \\nu} \\}$$\n"
   ]
  },
  {
   "cell_type": "code",
   "execution_count": null,
   "metadata": {},
   "outputs": [],
   "source": [
    "# Test de Welch\n",
    "\n",
    "# Calculo de estadístico de prueba\n",
    "t = (x1 - x2) / np.sqrt(s1_sqrd / n1 + s2_sqrd / n2)\n",
    "\n",
    "# Grados de libertad\n",
    "dof = ((s1_sqrd / n1 + s2_sqrd / n2) ** 2) / ((s1_sqrd / n1) ** 2 / (n1 - 1) + (s2_sqrd / n2) ** 2 / (n2 - 1))\n",
    "\n",
    "# t-critical values\n",
    "t_crit_neq = stats.t.ppf(1-alpha / 2, dof)\n",
    "t_crit_great = stats.t.ppf(1-alpha, dof)\n",
    "# se ingresa 1-alpha pues la sintaxis de la función\n",
    "# pide como primer argumento q=1-alpha\n",
    "\n",
    "print(f\"Estadístico de prueba: {t}\")\n",
    "print(f\"Ha1: mu_A != mu_B, RR=(t>= {t_crit_neq} o t <= {-t_crit_neq})\")\n",
    "print(f\"Ha2: mu_A > mu_B, RR=(t>= {t_crit_great})\")\n"
   ]
  },
  {
   "cell_type": "markdown",
   "metadata": {},
   "source": [
    "Dado que $t \\geq t_{1-\\frac{\\alpha}{2},\\nu}$, se rechaza la hipótesis nula en ambos casos. Esto indica que:\n",
    "1. hay una probabilidad menor al 0.1% de que las medias de las distribuciones coincidan (dadas estas muestras para los grupos).\n",
    "2. hay una probabilidad menor al 0.1% de que la media del grupo A no sea mayor que la media del grupo B (dadas estas muestras para los grupos).\n",
    "\n",
    "Concluimos entonces que los hombres cisgénero heterosexuales ganan más que el resto, con un nivel de significancia $\\alpha = 0.001$."
   ]
  },
  {
   "cell_type": "markdown",
   "metadata": {
    "id": "3Ip_5YdenC8u"
   },
   "source": [
    "### 2.2 P-valor\n",
    "\n",
    "1. Calcule el p-valor y decida si rechazar o no la hipótesis nula.\n",
    "2. Interprete el resultado.\n",
    "\n",
    "Links útiles:\n",
    "* [Test de hipótesis usando scipy](https://docs.scipy.org/doc/scipy/reference/generated/scipy.stats.ttest_ind.html)\n",
    "* [Test de Welch](http://daniellakens.blogspot.com/2015/01/always-use-welchs-t-test-instead-of.html)"
   ]
  },
  {
   "cell_type": "markdown",
   "metadata": {},
   "source": [
    "El valor p representa la probabilidad de observar los datos de la muestra (o datos más extremos) asumiendo que la hipótesis nula es verdadera. Por lo que, si el valor p es menor que el nivel de significancia, entonces se rechaza la hipótesis nula con un nivel de significancia de alpha."
   ]
  },
  {
   "cell_type": "code",
   "execution_count": null,
   "metadata": {},
   "outputs": [],
   "source": [
    "# Calculo de p-value\n",
    "\n",
    "p_value = 2 * stats.t.sf(t, dof)\n",
    "print(f\"p-value: {p_value}\")"
   ]
  },
  {
   "cell_type": "markdown",
   "metadata": {},
   "source": [
    "Dado que p-value < $\\alpha$, se rechaza Ho, es extremadamente improbable que se haya obtenido una diferencia de medias tan grande si las medias poblacionales fueran iguales. Por lo tanto, se puede concluir que las medias poblacionales son diferentes."
   ]
  },
  {
   "cell_type": "markdown",
   "metadata": {
    "id": "8VxiQr5YrQYR"
   },
   "source": [
    "### [Opcional] 2.3 Potencia del test\n",
    "\n",
    "Nuestra muestra, ¿era lo suficientemente grande para detectar si existe o no una diferencia entre los grupos?\n",
    "\n",
    "1. Utilice la función `tt_ind_solve_power` para calcular el tamaño necesario de la muestra para un poder estadístico de 0.8, 0.9 y 0.95, asumiendo una significancia estadística de 0.05.\n",
    "2. ¿Cómo intepretan el poder estadístico de un test? Dado su conocimiento de dominio sobre los datos, ¿les parece que esta muestra es lo suficientemente grande para ser representativo de la tendencia general? ¿y para utilizarlo en un juicio penal contra una empresa XX por una causa de discriminación?\n",
    "\n",
    "[Documentación](https://www.statsmodels.org/stable/generated/statsmodels.stats.power.tt_ind_solve_power.html)\n",
    "\n",
    "NOTA: este análisis debería hacerse ANTES de recolectar los datos."
   ]
  },
  {
   "cell_type": "code",
   "execution_count": null,
   "metadata": {
    "executionInfo": {
     "elapsed": 267,
     "status": "ok",
     "timestamp": 1680803896003,
     "user": {
      "displayName": "Laura Minuet",
      "userId": "00787725849952937741"
     },
     "user_tz": 180
    },
    "id": "_IiqGfo4t6Db"
   },
   "outputs": [],
   "source": [
    "from statsmodels.stats.power import tt_ind_solve_power"
   ]
  },
  {
   "cell_type": "code",
   "execution_count": null,
   "metadata": {
    "executionInfo": {
     "elapsed": 6,
     "status": "ok",
     "timestamp": 1680804108074,
     "user": {
      "displayName": "Laura Minuet",
      "userId": "00787725849952937741"
     },
     "user_tz": 180
    },
    "id": "LUQ7MA2Apj9x"
   },
   "outputs": [],
   "source": [
    "effect_size = (groupA.mean() - groupB.mean()) / groupB.std()\n",
    "# nobs1=None  - What we want to know\n",
    "alpha = 0.05\n",
    "ratio = len(groupB) / len(groupA)\n",
    "power = 0.8\n",
    "tt_ind_solve_power(effect_size=effect_size, alpha=alpha, power=power, ratio=ratio)"
   ]
  },
  {
   "cell_type": "code",
   "execution_count": null,
   "metadata": {
    "colab": {
     "base_uri": "https://localhost:8080/"
    },
    "executionInfo": {
     "elapsed": 545,
     "status": "ok",
     "timestamp": 1680804112189,
     "user": {
      "displayName": "Laura Minuet",
      "userId": "00787725849952937741"
     },
     "user_tz": 180
    },
    "id": "cvHcpY-3ty8Q",
    "outputId": "9758dcd3-c6ea-4634-9cf6-7b1810c66113"
   },
   "outputs": [],
   "source": [
    "effect_size = (groupA.mean() - groupB.mean()) / groupB.std()\n",
    "# nobs1=None  - What we want to know\n",
    "alpha = 0.05\n",
    "ratio = len(groupB) / len(groupA)\n",
    "power = 0.9\n",
    "tt_ind_solve_power(effect_size=effect_size, alpha=alpha, power=power, ratio=ratio)"
   ]
  },
  {
   "cell_type": "code",
   "execution_count": null,
   "metadata": {},
   "outputs": [],
   "source": [
    "effect_size = (groupA.mean() - groupB.mean()) / groupB.std()\n",
    "# nobs1=None  - What we want to know\n",
    "alpha = 0.05\n",
    "ratio = len(groupB) / len(groupA)\n",
    "power = 0.95\n",
    "tt_ind_solve_power(effect_size=effect_size, alpha=alpha, power=power, ratio=ratio)"
   ]
  },
  {
   "cell_type": "markdown",
   "metadata": {},
   "source": [
    "Esto nos dice que para asegurar una probabilidad de 0.8, 0.9 y 0.95 de rechazar correctamente la hipótesis nula (en caso de que la alternativa sea cierta), necesitamos tener un número de muestras del primer grupo (`groupA`, `\"Varón cis\"`) de al menos 199, 266 y 328, respectivamente."
   ]
  },
  {
   "cell_type": "markdown",
   "metadata": {
    "id": "useKMdPyMod5"
   },
   "source": [
    "## Ejercicio 3: Comunicación y visualización\n",
    "\n",
    "**Consigna:** Seleccionen un resultado que les parezca relevante a partir de alguno de los ejercicios del entregable. Diseñe e implemente una comunicación en base a este mensaje, en un archivo PDF.\n",
    "\n",
    "Elija las palabras y visualización más adecuada para que la comunicación sea entendible, efectiva y se dapte a UNA de las siguientes situaciones:\n",
    "\n",
    "1. Una sección en un artículo de difusión a presentar como parte de una organización sin fines de lucro.\n",
    "No más de 1 página A4 (o dos si los gráficos son muy grandes).\n",
    "    1. Ejemplo: Alguna de las secciones [Los ecosistemas de emprendimiento de América Latina y el Caribe frente al COVID-19: Impactos, necesidades y recomendaciones](https://publications.iadb.org/es/los-ecosistemas-de-emprendimiento-de-america-latina-y-el-caribe-frente-al-covid-19-impactos-necesidades-y-recomendaciones), por ejemplo la sección *2.2. Reacciones de los emprendedores*.\n",
    "    2. Ejemplo: Alguna de las secciones de [The state of gender pay gap in 2021](https://www.payscale.com/data/gender-pay-gap?tk=carousel-ps-rc-job)\n",
    "    3. Puntos clave: \n",
    "        1. Simpleza de los gráficos.\n",
    "        2. Comunicación en lenguaje simple a personas que no son necesariamente expertos de dominio.\n",
    "        2. Selección de UNA oración sobre la que se hace énfasis.\n",
    "        3. No es necesario que mencionen objetivos ni descripciones del conjunto de datos, se supone que eso ya estaría explicado en otras secciones del informe.\n",
    "\n",
    "2. Una publicación científica o reporte técnico interno. No más de una página A4:\n",
    "    2. Ejemplo: La sección de resultados de [IZA DP No. 12914: The Impact of a Minimum Wage Change on the Distribution of Wages and Household Income](https://www.iza.org/publications/dp/12914/the-impact-of-a-minimum-wage-change-on-the-distribution-of-wages-and-household-income).\n",
    "    2. Ejemplo: Alguna de las secciones de [Temporary reduction in daily global CO2 emissions during the COVID-19 forced confinement](https://www.nature.com/articles/s41558-020-0797-x)\n",
    "    3. Puntos clave:\n",
    "        3. Nivel de detalle técnico requerido. Es necesario justificar la validez del análisis.\n",
    "        4. La idea presentada puede ser más compleja. Pueden asumir que la audiencia tiene conocimiento técnico y va a analizar las visualizaciones en detalle. \n",
    "        5. Pueden presentar más en detalle las limitaciones del análisis (significancia estadística, etc.)\n",
    "        2. No es necesario que mencionen objetivos ni descripciones del conjunto de datos, se supone que eso ya estaría explicado en otras secciones del informe.\n",
    "\n",
    "3. Un tweet (o post de LinkedIn) para la cuenta de su empresa consultora que hace análisis de datos. El objetivo es promocionar un análisis de datos abiertos que van a incluir en su portfolio:\n",
    "    1. Ejemplo: [Comparación vacunas covid](https://twitter.com/infobeautiful/status/1381577746527236098?s=20)\n",
    "    2. Ejemplo: [Tweet del BID](https://twitter.com/el_BID/status/1388508583944507396?s=20). Lo valioso de este tweet es que usaron un único número para transmitir un mensaje. Puede ser algo así, o con un gráfico muy simple.\n",
    "    3. Ejemplo: [Cambio climático](https://twitter.com/UNFCCC/status/1387732156190011394?s=20) Es un muy buen ejemplo, excepto que el gráfico no se lee nada y hay que entrar a la publicación original.\n",
    "    3. Ejemplo: [¿Cuánto están los programadores en las empresas?](https://www.linkedin.com/posts/denis-rothman-0b034043_tech-career-work-activity-6793861923269054464-gS6y) (No verificamos la veracidad o seriedad de la fuente).\n",
    "    4. Puntos clave:\n",
    "        1. Su audiencia no va a mirar la visualización por más de unos segundos, y no tiene conocimiento técnico.\n",
    "    3. Tienen que incluir además una *breve* descripción de cómo obtuvieron los datos que están presentando, que no entraría en el tweet.\n"
   ]
  },
  {
   "cell_type": "markdown",
   "metadata": {
    "id": "twwYHUztt45L"
   },
   "source": [
    "Elegimos hacer el 3. en la carpeta esta adjuntada la imagen del tweet. "
   ]
  },
  {
   "cell_type": "code",
   "execution_count": null,
   "metadata": {},
   "outputs": [],
   "source": []
  }
 ],
 "metadata": {
  "colab": {
   "provenance": [
    {
     "file_id": "1eRVO67kXRzLyGihvtbJN10b505_nLyr9",
     "timestamp": 1680785378814
    },
    {
     "file_id": "1xPL68eVaR0UF7XTcLU1rCMfpzuS7r6s0",
     "timestamp": 1617233082473
    },
    {
     "file_id": "1bChseZSrdGJSXfa-D2_lS0dx98wplQtD",
     "timestamp": 1614968149245
    }
   ]
  },
  "kernelspec": {
   "display_name": "Python 3 (ipykernel)",
   "language": "python",
   "name": "python3"
  },
  "language_info": {
   "codemirror_mode": {
    "name": "ipython",
    "version": 3
   },
   "file_extension": ".py",
   "mimetype": "text/x-python",
   "name": "python",
   "nbconvert_exporter": "python",
   "pygments_lexer": "ipython3",
   "version": "3.8.3"
  }
 },
 "nbformat": 4,
 "nbformat_minor": 1
}
