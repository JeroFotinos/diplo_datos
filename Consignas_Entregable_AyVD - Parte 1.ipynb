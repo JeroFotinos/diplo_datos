{
 "cells": [
  {
   "cell_type": "markdown",
   "metadata": {
    "id": "LYvAOR2VzHmW"
   },
   "source": [
    "\n",
    "**Diplomatura en Ciencia de Datos, Aprendizaje Automático y sus Aplicaciones**\n",
    "\n",
    "**Edición 2023**\n",
    "\n",
    "---\n",
    "# Trabajo práctico entregable - Parte 1"
   ]
  },
  {
   "cell_type": "code",
   "execution_count": null,
   "metadata": {
    "executionInfo": {
     "elapsed": 743,
     "status": "ok",
     "timestamp": 1680803577547,
     "user": {
      "displayName": "Laura Minuet",
      "userId": "00787725849952937741"
     },
     "user_tz": 180
    },
    "id": "Xwdfo7z20TUK"
   },
   "outputs": [],
   "source": [
    "import io\n",
    "import matplotlib\n",
    "import matplotlib.pyplot as plt\n",
    "import numpy as np\n",
    "import pandas as pd\n",
    "import seaborn as sns\n",
    "import pandasql as pdsql\n",
    "from typing import List"
   ]
  },
  {
   "cell_type": "code",
   "execution_count": null,
   "metadata": {},
   "outputs": [],
   "source": [
    "# Utils\n",
    "# TODO: Create a module for these functions\n",
    "\n",
    "\n",
    "def filter_extreme_rows(df: pd.DataFrame, column_list: List[str]):\n",
    "    \"\"\"Returns the inputed pandas.DataFrame with the outliers excluded.\"\"\"\n",
    "    # Iterate over the columns and filter out the rows with extreme values\n",
    "    for column in column_list:\n",
    "        q1 = df[column].quantile(0.25)\n",
    "        q3 = df[column].quantile(0.75)\n",
    "        iqr = q3 - q1\n",
    "        lower_bound = q1 - 1.5 * iqr\n",
    "        upper_bound = q3 + 1.5 * iqr\n",
    "        df = df[(df[column] >= lower_bound) & (df[column] <= upper_bound)]\n",
    "\n",
    "    return df"
   ]
  },
  {
   "cell_type": "markdown",
   "metadata": {
    "id": "XY2Hl-Ma07Nn"
   },
   "source": [
    "## Lectura del data set\n",
    "\n",
    "En la notebook 00 se explican los detalles de la siguiente sección."
   ]
  },
  {
   "cell_type": "code",
   "execution_count": null,
   "metadata": {
    "executionInfo": {
     "elapsed": 1525,
     "status": "ok",
     "timestamp": 1680803579067,
     "user": {
      "displayName": "Laura Minuet",
      "userId": "00787725849952937741"
     },
     "user_tz": 180
    },
    "id": "Vviv_sqXdR5W"
   },
   "outputs": [],
   "source": [
    "url = \"https://raw.githubusercontent.com/DiploDatos/AnalisisyVisualizacion/master/sysarmy_survey_2022_processed.csv\"\n",
    "df = pd.read_csv(url)"
   ]
  },
  {
   "cell_type": "markdown",
   "metadata": {},
   "source": [
    "## Inspección general del data set"
   ]
  },
  {
   "cell_type": "code",
   "execution_count": null,
   "metadata": {
    "colab": {
     "base_uri": "https://localhost:8080/",
     "height": 341
    },
    "executionInfo": {
     "elapsed": 8,
     "status": "ok",
     "timestamp": 1680803584733,
     "user": {
      "displayName": "Laura Minuet",
      "userId": "00787725849952937741"
     },
     "user_tz": 180
    },
    "id": "gckNHXXLktJ4",
    "outputId": "bc293c9b-10f8-4d61-fa80-2cbf89ab28e1"
   },
   "outputs": [],
   "source": [
    "# first, we visualize the first 5 rows and the corresponding columns\n",
    "df.head()"
   ]
  },
  {
   "cell_type": "code",
   "execution_count": null,
   "metadata": {},
   "outputs": [],
   "source": [
    "# then, we look at the number of rows and columns\n",
    "df.shape"
   ]
  },
  {
   "cell_type": "code",
   "execution_count": null,
   "metadata": {},
   "outputs": [],
   "source": [
    "# Let us now see the list of columns\n",
    "df.columns"
   ]
  },
  {
   "cell_type": "code",
   "execution_count": null,
   "metadata": {},
   "outputs": [],
   "source": [
    "# Let's check the data types of each column and Non-Null Count.\n",
    "df.info()"
   ]
  },
  {
   "cell_type": "code",
   "execution_count": null,
   "metadata": {},
   "outputs": [],
   "source": [
    "# To finish this first inspection of the data, let's look at some\n",
    "# basic statistics of the numerical columns of the DataFrame\n",
    "df.describe()"
   ]
  },
  {
   "cell_type": "markdown",
   "metadata": {
    "id": "-ZSQYANFHHgV"
   },
   "source": [
    "---\n",
    "\n",
    "# Ejercicio 1 - Análisis descriptivo\n",
    "\n",
    "Responder a la pregunta: **¿Cuáles son los lenguajes de programación asociados a los mejores salarios?**\n",
    "\n",
    "Para ello:\n",
    "1. Seleccionar las columnas relevantes para analizar.\n",
    "2. Seleccionar las filas relevantes para analizar. Esto incluye la eliminación de valores extremos y erróneos, pero también puede enfocar el análisis en una sub-población. Por ejemplo, se pueden limitar a personas con un salario mayor que 10000 pesos, o a las personas que trabajan sólo en \"Data Science\", pero deben justificar su elección y reformular la pregunta inicial de ser necesario.\n",
    "  * Obtener una lista de los lenguajes de programación más populares. Decidir cuántos y cuáles seleccionan para incluir en el análisis.\n",
    "  * Para cada una de las otras columnas del punto anterior, elegir los rangos o valores seleccionan para incluir en el análisis.\n",
    "3. Seleccionar métricas que ayuden a responder la pregunta, y los métodos para analizarlas. Elegir UNA de las siguientes opciones:\n",
    "  * Comparar las distribuciones de salario para cada lenguaje utilizando visualizaciones. Como la visualización es el producto final, debe ser clara y mostrar información relevante.\n",
    "  * Comparar medidas de estadística descriptiva sobre la distribución de salario para cada lenguaje. Sean creativos, la estadística descriptiva nos permite decir cosas como: \"el 10% de los mejores sueldos los ganan, en su mayoría, programadores que saben kotlin!\" (donde *mayoría* es un término medio engañoso que sólo significa más del 50%). Para comparar múltiples lenguajes, les recomendamos usar también visualizaciones.\n",
    "  * Comparar probabilidades. Por ejemplo: \"Si sabés Python o Java, tenés un 30% más de chances de ganar arriba de 100K\".\n",
    "\n",
    "Si lo consideran necesario, realicen varias iteraciones. Es decir, si encuentran que las distribuciones de los lenguajes de programación que seleccionaron inicialmente no son muy diferentes, pueden re-hacer el análisis usando sólo los lenguajes de programación que son diferentes."
   ]
  },
  {
   "cell_type": "markdown",
   "metadata": {},
   "source": [
    "## 1.1 Selección de columnas relevantes\n",
    "\n",
    "Las columnas relevantes van a depender de cuál sea exactamente nuestra pregunta, pero separamos las que pueden estar relacionadas con la relación entre salario y lenguaje de programación:\n",
    "- `'work_contract_type'`, e.g.: Remoto, Staff, etc.;\n",
    "- `'Trabajo de'`, posiblemente asociada al lenguaje;\n",
    "- `'profile_years_experience'`;\n",
    "- `'work_years_in_company'`;\n",
    "- `'work_work_modality'`."
   ]
  },
  {
   "cell_type": "code",
   "execution_count": null,
   "metadata": {},
   "outputs": [],
   "source": [
    "df[\"work_contract_type\"].unique()"
   ]
  },
  {
   "cell_type": "code",
   "execution_count": null,
   "metadata": {},
   "outputs": [],
   "source": [
    "df[\"Trabajo de\"].unique()"
   ]
  },
  {
   "cell_type": "code",
   "execution_count": null,
   "metadata": {},
   "outputs": [],
   "source": [
    "df[\"profile_years_experience\"].unique()"
   ]
  },
  {
   "cell_type": "code",
   "execution_count": null,
   "metadata": {},
   "outputs": [],
   "source": [
    "df[\"work_years_in_company\"].unique()"
   ]
  },
  {
   "cell_type": "code",
   "execution_count": null,
   "metadata": {},
   "outputs": [],
   "source": [
    "df[\"work_work_modality\"].unique()"
   ]
  },
  {
   "cell_type": "code",
   "execution_count": null,
   "metadata": {},
   "outputs": [],
   "source": [
    "df[\"tools_programming_languages\"].unique()\n",
    "df.columns"
   ]
  },
  {
   "cell_type": "markdown",
   "metadata": {},
   "source": [
    "## 1.2 Selección de filas relevantes\n",
    "\n",
    "Seleccionamos las filas excluyendo outliers, e incluyendo sólo filas que cumplan con los siguientes criterios:\n",
    "- `salary_monthly_BRUTO > 10000`\n",
    "- `salary_monthly_NETO > 10000`\n",
    "- `salary_monthly_BRUTO > salary_monthly_NETO`\n",
    "\n",
    "Además, para evitar los casos de un uso altamente específico de un lenguaje de programación (de nicho), filtraremos luego los lenguajes de programación cuya frecuencia absoluta sea mayor a 300 (cota ad hoc)."
   ]
  },
  {
   "cell_type": "code",
   "execution_count": null,
   "metadata": {},
   "outputs": [],
   "source": [
    "df = filter_extreme_rows(df, [\"salary_monthly_BRUTO\", \"salary_monthly_NETO\"])\n",
    "df = pdsql.sqldf(\n",
    "    \"SELECT * FROM df WHERE salary_monthly_BRUTO > 10000 AND salary_monthly_NETO > 10000 AND salary_monthly_BRUTO > salary_monthly_NETO\"\n",
    ")"
   ]
  },
  {
   "cell_type": "markdown",
   "metadata": {},
   "source": [
    "---\n",
    "\n",
    "### Lenguajes de programación más populares\n",
    "\n",
    "Notar que respuestas como `'CSS, HTML, Java, Javascript, SQL, TypeScript'` hay que parsearlas antes de poder hacer el conteo de frecuencias. Además, hay que limpiar los espacios en blanco y las diferencias en capitalización.\n",
    "\n",
    "Luego de hacer esto, realizamos un gráfico de barras con frecuencia descendiente para visualizar los lenguajes más populares."
   ]
  },
  {
   "cell_type": "code",
   "execution_count": null,
   "metadata": {},
   "outputs": [],
   "source": [
    "# Initialize an empty dictionary to store the salary data for each language\n",
    "language_salary_data = {}\n",
    "\n",
    "# Iterate over each row in the DataFrame\n",
    "for index, row in df.iterrows():\n",
    "    # Convert the value in the 'tools_programming_languages' column to a string, then split it by comma\n",
    "    languages = str(row[\"tools_programming_languages\"]).lower().split(\",\")\n",
    "    # Iterate over each programming language in the list\n",
    "    for language in languages:\n",
    "        # Clean the language string by removing leading/trailing spaces\n",
    "        language = language.strip()\n",
    "        # Check if the language is already in the dictionary\n",
    "        if language in language_salary_data:\n",
    "            # If it is, append the salary to the existing list of salaries for that language\n",
    "            language_salary_data[language].append(row[\"salary_monthly_NETO\"])\n",
    "        else:\n",
    "            # If it is not, create a new key-value pair in the dictionary for the language and its salary data\n",
    "            language_salary_data[language] = [row[\"salary_monthly_NETO\"]]\n",
    "\n",
    "# Filter the language salary data dictionary to include only the languages that have more than twenty salary data point\n",
    "language_salary_data_filtered = {\n",
    "    language: salaries\n",
    "    for language, salaries in language_salary_data.items()\n",
    "    if len(salaries) > 300  # 300 because of reasons (?\n",
    "}\n",
    "\n",
    "# Initialize an empty list to store the statistics for each language\n",
    "language_salary_stats = []\n",
    "\n",
    "# Iterate over each language in the filtered dictionary\n",
    "for language in language_salary_data_filtered:\n",
    "    # Calculate the statistics for the salaries for that language\n",
    "    salary_stats = [\n",
    "        language,\n",
    "        np.mean(language_salary_data_filtered[language]),\n",
    "        np.median(language_salary_data_filtered[language]),\n",
    "        np.std(language_salary_data_filtered[language]),\n",
    "        len(language_salary_data_filtered[language]),\n",
    "    ]\n",
    "    # Append the statistics to the list of language statistics\n",
    "    language_salary_stats.append(salary_stats)\n",
    "\n",
    "# Create a DataFrame from the list of language statistics and name the columns\n",
    "df_salary_stats = pd.DataFrame(\n",
    "    language_salary_stats,\n",
    "    columns=[\"Language\", \"Mean Salary\", \"Median Salary\", \"Standard Deviation\", \"Count\"],\n",
    ")\n",
    "\n",
    "# Sort the DataFrame by frequency in descending order\n",
    "df_salary_stats = df_salary_stats.sort_values(by=\"Count\", ascending=False)\n",
    "\n",
    "# Print the result\n",
    "df_salary_stats"
   ]
  },
  {
   "cell_type": "code",
   "execution_count": null,
   "metadata": {},
   "outputs": [],
   "source": [
    "# Style\n",
    "sns.set_style(\"darkgrid\")\n",
    "plt.figure(figsize=(9, 8))\n",
    "\n",
    "sns.barplot(\n",
    "    data=df_salary_stats.query('Language != \"ninguno de los anteriores\"').sort_values(\n",
    "        by=\"Count\", ascending=False\n",
    "    ),\n",
    "    x=\"Count\",\n",
    "    y=\"Language\",\n",
    "    palette=\"magma\",\n",
    ")\n",
    "plt.show()"
   ]
  },
  {
   "cell_type": "markdown",
   "metadata": {},
   "source": [
    "### Primera exploración a la distribución de salarios por lenguaje\n",
    "\n",
    "Repetimos lo anterior, pero esta vez ordenando según el salario medio por lenguaje, en orden decreciente."
   ]
  },
  {
   "cell_type": "code",
   "execution_count": null,
   "metadata": {},
   "outputs": [],
   "source": [
    "# I sorted by count before to assess popularity, now I sort by mean salary to get closer to our question\n",
    "df_salary_stats = df_salary_stats.sort_values(by=\"Mean Salary\", ascending=False)\n",
    "df_salary_stats"
   ]
  },
  {
   "cell_type": "code",
   "execution_count": null,
   "metadata": {},
   "outputs": [],
   "source": [
    "# Style\n",
    "sns.set_style(\"darkgrid\")\n",
    "plt.figure(figsize=(9, 8))\n",
    "\n",
    "sns.barplot(\n",
    "    data=df_salary_stats.query('Language != \"ninguno de los anteriores\"'),\n",
    "    x=\"Mean Salary\",\n",
    "    y=\"Language\",\n",
    "    palette=\"magma\",\n",
    ")\n",
    "plt.show()\n",
    "# for the record, the following doesn't work\n",
    "# errorbar=df_salary_stats['Standard Deviation']"
   ]
  },
  {
   "cell_type": "markdown",
   "metadata": {},
   "source": [
    "Notar que, debido a que en general los programadores saben más de un lenguaje, el gráfico anterior no indica de manera directa qué lenguajes son mejores pagos. Un lenguaje podría tener una media de salario alta debido a su aparición conjunta con otro lenguaje altamente remunerado. Esta relación podría ser causal, caso en el que el lenguaje genuinamente tendría una correlación con un salario más alto, o casual, y deberíamos contrastar con nueva información (o con un subconjunto de testeo del data set inicial) para distinguir entre ambas situaciones.\n",
    "\n",
    "Otra posibilidad, es que haya una correlación entre saber dos lenguajes que no sea causal ni casual. Saber uno no influye en saber el otro, pero, e.g., a los programadores que usan un lenguaje les suele gustar también el otro. En este caso, si uno de ellos es bien pagado en el mercado y el otro no, ambos correlacionarán con salarios más altos, pero mientras que saber uno de ellos causaría, en principio, que uno gane más, el saber el otro no, y simplemente podrá usarse como un indicador que correlaciona con salarios más altos."
   ]
  },
  {
   "cell_type": "markdown",
   "metadata": {},
   "source": [
    "### Número de lenguajes por programador\n",
    "\n",
    "Una pregunta relacionada a lo anterior, es si el número de lenguajes que un programador sabe influye en su salario, independientemente de cuáles sean estos. Para evaluar esto, comenzamos graficando el histograma de frecuencias para el número de lenguajes por programador."
   ]
  },
  {
   "cell_type": "code",
   "execution_count": null,
   "metadata": {
    "scrolled": false
   },
   "outputs": [],
   "source": [
    "# Count the number of programming languages for each respondent\n",
    "languages_per_programmer = (\n",
    "    df[\"tools_programming_languages\"]\n",
    "    .fillna(\"\")\n",
    "    .str.split(\",\")\n",
    "    .apply(lambda x: len([str(lang).strip() for lang in x]))\n",
    ")\n",
    "\n",
    "# Plot the distribution of the number of programming languages per programmer as a histogram\n",
    "sns.histplot(\n",
    "    languages_per_programmer, bins=range(1, 16), discrete=True, stat=\"probability\"\n",
    ")\n",
    "plt.xticks(range(1, 16))\n",
    "plt.xlabel(\"Number of programming languages\")\n",
    "plt.ylabel(\"Relative frequency\")\n",
    "plt.xlim(0.5, 15.5)\n",
    "plt.show()"
   ]
  },
  {
   "cell_type": "markdown",
   "metadata": {},
   "source": [
    "Como podemos observar, el número de lenguajes sigue de manera aproximada una distribución que parece corresponder a una ley de potencias. Veamos ahora el salario medio en función del número de lenguajes."
   ]
  },
  {
   "cell_type": "code",
   "execution_count": null,
   "metadata": {},
   "outputs": [],
   "source": [
    "# Define the data\n",
    "languages_per_programmer = (\n",
    "    df[\"tools_programming_languages\"]\n",
    "    .fillna(\"\")\n",
    "    .str.split(\",\")\n",
    "    .apply(lambda x: len([str(lang).strip() for lang in x]))\n",
    ")\n",
    "salary = df[\"salary_monthly_NETO\"]\n",
    "\n",
    "# Combine the data into a new dataframe\n",
    "data = pd.concat([languages_per_programmer, salary], axis=1)\n",
    "\n",
    "# Filter out entries with more than 15 programming languages\n",
    "data = data[data[\"tools_programming_languages\"] <= 15]\n",
    "\n",
    "# Calculate the mean salary and standard deviation for each number of programming languages\n",
    "mean_salary = data.groupby(\"tools_programming_languages\").mean().reset_index()\n",
    "std_salary = data.groupby(\"tools_programming_languages\").std().reset_index()\n",
    "\n",
    "# Create the plot with error bars\n",
    "sns.barplot(\n",
    "    x=\"tools_programming_languages\",\n",
    "    y=\"salary_monthly_NETO\",\n",
    "    data=data,\n",
    "    palette=\"magma\",\n",
    "    errorbar=\"se\",\n",
    ")\n",
    "\n",
    "# I'm setting the inferior limit to zero, since error bars get to negative values cause thery are taken symmetric\n",
    "plt.ylim(0, 500000)\n",
    "\n",
    "# Set the axis labels and title\n",
    "plt.xlabel(\"Number of programming languages\")\n",
    "plt.ylabel(\"Monthly net salary (ARS)\")\n",
    "plt.title(\"Salary vs number of programming languages\")\n",
    "plt.show()"
   ]
  },
  {
   "cell_type": "markdown",
   "metadata": {},
   "source": [
    "Esto parece indicar un ligero aumento de la media salarial a medida que el programador sabe un mayor número de lenguajes. Sin embargo, disponemos de pocos datos para los números de lenguajes por programador más altos."
   ]
  },
  {
   "cell_type": "markdown",
   "metadata": {},
   "source": [
    "### Correlación entre el salario y los años de experiencia / en la compañía\n",
    "\n",
    "Para ver hasta qué punto las columnas `profile_years_experience` y `work_years_in_company`, que supusimos podían relacionarse con el salario, lo están, hacemos los gráficos de pares entre estas y la columna `salary_monthly_NETO`. Además, calculamos la matriz de correlación, y luego la visualizamos como un mapa de calor."
   ]
  },
  {
   "cell_type": "code",
   "execution_count": null,
   "metadata": {
    "executionInfo": {
     "elapsed": 637,
     "status": "ok",
     "timestamp": 1680803590824,
     "user": {
      "displayName": "Laura Minuet",
      "userId": "00787725849952937741"
     },
     "user_tz": 180
    },
    "id": "6dqTEr7cZgvl"
   },
   "outputs": [],
   "source": [
    "relevant_columns = [\n",
    "    \"tools_programming_languages\",\n",
    "    \"salary_monthly_NETO\",\n",
    "    \"work_contract_type\",\n",
    "    \"Trabajo de\",\n",
    "    \"profile_years_experience\",\n",
    "    \"work_years_in_company\",\n",
    "    \"work_work_modality\",\n",
    "]"
   ]
  },
  {
   "cell_type": "code",
   "execution_count": null,
   "metadata": {},
   "outputs": [],
   "source": [
    "df1 = df[relevant_columns]"
   ]
  },
  {
   "cell_type": "code",
   "execution_count": null,
   "metadata": {},
   "outputs": [],
   "source": [
    "sns.pairplot(data=df1)\n",
    "plt.show()"
   ]
  },
  {
   "cell_type": "code",
   "execution_count": null,
   "metadata": {},
   "outputs": [],
   "source": [
    "columns_to_correlate = [\n",
    "    \"salary_monthly_NETO\",\n",
    "    \"profile_years_experience\",\n",
    "    \"work_years_in_company\",\n",
    "]\n",
    "df_corr = df[columns_to_correlate].dropna().corr()\n",
    "df_corr"
   ]
  },
  {
   "cell_type": "code",
   "execution_count": null,
   "metadata": {
    "scrolled": false
   },
   "outputs": [],
   "source": [
    "# heatmap to better visualize this\n",
    "sns.heatmap(df_corr, annot=True)\n",
    "plt.show()"
   ]
  },
  {
   "cell_type": "markdown",
   "metadata": {},
   "source": [
    "En los gráficos de pares, el segundo y tercer gráfico de la primera fila nos muestran que, para los valores de años que tenemos registrados, los datos se esparcen a lo largo del eje de salario neto, sin mostrar ninguna tendencia aparente. Esto es corroborado luego por los bajos valores de la matriz de correlación que corresponden a estos gráficos. Esto nos indica que en principio no sería necesario tener en cuenta estas columnas a la hora de evaluar el lenguaje mejor pago."
   ]
  },
  {
   "cell_type": "markdown",
   "metadata": {
    "id": "OoGgzMvuEocM"
   },
   "source": [
    "### Visualización más detallada de la distribución de salarios por lenguaje\n",
    "\n",
    "Para tener una mejor idea de la distribución de salarios por lenguaje que simplemente la distribución de las medias, visualizamos a la misma en diversas formas, para poder elegir el gráfico que mejor comunique (a ser presentado como respuesta al punto 3 en la sección siguiente). A estos gráficos, los realizamos ordenando los lenguajes en orden de media salarial decreciente de arriba hacia abajo."
   ]
  },
  {
   "cell_type": "code",
   "execution_count": null,
   "metadata": {
    "colab": {
     "base_uri": "https://localhost:8080/",
     "height": 241
    },
    "executionInfo": {
     "elapsed": 2082,
     "status": "ok",
     "timestamp": 1680803607633,
     "user": {
      "displayName": "Laura Minuet",
      "userId": "00787725849952937741"
     },
     "user_tz": 180
    },
    "id": "PAQ81x3iUP_N",
    "outputId": "d3b30292-1f23-4389-d5f9-b966758a43fb"
   },
   "outputs": [],
   "source": [
    "# Convert the comma-separated string of languages to a list of string.\n",
    "# Remove 'ninguno de los anteriores' option, spaces and training commas.\n",
    "def split_languages(languages_str):\n",
    "    if not isinstance(languages_str, str):\n",
    "        return []\n",
    "    # Remove 'other' option\n",
    "    languages_str = languages_str.lower().replace(\"ninguno de los anteriores\", \"\")\n",
    "    # Split string into list of items\n",
    "    # Remove spaces and commas for each item\n",
    "    return [lang.strip().replace(\",\", \"\") for lang in languages_str.split()]\n",
    "\n",
    "\n",
    "# Create a new column with the list of languages\n",
    "df.loc[:, \"cured_programming_languages\"] = df.tools_programming_languages.apply(\n",
    "    split_languages\n",
    ")\n",
    "if \"cured_programming_languages\" not in relevant_columns:\n",
    "    relevant_columns.append(\"cured_programming_languages\")\n",
    "\n",
    "# Duplicate each row of df for each programming language\n",
    "# mentioned in the response.\n",
    "# We only include in df_lang the columns we are going to analyze later, so we\n",
    "# don't duplicate innecesary information.\n",
    "df_lang = (\n",
    "    df.cured_programming_languages.apply(pd.Series)\n",
    "    .stack()\n",
    "    .reset_index(level=-1, drop=True)\n",
    "    .to_frame()\n",
    "    .join(df[relevant_columns])\n",
    "    .rename(columns={0: \"programming_language\"})\n",
    ")\n",
    "# Horrible programming style! But a lot of data science code can be written\n",
    "# as a concatenation of functions (pipelines), and there's no elegant way of\n",
    "# doing that on Python.\n",
    "# df_lang[:5]"
   ]
  },
  {
   "cell_type": "code",
   "execution_count": null,
   "metadata": {
    "colab": {
     "base_uri": "https://localhost:8080/",
     "height": 363
    },
    "executionInfo": {
     "elapsed": 382,
     "status": "ok",
     "timestamp": 1680803641068,
     "user": {
      "displayName": "Laura Minuet",
      "userId": "00787725849952937741"
     },
     "user_tz": 180
    },
    "id": "lNPb4tTvWCwv",
    "outputId": "2385537d-f510-4967-b5ee-2533892a26e8"
   },
   "outputs": [],
   "source": [
    "language_count = (\n",
    "    df_lang.programming_language.value_counts()\n",
    "    .reset_index()\n",
    "    .rename(columns={\"index\": \"language\", \"programming_language\": \"frequency\"})\n",
    ")\n",
    "# language_count[:10]\n",
    "# En la columna `programming_language` se encuentra cada lenguaje por separado.\n",
    "# Notar que si una respuesta contenía 3 lenguajes, como `\"HTML, Javascript, Python\"`,\n",
    "# la fila ha sido replicada 3 veces. Por ello, hay tres filas con índice 1."
   ]
  },
  {
   "cell_type": "code",
   "execution_count": null,
   "metadata": {},
   "outputs": [],
   "source": [
    "df_lang_for_box_plot = df_lang.drop(\n",
    "    columns=[\"cured_programming_languages\"], inplace=False\n",
    ")\n",
    "query = \"\"\"\n",
    "SELECT df_lang_for_box_plot.programming_language, salary_monthly_NETO, language_count.frequency, language_salary.avg_salary\n",
    "FROM df_lang_for_box_plot\n",
    "LEFT JOIN\n",
    "(\n",
    "  SELECT programming_language, COUNT(*) AS frequency\n",
    "  FROM df_lang_for_box_plot\n",
    "  GROUP BY programming_language\n",
    "  HAVING frequency > 300\n",
    ") AS language_count ON language_count.programming_language = df_lang_for_box_plot.programming_language\n",
    "LEFT JOIN\n",
    "(\n",
    "  SELECT programming_language, AVG(salary_monthly_NETO) AS avg_salary\n",
    "  FROM df_lang_for_box_plot\n",
    "  GROUP BY programming_language\n",
    ") AS language_salary ON language_salary.programming_language = df_lang_for_box_plot.programming_language\n",
    "WHERE frequency IS NOT NULL\n",
    "ORDER BY avg_salary DESC\n",
    "\"\"\"\n",
    "\n",
    "df_lang_for_box_plot = pdsql.sqldf(query)\n",
    "\n",
    "sns.set_style(\"darkgrid\")\n",
    "plt.figure(figsize=(9, 8))\n",
    "\n",
    "ax = sns.boxplot(\n",
    "    y=df_lang_for_box_plot[\"programming_language\"],\n",
    "    x=df_lang_for_box_plot[\"salary_monthly_NETO\"],\n",
    ")\n",
    "ax.set(xlabel=\"Salario Neto Mensual\", ylabel=\"Lenguaje de programación\")\n",
    "ax.set_title(\"Distribución de Salario por Lenguaje\", fontsize=15)\n",
    "plt.show()"
   ]
  },
  {
   "cell_type": "code",
   "execution_count": null,
   "metadata": {},
   "outputs": [],
   "source": [
    "sns.set_style(\"darkgrid\")\n",
    "plt.figure(figsize=(9, 8))\n",
    "\n",
    "ax_to_present = sns.boxenplot(\n",
    "    y=df_lang_for_box_plot[\"programming_language\"],\n",
    "    x=df_lang_for_box_plot[\"salary_monthly_NETO\"],\n",
    ")\n",
    "ax_to_present.set(xlabel=\"Salario Neto Mensual\", ylabel=\"Lenguaje de programación\")\n",
    "ax_to_present.set_title(\"Distribución de Salario por Lenguaje\", fontsize=15)\n",
    "plt.show()"
   ]
  },
  {
   "cell_type": "code",
   "execution_count": null,
   "metadata": {},
   "outputs": [],
   "source": [
    "sns.set_style(\"darkgrid\")\n",
    "plt.figure(figsize=(9, 8))\n",
    "\n",
    "ax = sns.violinplot(\n",
    "    y=df_lang_for_box_plot[\"programming_language\"],\n",
    "    x=df_lang_for_box_plot[\"salary_monthly_NETO\"],\n",
    ")\n",
    "ax.set(xlabel=\"Salario Neto Mensual\", ylabel=\"Lenguaje de programación\")\n",
    "ax.set_title(\"Distribución de Salario por Lenguaje\", fontsize=15)\n",
    "plt.show()"
   ]
  },
  {
   "cell_type": "code",
   "execution_count": null,
   "metadata": {
    "scrolled": false
   },
   "outputs": [],
   "source": [
    "sns.set_style(\"darkgrid\")\n",
    "plt.figure(figsize=(9, 8))\n",
    "ax = sns.swarmplot(\n",
    "    y=df_lang_for_box_plot[\"programming_language\"],\n",
    "    x=df_lang_for_box_plot[\"salary_monthly_NETO\"],\n",
    "    size=1,\n",
    ")\n",
    "ax.set(xlabel=\"Salario Neto Mensual\", ylabel=\"Lenguaje de programación\")\n",
    "ax.set_title(\"Distribución de Salario por Lenguaje\", fontsize=15)\n",
    "plt.show()"
   ]
  },
  {
   "cell_type": "code",
   "execution_count": null,
   "metadata": {
    "scrolled": false
   },
   "outputs": [],
   "source": [
    "sns.set_style(\"darkgrid\")\n",
    "plt.figure(figsize=(9, 8))\n",
    "ax = sns.stripplot(\n",
    "    y=df_lang_for_box_plot[\"programming_language\"],\n",
    "    x=df_lang_for_box_plot[\"salary_monthly_NETO\"],\n",
    "    size=2,\n",
    ")\n",
    "ax.set(xlabel=\"Salario Neto Mensual\", ylabel=\"Lenguaje de programación\")\n",
    "ax.set_title(\"Distribución de Salario por Lenguaje\", fontsize=20)\n",
    "plt.show()"
   ]
  },
  {
   "cell_type": "markdown",
   "metadata": {},
   "source": [
    "## 1.3 Visualización de las distribuciones de salario para cada lenguaje\n",
    "\n",
    "El siguiente gráfico, compara las distribuciones de salario para los lenguajes que cuentan con más de 300 programadores encuestados, exculyendo outliers (de la distribución original) y donde el salario neto es mayor a $10000, ordenados de modo que el salario medio decrece de arriba hacia abajo.\n",
    "\n",
    "*Nota: Elegimos realizar un boxenplot, ya que consideramos que representa un punto intermedio entre un boxplot, que es simple pero no permite visualizar demasiada información (en particular para data sets grandes como este, se pierde el detalle de las colas de la distribución), y, e.g., un swarmplot, que brinda mucha información pero conlleva un aumento importante en complejidad.*"
   ]
  },
  {
   "cell_type": "code",
   "execution_count": null,
   "metadata": {},
   "outputs": [],
   "source": [
    "sns.set_style(\"darkgrid\")\n",
    "plt.figure(figsize=(10, 6))\n",
    "\n",
    "df3_filtered = filter_extreme_rows(df_lang_for_box_plot, [\"salary_monthly_NETO\"])\n",
    "ax_to_present = sns.boxenplot(\n",
    "    y=df3_filtered[\"programming_language\"],\n",
    "    x=df3_filtered[\"salary_monthly_NETO\"],\n",
    ")\n",
    "ax_to_present.set(xlabel=\"Salario Neto Mensual\", ylabel=\"Lenguaje de programación\")\n",
    "ax_to_present.set_title(\"Distribución de Salario por Lenguaje\", fontsize=15)\n",
    "plt.show()"
   ]
  },
  {
   "cell_type": "markdown",
   "metadata": {
    "id": "nThbJ1KeUgDo"
   },
   "source": [
    "## Filtrado de lenguajes relevantes\n",
    "\n",
    "El siguiente código permite seleccionar sólo las filas donde el valor de la columna `programming_language` se encuentre en la lista `interesting_languages`."
   ]
  },
  {
   "cell_type": "code",
   "execution_count": null,
   "metadata": {
    "colab": {
     "base_uri": "https://localhost:8080/",
     "height": 206
    },
    "executionInfo": {
     "elapsed": 9,
     "status": "ok",
     "timestamp": 1680803661103,
     "user": {
      "displayName": "Laura Minuet",
      "userId": "00787725849952937741"
     },
     "user_tz": 180
    },
    "id": "DEpVptnLZUQU",
    "outputId": "1bd12fb9-600d-46c4-92e8-6eaafad48b0d"
   },
   "outputs": [],
   "source": [
    "# Filter out languages that we want to exclude\n",
    "# Complete here with your selected list.\n",
    "interesting_languages = [\"python\", \"go\"]\n",
    "filtered_df_lang = df_lang[df_lang.programming_language.isin(interesting_languages)]\n",
    "# filtered_df_lang[:5]"
   ]
  },
  {
   "cell_type": "code",
   "execution_count": null,
   "metadata": {
    "scrolled": false
   },
   "outputs": [],
   "source": [
    "python_languages = [\"python\"]\n",
    "python_df_lang = df_lang[df_lang.programming_language.isin(python_languages)]\n",
    "\n",
    "go_languages = [\"go\"]\n",
    "go_df_lang = df_lang[df_lang.programming_language.isin(go_languages)]\n",
    "\n",
    "\n",
    "# sns.histplot(data=filtered_df_lang, x='salary_monthly_NETO', hue='programming_language', stat='density')\n",
    "sns.set_style(\"darkgrid\")\n",
    "plt.figure(figsize=(10, 6))\n",
    "\n",
    "sns.histplot(data=go_df_lang, x=\"salary_monthly_NETO\", label=\"Go\", stat=\"density\")\n",
    "sns.histplot(\n",
    "    data=python_df_lang, x=\"salary_monthly_NETO\", label=\"Python\", stat=\"density\"\n",
    ")\n",
    "ax_to_present.set(xlabel=\"Salario Neto Mensual\", ylabel=\"Density\")\n",
    "ax_to_present.set_title(\"Distribución de Salarios: Python vs Go\", fontsize=15)\n",
    "plt.legend()\n",
    "plt.show()"
   ]
  },
  {
   "cell_type": "markdown",
   "metadata": {},
   "source": [
    "Claramente es la cola ancha de la distribución lo que le da la ventaja a Go. A simple vista, la distribución para Go parece tener un sesgo menor que la de Python. Corroboremos esto."
   ]
  },
  {
   "cell_type": "code",
   "execution_count": null,
   "metadata": {},
   "outputs": [],
   "source": [
    "# calculate the median of the salaries\n",
    "python_median_salary = python_df_lang[\"salary_monthly_NETO\"].median()\n",
    "go_median_salary = go_df_lang[\"salary_monthly_NETO\"].median()\n",
    "\n",
    "# calculate the bias\n",
    "python_bias = abs(python_df_lang[\"salary_monthly_NETO\"] - python_median_salary).mean()\n",
    "go_bias = abs(go_df_lang[\"salary_monthly_NETO\"] - go_median_salary).mean()\n",
    "\n",
    "print(\"Python: \\n\")\n",
    "print(\"Median salary:\", python_median_salary)\n",
    "print(\"Bias:\", python_bias)\n",
    "print(\"\\nGo: \\n\")\n",
    "print(\"Median salary:\", go_median_salary)\n",
    "print(\"Bias:\", go_bias)"
   ]
  },
  {
   "cell_type": "markdown",
   "metadata": {
    "id": "tWo8SmmC9FAk"
   },
   "source": [
    "# Ejercicio 2 - Densidades y varias variables\n",
    "\n",
    "Responder a la pregunta general: **¿Que herramientas (prácticas y teóricas) són útiles para explorar la base, descubrir patrones, asociaciones?**\n",
    "\n",
    "Para ello considere (igual al ejercicio Anterior):\n",
    "1. Seleccionar las columnas relevantes para analizar.\n",
    "2. Seleccionar las filas relevantes para analizar. Esto incluye la eliminación de valores extremos y erróneos, pero también puede enfocar el análisis en sub-poblaciones. "
   ]
  },
  {
   "cell_type": "markdown",
   "metadata": {
    "id": "5baYhH0XHM3S"
   },
   "source": [
    "## a) Densidad conjunta\n",
    "\n",
    "Que herramientas visuales y modelos puede utilizar para estudiar la distribución y comportamiento de sus datos? \n",
    "\n",
    "Elija tres variables numéricas y 2 variables categóricas. Visualice la base según varias de las variables elegidas. Puede describir de alguna forma el comportamiento de sus datos? Que herramientas utilizaría? Describa\n",
    "\n",
    "\n"
   ]
  },
  {
   "cell_type": "markdown",
   "metadata": {},
   "source": [
    "### Respuesta:\n",
    "Como **herramientas visuales** para estudiar la distribucion y comportamiento de los datos se pueden usar boxplots, histogramas, diagramas de dispersion o relieve, heatmaps, etc. en funcion de lo que se busque analizar.\n",
    "Los **modelos** nos sirven como herramientas matematicas para realizar inferencias o sacar conclusiones, un ejemplo son las **Medidas de tendencia central**: media, mediana, moda; y las **Dedidas de Dispersion** como la desviación estándar, la varianza, y el coeficiente de variación."
   ]
  },
  {
   "cell_type": "markdown",
   "metadata": {},
   "source": [
    "Para elegir tres variables numericas, buscamos a continuacion entre todas las variables numericas relevantes, \n",
    "cuales son las que nos pueden ser de mayor utilidad. Para esto usamos un diagrama de correlacion."
   ]
  },
  {
   "cell_type": "code",
   "execution_count": null,
   "metadata": {},
   "outputs": [],
   "source": [
    "columns_to_correlate = [\n",
    "    \"salary_monthly_NETO\",\n",
    "    \"profile_years_experience\",\n",
    "    \"work_years_in_company\",\n",
    "    \"work_years_in_current_position\",\n",
    "    \"profile_age\",\n",
    "    \"salary_monthly_BRUTO\",\n",
    "]\n",
    "df_corr = df[columns_to_correlate].dropna().corr()\n",
    "df_corr"
   ]
  },
  {
   "cell_type": "markdown",
   "metadata": {},
   "source": [
    "Estas columnas ya fueron limpiadas en el punto 1, seleccionando las filas excluyendo outliers, e incluyendo sólo filas que cumplan con los siguientes criterios:\n",
    "- `salary_monthly_BRUTO > 10000`\n",
    "- `salary_monthly_NETO > 10000`\n",
    "- `salary_monthly_BRUTO > salary_monthly_NETO`\n",
    "\n",
    "El diagrama de correlacion obtenido es el siguiente:"
   ]
  },
  {
   "cell_type": "code",
   "execution_count": null,
   "metadata": {},
   "outputs": [],
   "source": [
    "# heatmap to better visualize this\n",
    "sns.heatmap(df_corr, annot=True)\n",
    "plt.show()"
   ]
  },
  {
   "cell_type": "markdown",
   "metadata": {},
   "source": [
    " Basandonos en el mapa anterior, elegimos como **variables numericas** las siguientes:\n",
    "- `'salary_monthly_NETO'`, se quere estudiar las diferencias de ganancia neta entre trabajos remotos y presenciales.\n",
    "- `'profile_years_experience'`, se eligió porque es la varaible aleatoria que tiene correlacion mas fuerte con `'salary_monthly_NETO'`.\n",
    "- `'work_years_in_current_position'`, se eligio porque es la variable aleatoria de menor correlacion con `'profile_years_experience'`. \n"
   ]
  },
  {
   "cell_type": "markdown",
   "metadata": {},
   "source": [
    "Como **variables categoricas** elegimos: \n",
    "   - `'work_work_modality'`\n",
    "   - `'work_province'`   "
   ]
  },
  {
   "cell_type": "markdown",
   "metadata": {},
   "source": [
    "A continuacion se trabaja en el dataframe con las columnas elegidas."
   ]
  },
  {
   "cell_type": "code",
   "execution_count": null,
   "metadata": {},
   "outputs": [],
   "source": [
    "relevant_columns = [\n",
    "    \"work_province\",\n",
    "    \"work_work_modality\",\n",
    "    \"salary_monthly_NETO\",\n",
    "    \"profile_years_experience\",\n",
    "    \"work_years_in_current_position\",\n",
    "]"
   ]
  },
  {
   "cell_type": "code",
   "execution_count": null,
   "metadata": {},
   "outputs": [],
   "source": [
    "df1 = df[relevant_columns]"
   ]
  },
  {
   "cell_type": "markdown",
   "metadata": {},
   "source": [
    "Usamos diagramas de dispersion para visualizar como se comportan las variables numericas elegidas."
   ]
  },
  {
   "cell_type": "code",
   "execution_count": null,
   "metadata": {},
   "outputs": [],
   "source": [
    "sns.pairplot(data=df1)\n",
    "plt.show()"
   ]
  },
  {
   "cell_type": "markdown",
   "metadata": {},
   "source": [
    "Se separa el dataframe en tres dataframes diferentes por cada modalidad de trabajo, con el objetivo de estudiarlas por separado, empleando histogramas para visualizar la distribucion de salarios. Se incluyen sus medias y medianas."
   ]
  },
  {
   "cell_type": "code",
   "execution_count": null,
   "metadata": {},
   "outputs": [],
   "source": [
    "salary_col = \"salary_monthly_NETO\"\n",
    "modalidad_col = \"work_work_modality\"\n",
    "\n",
    "df_remoto = df[df[modalidad_col] == \"100% remoto\"]\n",
    "df_presencial = df[df[modalidad_col] == \"100% presencial\"]\n",
    "df_hibrido = df[df[modalidad_col] == \"Híbrido (presencial y remoto)\"]\n",
    "df_remoto.head(4)"
   ]
  },
  {
   "cell_type": "code",
   "execution_count": null,
   "metadata": {},
   "outputs": [],
   "source": [
    "def format_ax(ax, df, col, title, colors):\n",
    "    ax.axvline(df[col].mean(), color=colors[0], linestyle=\"--\", label=\"Media\")\n",
    "    ax.axvline(df[col].median(), color=colors[1], linestyle=\"-.\", label=\"Mediana\")\n",
    "    ax.legend(loc=0)\n",
    "    ax.set_title(title)\n",
    "\n",
    "\n",
    "fig, axes = plt.subplots(\n",
    "    nrows=3, figsize=(14, 16), sharex=True\n",
    ")  # se genera la figura, se divide en dos lugares y se define su tamaño\n",
    "fig.suptitle(\"Distribución de Salarios por modalidad de trabajo\")\n",
    "\n",
    "sns.histplot(\n",
    "    df_remoto[salary_col], bins=50, ax=axes[0], color=\"gray\"\n",
    ")  # Histograma con 100 bins\n",
    "format_ax(axes[0], df_remoto, salary_col, \"Remoto\", (\"orangered\", \"indigo\"))\n",
    "\n",
    "# filtered_df = df[df[salary_col] < 200000]\n",
    "sns.histplot(df_presencial[salary_col], bins=50, ax=axes[1], color=\"gray\")\n",
    "format_ax(axes[1], df_presencial, salary_col, \"Presencial\", (\"orangered\", \"indigo\"))\n",
    "\n",
    "sns.histplot(df_hibrido[salary_col], bins=50, ax=axes[2], color=\"gray\")\n",
    "format_ax(axes[2], df_hibrido, salary_col, \"Híbrido\", (\"orangered\", \"indigo\"))\n",
    "\n",
    "\n",
    "sns.despine()"
   ]
  },
  {
   "cell_type": "markdown",
   "metadata": {},
   "source": [
    "Se observa que la media y la mediana de los trabajos presenciales son menores a las de los trabajos remotos e hibridos.\n",
    "En los siguientes graficos podemos observar como se distribuyen los salarios en funcion de mas de una variable aleatoria. \n",
    "\n",
    "Nota: Usamos la paleta de colores \"magma\" porque es una paleta cuyos colores pueden ser distinguidos por gente con problemas\n",
    "de vision tales como el daltonismo."
   ]
  },
  {
   "cell_type": "code",
   "execution_count": null,
   "metadata": {},
   "outputs": [],
   "source": [
    "plt.figure(figsize=(10, 8))\n",
    "JG1 = sns.jointplot(\n",
    "    data=df,\n",
    "    x=\"profile_years_experience\",\n",
    "    y=\"salary_monthly_NETO\",\n",
    "    hue=\"work_work_modality\",\n",
    "    palette=\"magma\",\n",
    "    kind=\"kde\",\n",
    "    height=8,\n",
    ")\n",
    "JG1.ax_joint.set_xlim(-10, 35)\n",
    "plt.show()"
   ]
  },
  {
   "cell_type": "code",
   "execution_count": null,
   "metadata": {},
   "outputs": [],
   "source": [
    "plt.figure(figsize=(10, 8))\n",
    "JG2 = sns.jointplot(\n",
    "    data=df,\n",
    "    x=\"work_years_in_current_position\",\n",
    "    y=\"salary_monthly_NETO\",\n",
    "    hue=\"work_work_modality\",\n",
    "    palette=\"magma\",\n",
    "    kind=\"kde\",\n",
    "    height=8,\n",
    ")\n",
    "JG2.ax_joint.set_xlim(-5, 17.5)\n",
    "plt.show()"
   ]
  },
  {
   "cell_type": "markdown",
   "metadata": {},
   "source": [
    "Vemos nuevamente que salarios de los trabajos presenciales estan \"por debajo\" que el de las otras modalidades.\n",
    "Continuando, añadimos al analisis la provincia donde se trabaja. En el siguiente heatmap \n",
    "se puede visualizar cuantas personas trabajan en cada modalidad de trabajo por provincia."
   ]
  },
  {
   "cell_type": "code",
   "execution_count": null,
   "metadata": {},
   "outputs": [],
   "source": [
    "fig = plt.figure(figsize=(15, 10))\n",
    "exp = pd.crosstab(df.work_province, df.work_work_modality)\n",
    "sns.heatmap(exp, annot=True, fmt=\"g\")\n",
    "plt.xticks(rotation=0)\n",
    "plt.yticks(rotation=0)\n",
    "sns.despine()"
   ]
  },
  {
   "cell_type": "markdown",
   "metadata": {},
   "source": [
    "vemos que es en general es menos la gente que trabaja de manera presencial que de manera remota, en especial en provincias como\n",
    "Buenos Aires, Ciudad Autonoma de Buenos Aires, Cordoba y Santa Fe."
   ]
  },
  {
   "cell_type": "markdown",
   "metadata": {},
   "source": [
    "Y ahora podemos repetimos los mismos graficos pero por provincia, esta vez usando diagramas de dispersion en lugar de mapas de relieve, ademas como ejemplo elegimos la Ciudad Autónoma de Buenos Aires."
   ]
  },
  {
   "cell_type": "code",
   "execution_count": null,
   "metadata": {},
   "outputs": [],
   "source": [
    "plt.figure(figsize=(10, 8))\n",
    "df_ciudad_autonoma = df[df[\"work_province\"] == \"Ciudad Autónoma de Buenos Aires\"]\n",
    "JG3 = sns.jointplot(\n",
    "    data=df_ciudad_autonoma,\n",
    "    x=\"profile_years_experience\",\n",
    "    y=\"salary_monthly_NETO\",\n",
    "    hue=\"work_work_modality\",\n",
    "    palette=\"magma\",\n",
    "    kind=\"scatter\",\n",
    "    height=8,\n",
    ")\n",
    "JG3.ax_joint.set_xlim(-2, 50)\n",
    "JG3.ax_joint.set_title(\"Ciudad Autónoma de Buenos Aires\")\n",
    "plt.show()"
   ]
  },
  {
   "cell_type": "code",
   "execution_count": null,
   "metadata": {},
   "outputs": [],
   "source": [
    "plt.figure(figsize=(20, 20))\n",
    "JG4 = sns.jointplot(\n",
    "    data=df,\n",
    "    x=\"work_years_in_current_position\",\n",
    "    y=\"salary_monthly_NETO\",\n",
    "    hue=\"work_work_modality\",\n",
    "    palette=\"magma\",\n",
    "    kind=\"scatter\",\n",
    "    height=8,\n",
    "    # ratio=2,\n",
    ")\n",
    "\n",
    "JG4.ax_joint.set_xlim(-2, 32)\n",
    "JG4.ax_joint.set_title(\"Ciudad Autónoma de Buenos Aires\")\n",
    "plt.show()"
   ]
  },
  {
   "cell_type": "markdown",
   "metadata": {},
   "source": [
    "Si bien estamos limitados en la cantidad de muestras de gente que trabaja de manera presencial, se puede notar nuevamente la tendencia observada anteriormente, donde el trabajo remoto e hibrido son mejor pagos."
   ]
  },
  {
   "cell_type": "markdown",
   "metadata": {
    "id": "lkuHE2aZGHMO"
   },
   "source": [
    "## b) Asociación\n",
    "\n",
    "* Necesitamos decidir si sacar o no la columna de salario bruto. Para hacer la encuesta más simple.\n",
    "¿Existe una correlación entre el salario bruto y el neto? Que abordaje y medidas usaría\n",
    "\n"
   ]
  },
  {
   "cell_type": "markdown",
   "metadata": {},
   "source": [
    "Para responder está pregunta, es útil visualizar las variables en un diagrama de dispersión,\n",
    "y calcular el coeficiente de correlación de estas variables."
   ]
  },
  {
   "cell_type": "code",
   "execution_count": null,
   "metadata": {},
   "outputs": [],
   "source": [
    "sns.scatterplot(x=\"salary_monthly_BRUTO\", y=\"salary_monthly_NETO\", data=df)\n",
    "\n",
    "\n",
    "corr_coef = np.corrcoef(df[\"salary_monthly_BRUTO\"], df[\"salary_monthly_NETO\"])\n",
    "print(f\"The correlation coefficient is {corr_coef[0,1]:.2f}\")\n",
    "\n",
    "plt.show()"
   ]
  },
  {
   "cell_type": "markdown",
   "metadata": {},
   "source": [
    "Hay una correlación lineal positiva muy fuerte, por lo que concluímos que la columna _salary\\_monthly\\_bruto_ no aporta información útil para éste análisis que no esté contenida en la variable _salary\\_monthly\\_neto_."
   ]
  },
  {
   "cell_type": "markdown",
   "metadata": {
    "id": "7MZrbRJCm-ae"
   },
   "source": [
    "## c) Densidad condicional \n",
    "\n",
    "Estudie la distribución del salario según el nivel de estudio.\n",
    "\n",
    "Separe la población según el nivel de estudio (elija dos subpoblaciones numerosas) y grafique de manera comparativa ambos histogramas de la variable `'salary_monthly_NETO'`\n",
    "¿Considera que ambas variables son independientes?\n",
    "¿Qué analizaría al respecto?\n",
    "\n",
    "Calcule medidas de centralización y dispersión para cada subpoblación\n",
    "\n",
    "\n",
    "\n",
    "\n"
   ]
  },
  {
   "cell_type": "markdown",
   "metadata": {},
   "source": [
    "Nos fijamos cuales son los niveles de estudios del dataframe."
   ]
  },
  {
   "cell_type": "code",
   "execution_count": null,
   "metadata": {},
   "outputs": [],
   "source": [
    "nivel_estudios = df[\"profile_studies_level\"].unique()\n",
    "print(nivel_estudios)"
   ]
  },
  {
   "cell_type": "markdown",
   "metadata": {},
   "source": [
    "Encontramos las subpoblaciones con mayor cantidad de datos."
   ]
  },
  {
   "cell_type": "code",
   "execution_count": null,
   "metadata": {},
   "outputs": [],
   "source": [
    "counts = df[\"profile_studies_level\"].value_counts()\n",
    "top_two = counts.head(2)\n",
    "top_two"
   ]
  },
  {
   "cell_type": "markdown",
   "metadata": {},
   "source": [
    "Filtramos el Dataframe"
   ]
  },
  {
   "cell_type": "code",
   "execution_count": null,
   "metadata": {},
   "outputs": [],
   "source": [
    "Uni_o_Ter = (df[\"profile_studies_level\"] == \"Universitario\") | (\n",
    "    df[\"profile_studies_level\"] == \"Terciario\"\n",
    ")\n",
    "\n",
    "\n",
    "df_Uni_o_Ter = df.loc[Uni_o_Ter]"
   ]
  },
  {
   "cell_type": "markdown",
   "metadata": {},
   "source": [
    "Calculamos las medidas de centralizacion y dispersion para ambas subpoblaciones."
   ]
  },
  {
   "cell_type": "code",
   "execution_count": null,
   "metadata": {
    "scrolled": true
   },
   "outputs": [],
   "source": [
    "df_Uni_o_Ter[df_Uni_o_Ter[\"profile_studies_level\"] == \"Universitario\"][\n",
    "    \"salary_monthly_NETO\"\n",
    "].describe()"
   ]
  },
  {
   "cell_type": "code",
   "execution_count": null,
   "metadata": {
    "scrolled": true
   },
   "outputs": [],
   "source": [
    "df_Uni_o_Ter[df_Uni_o_Ter[\"profile_studies_level\"] == \"Terciario\"][\n",
    "    \"salary_monthly_NETO\"\n",
    "].describe()"
   ]
  },
  {
   "cell_type": "markdown",
   "metadata": {},
   "source": [
    "A continuacion comparamos los histogramas de ambas variables. "
   ]
  },
  {
   "cell_type": "code",
   "execution_count": null,
   "metadata": {},
   "outputs": [],
   "source": [
    "plt.figure(figsize=(10, 8))\n",
    "ax = sns.histplot(\n",
    "    data=df_Uni_o_Ter,\n",
    "    x=\"salary_monthly_NETO\",\n",
    "    bins=100,\n",
    "    hue=\"profile_studies_level\",\n",
    "    palette=\"magma\",\n",
    "    legend=True,\n",
    ")\n",
    "ax.set(xlabel=\"Salario mensual neto\", ylabel=\"Cantidad\")\n",
    "ax.set_title(\"Salario mensual neto contra niveles de estudio\")\n",
    "ax.get_legend().set_title(\"Niveles de estudio\")"
   ]
  },
  {
   "cell_type": "markdown",
   "metadata": {},
   "source": [
    "Como un histograma no es un diagrama de densidad, optamos por hacer boxplots, que permiten una comparacion mas directa de las medidas de dispersion y centralizacion."
   ]
  },
  {
   "cell_type": "code",
   "execution_count": null,
   "metadata": {},
   "outputs": [],
   "source": [
    "plt.figure(figsize=(12, 6))\n",
    "ax = sns.boxenplot(\n",
    "    data=df_Uni_o_Ter,\n",
    "    x=\"salary_monthly_NETO\",\n",
    "    y=\"profile_studies_level\",\n",
    "    palette=\"magma\",\n",
    ")\n",
    "\n",
    "ax.set(\n",
    "    xlabel=\"Media y Cuartiles para el saliario mensual neto\", ylabel=\"Nivel Academico\"\n",
    ")\n",
    "ax.set_title(\"Salario mensual neto contra niveles de estudio\")"
   ]
  },
  {
   "cell_type": "code",
   "execution_count": null,
   "metadata": {},
   "outputs": [],
   "source": [
    "print(\n",
    "    df_Uni_o_Ter[df_Uni_o_Ter[\"profile_studies_level\"] == \"Terciario\"][\n",
    "        \"salary_monthly_NETO\"\n",
    "    ].mean()\n",
    ")\n",
    "print(\n",
    "    df_Uni_o_Ter[df_Uni_o_Ter[\"profile_studies_level\"] == \"Universitario\"][\n",
    "        \"salary_monthly_NETO\"\n",
    "    ].mean()\n",
    ")"
   ]
  },
  {
   "cell_type": "markdown",
   "metadata": {},
   "source": [
    "Notar que las variables no son independientes dado que a mas formacion academica la media del salario neto aumenta. Cabe mencionar que el analisis hasta aqui realizado, se hizo analizando el nivel academico sin tener en cuenta si fue finalizado o no. Por eso, a continuacion realizamos el mismo analisis pero contemplando solo las personas que finalizaron ese nivel academico. "
   ]
  },
  {
   "cell_type": "code",
   "execution_count": null,
   "metadata": {},
   "outputs": [],
   "source": [
    "Uni_o_Ter_Comp = (\n",
    "    (\n",
    "        (df[\"profile_studies_level\"] == \"Universitario\")\n",
    "        | (df[\"profile_studies_level\"] == \"Terciario\")\n",
    "    )\n",
    ") & (\n",
    "    df[\"profile_studies_level_state\"] == \"Completo\"\n",
    ")  # only completed studies levels remains.\n",
    "\n",
    "df_Uni_o_Ter_Comp = df.loc[Uni_o_Ter_Comp]"
   ]
  },
  {
   "cell_type": "markdown",
   "metadata": {},
   "source": [
    "Calculamos las medidas de centralizacion y dispersion nuevamente."
   ]
  },
  {
   "cell_type": "code",
   "execution_count": null,
   "metadata": {},
   "outputs": [],
   "source": [
    "df_Uni_o_Ter_Comp[df_Uni_o_Ter_Comp[\"profile_studies_level\"] == \"Universitario\"][\n",
    "    \"salary_monthly_NETO\"\n",
    "].describe()"
   ]
  },
  {
   "cell_type": "code",
   "execution_count": null,
   "metadata": {},
   "outputs": [],
   "source": [
    "df_Uni_o_Ter_Comp[df_Uni_o_Ter_Comp[\"profile_studies_level\"] == \"Terciario\"][\n",
    "    \"salary_monthly_NETO\"\n",
    "].describe()"
   ]
  },
  {
   "cell_type": "markdown",
   "metadata": {},
   "source": [
    "y nuevamente realizamos la comparacion de histogramas."
   ]
  },
  {
   "cell_type": "code",
   "execution_count": null,
   "metadata": {},
   "outputs": [],
   "source": [
    "plt.figure(figsize=(10, 8))\n",
    "ax = sns.histplot(\n",
    "    data=df_Uni_o_Ter_Comp,\n",
    "    x=\"salary_monthly_NETO\",\n",
    "    bins=100,\n",
    "    hue=\"profile_studies_level\",\n",
    "    palette=\"magma\",\n",
    "    legend=True,\n",
    ")\n",
    "ax.set(xlabel=\"Salario mensual neto\", ylabel=\"Cantidad\")\n",
    "ax.set_title(\"Salario mensual neto contra niveles de estudio completos \")\n",
    "ax.get_legend().set_title(\"Niveles de estudio\")"
   ]
  },
  {
   "cell_type": "markdown",
   "metadata": {},
   "source": [
    "A continuacion los boxplots. "
   ]
  },
  {
   "cell_type": "code",
   "execution_count": null,
   "metadata": {},
   "outputs": [],
   "source": [
    "plt.figure(figsize=(12, 6))\n",
    "ax = sns.boxenplot(\n",
    "    data=df_Uni_o_Ter_Comp,\n",
    "    x=\"salary_monthly_NETO\",\n",
    "    y=\"profile_studies_level\",\n",
    "    palette=\"magma\",\n",
    ")\n",
    "ax.set(\n",
    "    xlabel=\"Media y Cuartiles para el saliario mensual neto\", ylabel=\"Nivel Academico\"\n",
    ")\n",
    "ax.set_title(\"Salario mensual neto contra niveles de estudio completos\")"
   ]
  },
  {
   "cell_type": "code",
   "execution_count": null,
   "metadata": {},
   "outputs": [],
   "source": [
    "print(\n",
    "    df_Uni_o_Ter_Comp[df_Uni_o_Ter_Comp[\"profile_studies_level\"] == \"Terciario\"][\n",
    "        \"salary_monthly_NETO\"\n",
    "    ].mean()\n",
    ")\n",
    "print(\n",
    "    df_Uni_o_Ter_Comp[df_Uni_o_Ter_Comp[\"profile_studies_level\"] == \"Universitario\"][\n",
    "        \"salary_monthly_NETO\"\n",
    "    ].mean()\n",
    ")"
   ]
  },
  {
   "cell_type": "markdown",
   "metadata": {},
   "source": [
    "Se puede ver que la observacion anterior se mantiene pero las medias aumentas esto puede deberse directamente a que tenemos una tendencia de aumento del salario con respecto a acabar un nivel academico. "
   ]
  },
  {
   "cell_type": "markdown",
   "metadata": {
    "id": "u8wgYxNiqVpE"
   },
   "source": [
    "## d) Densidad Conjunta condicional\n",
    "\n",
    "Elija dos variables numéricas y una categórica. \n",
    "Estudie la dispersión (scatterplot) de las dos variables discriminando en color por la variable categórica (ayuda: hue en seaborn)\n"
   ]
  },
  {
   "cell_type": "markdown",
   "metadata": {},
   "source": [
    "Realizamos varios graficos, para ver cuales pueden servir y cuales no.\n"
   ]
  },
  {
   "cell_type": "markdown",
   "metadata": {},
   "source": [
    "**Salario Neto vs Años de Experiencia Laboral, usando como variable categoria la satisfaccion respecto al salario** \\\n",
    "Es una visualizacion util porque se pueden distinguir tendencias a simple vista.\n"
   ]
  },
  {
   "cell_type": "code",
   "execution_count": null,
   "metadata": {},
   "outputs": [],
   "source": [
    "plt.figure(figsize=(10, 8))\n",
    "ax = sns.scatterplot(\n",
    "    data=df,\n",
    "    x=\"salary_monthly_NETO\",\n",
    "    y=\"profile_years_experience\",\n",
    "    hue=\"salary_satisfaction\",\n",
    "    palette=\"magma\",\n",
    ")\n",
    "ax.legend(loc=\"center left\", bbox_to_anchor=(1, 0.5))\n",
    "# ax.set(xlabel='Salario mensual neto', ylabel='Cantidad')\n",
    "# ax.set_title('Salario mensual neto contra niveles de estudio')\n",
    "ax.get_legend().set_title(\"Niveles de satisfacion respecto al salario\")"
   ]
  },
  {
   "cell_type": "markdown",
   "metadata": {},
   "source": [
    "**Salario Neto vs Años de Experiencia Laboral, usando como variable categorica la provincia de trabajo**\\\n",
    "No es una visualizacion util ya que son demasiadas provincias y no se puede distinguir claramente el grafico."
   ]
  },
  {
   "cell_type": "code",
   "execution_count": null,
   "metadata": {},
   "outputs": [],
   "source": [
    "plt.figure(figsize=(10, 8))\n",
    "ax = sns.scatterplot(\n",
    "    data=df,\n",
    "    x=\"salary_monthly_NETO\",\n",
    "    y=\"profile_years_experience\",\n",
    "    hue=\"work_province\",\n",
    "    palette=\"magma\",\n",
    ")\n",
    "ax.legend(loc=\"center left\", bbox_to_anchor=(1, 0.5))\n",
    "# ax.set(xlabel='Salario mensual neto', ylabel='Cantidad')\n",
    "# ax.set_title('Salario mensual neto contra niveles de estudio')\n",
    "ax.get_legend().set_title(\"Modalidad de trabajo\")"
   ]
  },
  {
   "cell_type": "markdown",
   "metadata": {},
   "source": [
    "**Salario Neto vs Años de Experiencia Laboral, utilizando como variable categorica la modalidad de trabajo**\\\n",
    "Es una buena visualizacion."
   ]
  },
  {
   "cell_type": "code",
   "execution_count": null,
   "metadata": {},
   "outputs": [],
   "source": [
    "plt.figure(figsize=(10, 8))\n",
    "ax = sns.scatterplot(\n",
    "    data=df,\n",
    "    x=\"salary_monthly_NETO\",\n",
    "    y=\"profile_years_experience\",\n",
    "    hue=\"work_work_modality\",\n",
    "    palette=\"magma\",\n",
    ")\n",
    "ax.legend(loc=\"center left\", bbox_to_anchor=(1, 0.5))\n",
    "# ax.set(xlabel='Salario mensual neto', ylabel='Cantidad')\n",
    "# ax.set_title('Salario mensual neto contra niveles de estudio')\n",
    "ax.get_legend().set_title(\"Modalidad de trabajo\")"
   ]
  },
  {
   "cell_type": "markdown",
   "metadata": {},
   "source": [
    "**Salario Neto vs Edad, usando como variable categorica la modalidad de trabajo**\\\n",
    "Es una visualizacion util."
   ]
  },
  {
   "cell_type": "code",
   "execution_count": null,
   "metadata": {},
   "outputs": [],
   "source": [
    "plt.figure(figsize=(10, 8))\n",
    "ax = sns.scatterplot(\n",
    "    data=df,\n",
    "    x=\"salary_monthly_NETO\",\n",
    "    y=\"profile_age\",\n",
    "    hue=\"work_work_modality\",\n",
    "    palette=\"magma\",\n",
    ")\n",
    "ax.legend(loc=\"center left\", bbox_to_anchor=(1, 0.5))\n",
    "# ax.set(xlabel='Salario mensual neto', ylabel='Cantidad')\n",
    "# ax.set_title('Salario mensual neto contra niveles de estudio')\n",
    "ax.get_legend().set_title(\"Modalidad de trabajo\")"
   ]
  },
  {
   "cell_type": "markdown",
   "metadata": {},
   "source": [
    "**Salario Neto vs Años de Experiencia Laboral, usando como variable categoria el genero**"
   ]
  },
  {
   "cell_type": "markdown",
   "metadata": {},
   "source": [
    "No es una buena visualizacion porque no hay demasiados datos para las diversidades."
   ]
  },
  {
   "cell_type": "code",
   "execution_count": null,
   "metadata": {},
   "outputs": [],
   "source": [
    "df.loc[:, \"profile_g\"] = df.profile_gender.replace(\n",
    "    {\n",
    "        \"Varón Cis\": \"Varón cis\",\n",
    "        \"Mujer\": \"Mujer cis\",\n",
    "        \"Mujer Cis\": \"Mujer cis\",\n",
    "        \"Femenino\": \"Mujer cis\",\n",
    "        \"mujer\": \"Mujer cis\",\n",
    "        \"Mujer\": \"Mujer cis\",\n",
    "        \"Queer\": \"Diversidades\",\n",
    "        \"Varón Trans\": \"Diversidades\",\n",
    "        \"No binarie\": \"Diversidades\",\n",
    "        \"Mujer Trans\": \"Diversidades\",\n",
    "        \"Fluido\": \"Diversidades\",\n",
    "        \"Bigénero\": \"Diversidades\",\n",
    "        \"Gay\": \"Diversidades\",\n",
    "    }\n",
    ").fillna(False)"
   ]
  },
  {
   "cell_type": "code",
   "execution_count": null,
   "metadata": {},
   "outputs": [],
   "source": [
    "plt.figure(figsize=(10, 8))\n",
    "ax = sns.scatterplot(\n",
    "    data=df,\n",
    "    x=\"salary_monthly_NETO\",\n",
    "    y=\"profile_years_experience\",\n",
    "    hue=\"profile_g\",\n",
    "    palette=\"magma\",\n",
    ")\n",
    "ax.legend(loc=\"center left\", bbox_to_anchor=(1, 0.5))\n",
    "# ax.set(xlabel='Salario mensual neto', ylabel='Cantidad')\n",
    "# ax.set_title('Salario mensual neto contra niveles de estudio')\n",
    "ax.get_legend().set_title(\"Modalidad de trabajo\")"
   ]
  },
  {
   "cell_type": "code",
   "execution_count": null,
   "metadata": {},
   "outputs": [],
   "source": []
  }
 ],
 "metadata": {
  "colab": {
   "provenance": [
    {
     "file_id": "1NXWXyebR6mzAabyOPqghXpZQdyy05cRV",
     "timestamp": 1680785357097
    },
    {
     "file_id": "1OZLULlr-RkXwyhar7ED5fcXmPdgc6tGb",
     "timestamp": 1617224538047
    },
    {
     "file_id": "1xPL68eVaR0UF7XTcLU1rCMfpzuS7r6s0",
     "timestamp": 1617223947184
    },
    {
     "file_id": "1bChseZSrdGJSXfa-D2_lS0dx98wplQtD",
     "timestamp": 1614968149245
    }
   ]
  },
  "kernelspec": {
   "display_name": "Python 3 (ipykernel)",
   "language": "python",
   "name": "python3"
  },
  "language_info": {
   "codemirror_mode": {
    "name": "ipython",
    "version": 3
   },
   "file_extension": ".py",
   "mimetype": "text/x-python",
   "name": "python",
   "nbconvert_exporter": "python",
   "pygments_lexer": "ipython3",
   "version": "3.8.3"
  }
 },
 "nbformat": 4,
 "nbformat_minor": 1
}
