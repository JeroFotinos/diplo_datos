{
 "cells": [
  {
   "cell_type": "markdown",
   "metadata": {
    "id": "LYvAOR2VzHmW"
   },
   "source": [
    "\n",
    "**Diplomatura en Ciencia de Datos, Aprendizaje Automático y sus Aplicaciones**\n",
    "\n",
    "**Edición 2023**\n",
    "\n",
    "---\n",
    "## Trabajo práctico entregable - Parte 1"
   ]
  },
  {
   "cell_type": "code",
   "execution_count": 1,
   "metadata": {
    "executionInfo": {
     "elapsed": 743,
     "status": "ok",
     "timestamp": 1680803577547,
     "user": {
      "displayName": "Laura Minuet",
      "userId": "00787725849952937741"
     },
     "user_tz": 180
    },
    "id": "Xwdfo7z20TUK"
   },
   "outputs": [],
   "source": [
    "import io\n",
    "import matplotlib\n",
    "import matplotlib.pyplot as plt\n",
    "import numpy as np\n",
    "import pandas as pd\n",
    "import seaborn as sns\n",
    "\n",
    "sns.set_context(\"talk\")"
   ]
  },
  {
   "cell_type": "markdown",
   "metadata": {
    "id": "XY2Hl-Ma07Nn"
   },
   "source": [
    "## Lectura del dataset\n",
    "\n",
    "En la notebook 00 se explican los detalles de la siguiente sección."
   ]
  },
  {
   "cell_type": "code",
   "execution_count": 2,
   "metadata": {
    "executionInfo": {
     "elapsed": 1525,
     "status": "ok",
     "timestamp": 1680803579067,
     "user": {
      "displayName": "Laura Minuet",
      "userId": "00787725849952937741"
     },
     "user_tz": 180
    },
    "id": "Vviv_sqXdR5W"
   },
   "outputs": [],
   "source": [
    "url = \"https://raw.githubusercontent.com/DiploDatos/AnalisisyVisualizacion/master/sysarmy_survey_2022_processed.csv\"\n",
    "df = pd.read_csv(url)"
   ]
  },
  {
   "cell_type": "code",
   "execution_count": 3,
   "metadata": {
    "colab": {
     "base_uri": "https://localhost:8080/",
     "height": 341
    },
    "executionInfo": {
     "elapsed": 8,
     "status": "ok",
     "timestamp": 1680803584733,
     "user": {
      "displayName": "Laura Minuet",
      "userId": "00787725849952937741"
     },
     "user_tz": 180
    },
    "id": "gckNHXXLktJ4",
    "outputId": "bc293c9b-10f8-4d61-fa80-2cbf89ab28e1"
   },
   "outputs": [
    {
     "data": {
      "text/html": [
       "<div>\n",
       "<style scoped>\n",
       "    .dataframe tbody tr th:only-of-type {\n",
       "        vertical-align: middle;\n",
       "    }\n",
       "\n",
       "    .dataframe tbody tr th {\n",
       "        vertical-align: top;\n",
       "    }\n",
       "\n",
       "    .dataframe thead th {\n",
       "        text-align: right;\n",
       "    }\n",
       "</style>\n",
       "<table border=\"1\" class=\"dataframe\">\n",
       "  <thead>\n",
       "    <tr style=\"text-align: right;\">\n",
       "      <th></th>\n",
       "      <th>work_country</th>\n",
       "      <th>work_province</th>\n",
       "      <th>work_dedication</th>\n",
       "      <th>work_contract_type</th>\n",
       "      <th>salary_monthly_BRUTO</th>\n",
       "      <th>salary_monthly_NETO</th>\n",
       "      <th>numero</th>\n",
       "      <th>salary_in_usd</th>\n",
       "      <th>salary_last_dollar_value</th>\n",
       "      <th>salary_pay_cripto</th>\n",
       "      <th>...</th>\n",
       "      <th>profile_studies_level_state</th>\n",
       "      <th>profile_career</th>\n",
       "      <th>profile_university</th>\n",
       "      <th>profile_boot_camp</th>\n",
       "      <th>profile_boot_camp_carrer</th>\n",
       "      <th>work_on_call_duty</th>\n",
       "      <th>salary_on_call_duty_charge</th>\n",
       "      <th>work_on_call_duty_charge_type</th>\n",
       "      <th>profile_age</th>\n",
       "      <th>profile_gender</th>\n",
       "    </tr>\n",
       "  </thead>\n",
       "  <tbody>\n",
       "    <tr>\n",
       "      <th>0</th>\n",
       "      <td>Argentina</td>\n",
       "      <td>Catamarca</td>\n",
       "      <td>Full-Time</td>\n",
       "      <td>Staff (planta permanente)</td>\n",
       "      <td>300000.0</td>\n",
       "      <td>245000.0</td>\n",
       "      <td>True</td>\n",
       "      <td>NaN</td>\n",
       "      <td>NaN</td>\n",
       "      <td>NaN</td>\n",
       "      <td>...</td>\n",
       "      <td>Completo</td>\n",
       "      <td>Licenciatura en redes y comunicación de datos</td>\n",
       "      <td>UP - Universidad de Palermo</td>\n",
       "      <td>NaN</td>\n",
       "      <td>NaN</td>\n",
       "      <td>NaN</td>\n",
       "      <td>NaN</td>\n",
       "      <td>NaN</td>\n",
       "      <td>35</td>\n",
       "      <td>Varón Cis</td>\n",
       "    </tr>\n",
       "    <tr>\n",
       "      <th>1</th>\n",
       "      <td>Argentina</td>\n",
       "      <td>Chaco</td>\n",
       "      <td>Full-Time</td>\n",
       "      <td>Remoto (empresa de otro país)</td>\n",
       "      <td>900000.0</td>\n",
       "      <td>850000.0</td>\n",
       "      <td>True</td>\n",
       "      <td>Cobro todo el salario en dólares</td>\n",
       "      <td>300</td>\n",
       "      <td>NaN</td>\n",
       "      <td>...</td>\n",
       "      <td>NaN</td>\n",
       "      <td>NaN</td>\n",
       "      <td>NaN</td>\n",
       "      <td>NaN</td>\n",
       "      <td>NaN</td>\n",
       "      <td>NaN</td>\n",
       "      <td>NaN</td>\n",
       "      <td>NaN</td>\n",
       "      <td>31</td>\n",
       "      <td>Varón Cis</td>\n",
       "    </tr>\n",
       "    <tr>\n",
       "      <th>2</th>\n",
       "      <td>Argentina</td>\n",
       "      <td>Chaco</td>\n",
       "      <td>Full-Time</td>\n",
       "      <td>Staff (planta permanente)</td>\n",
       "      <td>120000.0</td>\n",
       "      <td>115000.0</td>\n",
       "      <td>True</td>\n",
       "      <td>NaN</td>\n",
       "      <td>NaN</td>\n",
       "      <td>NaN</td>\n",
       "      <td>...</td>\n",
       "      <td>NaN</td>\n",
       "      <td>NaN</td>\n",
       "      <td>NaN</td>\n",
       "      <td>NaN</td>\n",
       "      <td>NaN</td>\n",
       "      <td>NaN</td>\n",
       "      <td>NaN</td>\n",
       "      <td>NaN</td>\n",
       "      <td>27</td>\n",
       "      <td>Varón Cis</td>\n",
       "    </tr>\n",
       "  </tbody>\n",
       "</table>\n",
       "<p>3 rows × 44 columns</p>\n",
       "</div>"
      ],
      "text/plain": [
       "  work_country work_province work_dedication             work_contract_type   \n",
       "0    Argentina     Catamarca       Full-Time      Staff (planta permanente)  \\\n",
       "1    Argentina         Chaco       Full-Time  Remoto (empresa de otro país)   \n",
       "2    Argentina         Chaco       Full-Time      Staff (planta permanente)   \n",
       "\n",
       "   salary_monthly_BRUTO  salary_monthly_NETO  numero   \n",
       "0              300000.0             245000.0    True  \\\n",
       "1              900000.0             850000.0    True   \n",
       "2              120000.0             115000.0    True   \n",
       "\n",
       "                      salary_in_usd salary_last_dollar_value   \n",
       "0                               NaN                      NaN  \\\n",
       "1  Cobro todo el salario en dólares                      300   \n",
       "2                               NaN                      NaN   \n",
       "\n",
       "  salary_pay_cripto  ... profile_studies_level_state   \n",
       "0               NaN  ...                    Completo  \\\n",
       "1               NaN  ...                         NaN   \n",
       "2               NaN  ...                         NaN   \n",
       "\n",
       "                                  profile_career           profile_university   \n",
       "0  Licenciatura en redes y comunicación de datos  UP - Universidad de Palermo  \\\n",
       "1                                            NaN                          NaN   \n",
       "2                                            NaN                          NaN   \n",
       "\n",
       "  profile_boot_camp profile_boot_camp_carrer work_on_call_duty   \n",
       "0               NaN                      NaN               NaN  \\\n",
       "1               NaN                      NaN               NaN   \n",
       "2               NaN                      NaN               NaN   \n",
       "\n",
       "   salary_on_call_duty_charge work_on_call_duty_charge_type  profile_age   \n",
       "0                         NaN                           NaN           35  \\\n",
       "1                         NaN                           NaN           31   \n",
       "2                         NaN                           NaN           27   \n",
       "\n",
       "  profile_gender  \n",
       "0      Varón Cis  \n",
       "1      Varón Cis  \n",
       "2      Varón Cis  \n",
       "\n",
       "[3 rows x 44 columns]"
      ]
     },
     "execution_count": 3,
     "metadata": {},
     "output_type": "execute_result"
    }
   ],
   "source": [
    "df[:3]"
   ]
  },
  {
   "cell_type": "markdown",
   "metadata": {
    "id": "-ZSQYANFHHgV"
   },
   "source": [
    "# Ejercicio 1 - Análisis descriptivo\n",
    "\n",
    "Responder a la pregunta: **¿Cuáles son los lenguajes de programación asociados a los mejores salarios?**\n",
    "\n",
    "Para ello:\n",
    "1. Seleccionar las columnas relevantes para analizar.\n",
    "2. Seleccionar las filas relevantes para analizar. Esto incluye la eliminación de valores extremos y erróneos, pero también puede enfocar el análisis en una sub-población. Por ejemplo, se pueden limitar a personas con un salario mayor que 10000 pesos, o a las personas que trabajan sólo en \"Data Science\", pero deben justificar su elección y reformular la pregunta inicial de ser necesario.\n",
    "  * Obtener una lista de los lenguajes de programación más populares. Decidir cuántos y cuáles seleccionan para incluir en el análisis.\n",
    "  * Para cada una de las otras columnas del punto anterior, elegir los rangos o valores seleccionan para incluir en el análisis.\n",
    "3. Seleccionar métricas que ayuden a responder la pregunta, y los métodos para analizarlas. Elegir UNA de las siguientes opciones:\n",
    "  * Comparar las distribuciones de salario para cada lenguaje utilizando visualizaciones. Como la visualización es el producto final, debe ser clara y mostrar información relevante.\n",
    "  * Comparar medidas de estadística descriptiva sobre la distribución de salario para cada lenguaje. Sean creativos, la estadística descriptiva nos permite decir cosas como: \"el 10% de los mejores sueldos los ganan, en su mayoría, programadores que saben kotlin!\" (donde *mayoría* es un término medio engañoso que sólo significa más del 50%). Para comparar múltiples lenguajes, les recomendamos usar también visualizaciones.\n",
    "  * Comparar probabilidades. Por ejemplo: \"Si sabés Python o Java, tenés un 30% más de chances de ganar arriba de 100K\".\n",
    "\n",
    "Si lo consideran necesario, realicen varias iteraciones. Es decir, si encuentran que las distribuciones de los lenguajes de programación que seleccionaron inicialmente no son muy diferentes, pueden re-hacer el análisis usando sólo los lenguajes de programación que son diferentes."
   ]
  },
  {
   "cell_type": "markdown",
   "metadata": {},
   "source": [
    "---\n",
    "\n",
    "Para comparar cuáles son los lenguajes asociados a los mejores salarios, deberíamos primero definir un valor para cada lenguaje y luego hacer la comparación. En general, tendríamos que diseñar el test de hipótesis para poder comparar, pero en este caso creo que no se pretende hacer inferencia, sino simplemente describir para los datos de la base.\n",
    "\n",
    "Para obtener un valor a comparar, tendríamos que separar primero por lenguaje. Luego:\n",
    "- ('work_contract_type') Remoto, Staff, etc., puede influir\n",
    "- ('Trabajo de') va a influir, pero creería que está indisociablemente asociado al lenguaje\n",
    "- ('profile_years_experience' & 'work_years_in_company') ¿separar los cuartiles del medio? Si no, decisión arbitraria del tipo 5 a 10 años, o comparar por cuartiles.\n",
    "- ('work_work_modality') Quizás está relacionada a 'work_contract_type'.\n",
    "\n"
   ]
  },
  {
   "cell_type": "code",
   "execution_count": 4,
   "metadata": {},
   "outputs": [
    {
     "data": {
      "text/plain": [
       "Index(['work_country', 'work_province', 'work_dedication',\n",
       "       'work_contract_type', 'salary_monthly_BRUTO', 'salary_monthly_NETO',\n",
       "       'numero', 'salary_in_usd', 'salary_last_dollar_value',\n",
       "       'salary_pay_cripto', 'salary_%_cripto', 'salary_has_bonus',\n",
       "       'salary_bonus_tied_to', 'salary_inflation_adjustment',\n",
       "       'salary_percentage_inflation_adjustment',\n",
       "       'salary_month_last_inflation_adjustment',\n",
       "       'salary_comparison_last_semester', 'salary_benefit',\n",
       "       'salary_satisfaction', 'Trabajo de', 'profile_years_experience',\n",
       "       'work_years_in_company', 'work_years_in_current_position',\n",
       "       'work_people_in_charge_of', 'tools_platform',\n",
       "       'tools_programming_languages', 'tools_frameworks', 'tools_data_bases',\n",
       "       'tools_qa_testing', 'company_employee_number', 'work_work_modality',\n",
       "       'Si trabajas bajo un esquema híbrido ¿Cuántos días a la semana vas a la oficina?',\n",
       "       'company_recommended', 'profile_studies_level',\n",
       "       'profile_studies_level_state', 'profile_career', 'profile_university',\n",
       "       'profile_boot_camp', 'profile_boot_camp_carrer', 'work_on_call_duty',\n",
       "       'salary_on_call_duty_charge', 'work_on_call_duty_charge_type',\n",
       "       'profile_age', 'profile_gender'],\n",
       "      dtype='object')"
      ]
     },
     "execution_count": 4,
     "metadata": {},
     "output_type": "execute_result"
    }
   ],
   "source": [
    "df.columns"
   ]
  },
  {
   "cell_type": "code",
   "execution_count": 5,
   "metadata": {},
   "outputs": [
    {
     "data": {
      "text/plain": [
       "array(['Staff (planta permanente)', 'Remoto (empresa de otro país)',\n",
       "       'Tercerizado (trabajo a través de consultora o agencia)',\n",
       "       'Freelance', 'Participación societaria en una cooperativa'],\n",
       "      dtype=object)"
      ]
     },
     "execution_count": 5,
     "metadata": {},
     "output_type": "execute_result"
    }
   ],
   "source": [
    "df[\"work_contract_type\"].unique()"
   ]
  },
  {
   "cell_type": "code",
   "execution_count": 6,
   "metadata": {},
   "outputs": [
    {
     "data": {
      "text/plain": [
       "array(['Infosec', 'Developer', 'Technical Leader', 'QA / Tester',\n",
       "       'Sales / Pre-Sales', 'Data Engineer', 'Trainee',\n",
       "       'SysAdmin / DevOps / SRE', 'Administrador de Infraestructura', '-',\n",
       "       'HelpDesk', 'BI Analyst / Data Analyst', 'Business Analyst',\n",
       "       'Designer', 'QA Híbrido (Manual y Automation)', 'Process Analyst',\n",
       "       'Soporte local nivel 2 y 3', 'Desarrollo y Mantenimiento',\n",
       "       'Manager / Director', 'Networking', 'Recruiter / HR',\n",
       "       'Project Manager', 'UX Designer', 'Consultor Atlassian',\n",
       "       'Analista gestion de cambio', 'Consultant', 'Capacitador',\n",
       "       'Product Manager', 'MLl engineer', 'Scrum Master', 'Middleware',\n",
       "       'demand manager / delivery manager',\n",
       "       'Ing. de software y operaciones', 'Architect', 'Soporte On Site',\n",
       "       'Data Scientist', 'quantitative dev', 'Help desk + plataformas',\n",
       "       'mix Consultant - Business Analyst - Technical Leader',\n",
       "       'Cloud Engineer', 'Product Owner', 'Product Marketing Manager',\n",
       "       'RPA-Developer', 'Senior Software Engineer', 'associate',\n",
       "       'Head of Technology', 'Pentester (security engineer)',\n",
       "       'Gerente de Operaciones / Delivery Lead',\n",
       "       '\\u200bWorkspace Specialist', 'DBA',\n",
       "       'Administrador de Telefonía VOIP', 'Functional Team Lead',\n",
       "       'Head of Data & Analytics', 'Operador de contenidos digitales',\n",
       "       'SOA Developer', 'RPA', 'Lingüista Computacional NLP',\n",
       "       'Sr Security Researcher', 'Project Engineer',\n",
       "       'Machine Learning Engineer', 'Accesos', 'Service Designer',\n",
       "       'UX writer / content designer', 'Data Security',\n",
       "       'Technical Writer', 'Gestor de siniestros',\n",
       "       'Profesor de programación', 'VP / C-Level', 'Onsite support',\n",
       "       'Cybersecurity',\n",
       "       'Soy una mezcla de analista de infra con ingenieria de preventa de networking',\n",
       "       'Project Assistant con SQL', 'Technical Manager', 'Team manager',\n",
       "       'Storage / Backup', 'Functional Analyst',\n",
       "       'Agile Coach - Consultor', 'Service Management', 'Auditor TI',\n",
       "       'Python implementation // data science trainee // Licitaciones // Informes',\n",
       "       'Monitorización', 'Lider de proyecto- bi - sistemas transaccional',\n",
       "       'Data Governance Specialist', 'Content administrator',\n",
       "       'UX Manager', 'Soc Analyst', 'Automation', 'Automation Engineer',\n",
       "       'Tech Lead', 'Infrastructure Administrator', 'Support Analyst',\n",
       "       'Auxiliar administrativo', 'product specialist',\n",
       "       'Embedded Engineer', 'Tourism/Sales/Host',\n",
       "       'Pentesting/Consultoría Seguridad Informática',\n",
       "       'Analista de Infraestructura', 'Administracion / Supply chain',\n",
       "       'Program Manager', 'Analista Sistemas OT', 'Customer Support',\n",
       "       'Problem Manager', 'Desarrollador ivr', 'CTO',\n",
       "       'cx technical support',\n",
       "       'Business Analyst, Software and Process Engineer, incident manager',\n",
       "       'sector administrativo', 'Noc', 'Facilities datacenter',\n",
       "       'Supervisor de Operaciones y Soporte Tecnico',\n",
       "       'Administrador de Plataformas', 'RPA Developer',\n",
       "       'Responsable de Seguridad', 'Finance', 'Technical Consultant',\n",
       "       'Responsable de CoE', 'Technical Owner', 'Analista Funcional',\n",
       "       'IT Lead Operations', 'Coordinador de IT', 'Agile coach',\n",
       "       'Dev/QA Data MIS', 'Soporte IT', 'Architect/ SysAdmin / DevOps',\n",
       "       'Jefe de servicios y proyectos', 'Product Owner / Tribe Lead',\n",
       "       'expert', 'Devops', 'soporte tecnico onsite', 'Basis',\n",
       "       'Firmware Engineer', 'Analista funcional',\n",
       "       'Business Analyst,  Developer', 'Cloud engineer',\n",
       "       'cloud administrator', 'NOC', 'Senior Site Support Engineer',\n",
       "       'Developer pero en este momento soy lider u gerente del area de sistemas, es decir, hago un poco de todo',\n",
       "       'Desarrollo interno, soporte interno y consultor de cualquier cosa que tenga pantalla o botones.',\n",
       "       'Tech Support Specialist', 'Live Streaming Ops',\n",
       "       'Operador mainframe', 'Lider IT', 'SAP BASIS',\n",
       "       'Analista Funcional / Gestion de la demanda / Scrum Master',\n",
       "       'Developer, HelpDesk, Networking, SysAdmin / DevOps / SRE',\n",
       "       'Técnico', 'SEO Analyst', 'Analista de seguridad informatica',\n",
       "       'Technical Project Manager',\n",
       "       'Actualmente trabajo en una fábrica de griferías, estoy estudiando programación web ',\n",
       "       'DataOps', 'Cloud Security Engineer', 'cyberdefense',\n",
       "       'Application Support', 'DevSecOps', 'Docencia',\n",
       "       'UI designer - visual designer - ux/ui designer',\n",
       "       'Data analytcs / help desk',\n",
       "       'Architect + Designer + DBA + Developer', 'IT CX Analyst',\n",
       "       'Atencion a la produccion',\n",
       "       'Desarrollo/Soporte L1 y L2/Pre-Sales : no podía seleccionar todas',\n",
       "       'Delivery Tecnico', 'Product designer', 'Product Analyst',\n",
       "       'Content Designer', 'Support Engineer',\n",
       "       'Designer,Developer, Networking,HelpDesk', 'BI Manager',\n",
       "       'Talent Acquisition Manager', 'Content manager',\n",
       "       'Tutora de Java en Bootcamp', 'Lider UX', 'UX Research', 'Docente',\n",
       "       'Math analyst', 'Auditor ERP', 'Enfermería', 'UX Researcher',\n",
       "       'Gestión de la calidad', 'Data Analyst', 'Integration Specialist',\n",
       "       'Access management control', 'Cybersecurity Analyst', 'Comercio',\n",
       "       'Empleada administrativa',\n",
       "       'Gerente comercial IT y Gerente de Atracción de talento',\n",
       "       'UX Writer', 'Designer and manager /director of communication',\n",
       "       'jobstream', 'Team leader', 'Contento creator',\n",
       "       'Email Marketing Digital Salesforce',\n",
       "       'Data Management Governance & Data Analytics', 'NLP', 'Auditoria',\n",
       "       'Salud', 'Team Leader Data Engineer', 'Product Designer',\n",
       "       'BI developer', 'Business & Integration Arch Associate',\n",
       "       'Soy analista funcional pero hago diseño ux ui  y front end también',\n",
       "       'Analista Soporte', 'Process Improvement Analyst', 'Test Manager',\n",
       "       'Service Desk/Analista Monitoreo', 'Delivery Manager',\n",
       "       'Digital Marketing analyst', 'Tech Support Engineer', 'Ingeniería',\n",
       "       'Proyect Leader', 'DevOps', 'Product Manager & UX Lead',\n",
       "       'BIM Manager - Specialist', 'UX Developer', 'Tech Owner',\n",
       "       'Mentor and community builder', 'Auditor Sistemas',\n",
       "       'Blockchain Engineer', 'Ingeniero Biomédico', nan,\n",
       "       'Security Researcher', 'Architect Lead',\n",
       "       'Analyst, developer, tester, technical leader', 'Security',\n",
       "       'Coordinador de área IT', 'instructor', 'z<xcv<zcz', 'Doctorando',\n",
       "       'Analista funcional técnica', 'Service Delivery Manager (senior)',\n",
       "       'Data Scientist | Data Analyst | Decision Scientist',\n",
       "       'Investigación e innovación', 'TAE', 'Software Engineer',\n",
       "       'Soporte Tecnico IT', 'administrativa - dataentry', 'Maquetador',\n",
       "       'Infrastructure Engineer', 'encargado de una heladeria',\n",
       "       'Cloud support', 'career coordinator', 'DevOps Engineer',\n",
       "       'QA de procesos - Responsable de Sistema de Gestión de Calidad',\n",
       "       'entidad financiera - Analista de organización y procesos',\n",
       "       'asministrativo', 'Compliance',\n",
       "       'Analista de telecomunicaciones y seguridad', 'Engineer',\n",
       "       'Diseñador/programador full stack', 'Analista de accesibilidad',\n",
       "       'Developer & UX/UI Designer', 'Product owner', 'vendedor',\n",
       "       'Docente investigadora. Developer y Data scientist',\n",
       "       'Technical Support', 'Project Leader',\n",
       "       'Network, helpdesk, technical leader, de todo un poco',\n",
       "       'Soporte técnico', 'Developer / Team Leader',\n",
       "       'Full stack y UX developer', 'tecnico', 'Moodle Administrator',\n",
       "       'People Analytics', 'QA Test Lead & Scrum Master',\n",
       "       'Developer / Proyect M', 'CX', 'DevSecOps Engineer',\n",
       "       'Sysadmin e Infosec', 'NOC operator', 'Customer Service/QA Tester',\n",
       "       'Soporte tecnico',\n",
       "       'Colaboro en la implementacino de metodologiaságiles, ayudo a que el equipo se integre y a que se respeten los procesos',\n",
       "       'Desarrollador de software y DevOps',\n",
       "       'Investigador en sensores remotos con formación en ciencia de datos',\n",
       "       'Release Manager', 'Developer fontend/ maquetador web',\n",
       "       'Gerente de varias de las anteriores',\n",
       "       'Soporte técnico de aplicaciones', 'Chapter Lead', 'Tax',\n",
       "       'PLC Programmer', 'SSO specialist', 'Soporte Tecnico',\n",
       "       'Risk Analyst', 'MSP Level 2', 'Agile Delivery Manager',\n",
       "       'Analista de infraestructura y soporte TI', 'game programmer',\n",
       "       'Product Designer, please agreguenlo ', 'Software Engineer II',\n",
       "       'IT Support', 'Integrador', 'CM, diseño, etc', 'Data Developer',\n",
       "       'Customer support', 'Administrativo',\n",
       "       'Monitoreo de servidores/frontender', 'Cloud Support',\n",
       "       'Ingeniero de Desarrollo Tecnólogico', 'App support',\n",
       "       'Mantenimiento general', 'SDET / Automation Architect',\n",
       "       'Developer + Help Desk + It Support + Compras IT + Manjeo de Proveedores',\n",
       "       'Seguridad Informática Cyber SOC', 'Workplace IT', 'Educadora',\n",
       "       'UX Lead', 'Methodology & QA', 'HR', 'Operation Engineer',\n",
       "       'Personal de Apoyo a la Investigación (o sea un poco de todo)',\n",
       "       'IT Procurement', 'SOC', 'PMO Oficina de gestion de proyectos',\n",
       "       'PRODUCTION & POST PRODUCTION TEAM LEADER',\n",
       "       'Data Governance Sr Analyst', 'Lider recruiting',\n",
       "       'trabajo como soporte desarrollo en python manejo php ,base de datos, conocimentos de ccna cisco , docker y otras tecnologias  ',\n",
       "       'Mantenimiento Industrial',\n",
       "       'Mix de TechLead - SysAdmin - IT Manager', 'SDET', 'Analista',\n",
       "       'QA Automation', 'Preceptora', 'ME', 'System Analyst/Developer',\n",
       "       'Ágile Coach', 'Analista Tecnologico', 'Localization engineer',\n",
       "       'Digital Shared Services Specialist',\n",
       "       'Ingeniero de Infraestructura', 'Tech engineer',\n",
       "       'Soporte técnico +', 'Process Mining Developer',\n",
       "       'software Engineer', 'Ingeniero electrónico',\n",
       "       'Infraestructura (Networking + Sysadmin + Cyber + Soporte L2)',\n",
       "       'Analista de fraudes tecnológicos',\n",
       "       'PMA (Project Management Analyst)', 'RPA developer',\n",
       "       'Buyer Analyst', 'Cloud and IaaS Technical support',\n",
       "       'Mentor en ed tech', 'Core Banking Specialist',\n",
       "       'Profesor Adjunto Avanzado Full Stack Node js'], dtype=object)"
      ]
     },
     "execution_count": 6,
     "metadata": {},
     "output_type": "execute_result"
    }
   ],
   "source": [
    "df[\"Trabajo de\"].unique()"
   ]
  },
  {
   "cell_type": "code",
   "execution_count": 7,
   "metadata": {},
   "outputs": [
    {
     "data": {
      "text/plain": [
       "array([10.  ,  2.  ,  1.  ,  6.  ,  3.  ,  0.  , 25.  , 17.  ,  4.  ,\n",
       "        5.  , 12.  , 20.  , 15.  ,  8.  ,  3.5 , 14.  ,  7.  , 23.  ,\n",
       "       22.  ,  1.6 , 30.  , 34.  ,  1.5 , 16.  , 11.  ,  9.  ,  2.5 ,\n",
       "       24.  , 28.  , 35.  , 29.  , 26.  , 13.  , 18.  , 27.  , 21.  ,\n",
       "       32.  , 45.  , 19.  , 36.  , 33.  ,  4.5 , 31.  , 40.  ,  2.7 ,\n",
       "        4.6 ,  1.75,  1.9 , 37.  ])"
      ]
     },
     "execution_count": 7,
     "metadata": {},
     "output_type": "execute_result"
    }
   ],
   "source": [
    "df[\"profile_years_experience\"].unique()"
   ]
  },
  {
   "cell_type": "code",
   "execution_count": 8,
   "metadata": {},
   "outputs": [
    {
     "data": {
      "text/plain": [
       "array([ 0.  ,  2.  ,  1.6 ,  1.  , 30.  ,  3.  ,  5.  , 20.  , 10.  ,\n",
       "       12.  ,  6.  , 11.  ,  9.  , 19.  ,  7.  , 18.  ,  4.  ,  1.5 ,\n",
       "       17.  , 22.  ,  8.  ,  2.5 ,  1.3 ,  3.9 , 14.  , 24.  , 15.  ,\n",
       "       16.  ,  3.6 , 13.  , 23.  , 21.  ,  1.4 ,  1.2 ,  1.75,  2.8 ,\n",
       "       25.  , 26.  ,  7.5 ,  3.5 ,  1.7 , 40.  , 28.  , 34.  ,  2.7 ,\n",
       "        1.9 , 80.  ,  4.5 , 33.  , 29.  , 27.  ,  0.6 ,  1.8 ])"
      ]
     },
     "execution_count": 8,
     "metadata": {},
     "output_type": "execute_result"
    }
   ],
   "source": [
    "df[\"work_years_in_company\"].unique()"
   ]
  },
  {
   "cell_type": "code",
   "execution_count": 9,
   "metadata": {},
   "outputs": [
    {
     "data": {
      "text/plain": [
       "array(['100% remoto', 'Híbrido (presencial y remoto)', '100% presencial'],\n",
       "      dtype=object)"
      ]
     },
     "execution_count": 9,
     "metadata": {},
     "output_type": "execute_result"
    }
   ],
   "source": [
    "df[\"work_work_modality\"].unique()"
   ]
  },
  {
   "cell_type": "code",
   "execution_count": 10,
   "metadata": {},
   "outputs": [
    {
     "data": {
      "text/plain": [
       "array(['Python', 'CSS, HTML, Java, Javascript, SQL, TypeScript',\n",
       "       'Javascript, PHP, Python', ..., 'C++, PowerScript',\n",
       "       'Bash/Shell, Javascript, SQL', '.NET, C#, Java, Javascript'],\n",
       "      dtype=object)"
      ]
     },
     "execution_count": 10,
     "metadata": {},
     "output_type": "execute_result"
    }
   ],
   "source": [
    "df[\"tools_programming_languages\"].unique()"
   ]
  },
  {
   "cell_type": "markdown",
   "metadata": {},
   "source": [
    "Notar que respuestas como `'CSS, HTML, Java, Javascript, SQL, TypeScript'` hay que parsearlas antes de poder hacer el conteo de frecuencias. Además habría que limpiar los espacios en blanco y las diferencias en capitalización.\n",
    "\n",
    "---\n",
    "\n",
    "### Armo el Dataframe por lenguaje"
   ]
  },
  {
   "cell_type": "code",
   "execution_count": 11,
   "metadata": {},
   "outputs": [
    {
     "data": {
      "text/html": [
       "<div>\n",
       "<style scoped>\n",
       "    .dataframe tbody tr th:only-of-type {\n",
       "        vertical-align: middle;\n",
       "    }\n",
       "\n",
       "    .dataframe tbody tr th {\n",
       "        vertical-align: top;\n",
       "    }\n",
       "\n",
       "    .dataframe thead th {\n",
       "        text-align: right;\n",
       "    }\n",
       "</style>\n",
       "<table border=\"1\" class=\"dataframe\">\n",
       "  <thead>\n",
       "    <tr style=\"text-align: right;\">\n",
       "      <th></th>\n",
       "      <th>Language</th>\n",
       "      <th>Mean Salary</th>\n",
       "      <th>Median Salary</th>\n",
       "      <th>Standard Deviation</th>\n",
       "      <th>Count</th>\n",
       "    </tr>\n",
       "  </thead>\n",
       "  <tbody>\n",
       "    <tr>\n",
       "      <th>4</th>\n",
       "      <td>javascript</td>\n",
       "      <td>307626.129348</td>\n",
       "      <td>205000.00</td>\n",
       "      <td>488250.165381</td>\n",
       "      <td>2142</td>\n",
       "    </tr>\n",
       "    <tr>\n",
       "      <th>5</th>\n",
       "      <td>sql</td>\n",
       "      <td>262017.875099</td>\n",
       "      <td>206000.00</td>\n",
       "      <td>292451.127286</td>\n",
       "      <td>2071</td>\n",
       "    </tr>\n",
       "    <tr>\n",
       "      <th>2</th>\n",
       "      <td>html</td>\n",
       "      <td>254474.108097</td>\n",
       "      <td>192500.00</td>\n",
       "      <td>294354.036319</td>\n",
       "      <td>1540</td>\n",
       "    </tr>\n",
       "    <tr>\n",
       "      <th>0</th>\n",
       "      <td>python</td>\n",
       "      <td>326850.181069</td>\n",
       "      <td>234500.00</td>\n",
       "      <td>406539.889373</td>\n",
       "      <td>1409</td>\n",
       "    </tr>\n",
       "    <tr>\n",
       "      <th>1</th>\n",
       "      <td>css</td>\n",
       "      <td>250862.178965</td>\n",
       "      <td>181484.00</td>\n",
       "      <td>299987.115353</td>\n",
       "      <td>1051</td>\n",
       "    </tr>\n",
       "    <tr>\n",
       "      <th>3</th>\n",
       "      <td>java</td>\n",
       "      <td>285658.429286</td>\n",
       "      <td>225000.00</td>\n",
       "      <td>343122.320243</td>\n",
       "      <td>967</td>\n",
       "    </tr>\n",
       "    <tr>\n",
       "      <th>6</th>\n",
       "      <td>typescript</td>\n",
       "      <td>339698.253939</td>\n",
       "      <td>210000.00</td>\n",
       "      <td>427688.534393</td>\n",
       "      <td>948</td>\n",
       "    </tr>\n",
       "    <tr>\n",
       "      <th>9</th>\n",
       "      <td>ninguno de los anteriores</td>\n",
       "      <td>202987.337082</td>\n",
       "      <td>173000.00</td>\n",
       "      <td>204039.069270</td>\n",
       "      <td>902</td>\n",
       "    </tr>\n",
       "    <tr>\n",
       "      <th>12</th>\n",
       "      <td>bash/shell</td>\n",
       "      <td>312169.215925</td>\n",
       "      <td>229000.00</td>\n",
       "      <td>354611.751524</td>\n",
       "      <td>859</td>\n",
       "    </tr>\n",
       "    <tr>\n",
       "      <th>10</th>\n",
       "      <td>.net</td>\n",
       "      <td>266386.156176</td>\n",
       "      <td>220000.00</td>\n",
       "      <td>261369.299837</td>\n",
       "      <td>612</td>\n",
       "    </tr>\n",
       "    <tr>\n",
       "      <th>7</th>\n",
       "      <td>php</td>\n",
       "      <td>286125.809967</td>\n",
       "      <td>200000.00</td>\n",
       "      <td>667204.546294</td>\n",
       "      <td>602</td>\n",
       "    </tr>\n",
       "    <tr>\n",
       "      <th>11</th>\n",
       "      <td>c#</td>\n",
       "      <td>270324.558333</td>\n",
       "      <td>210000.00</td>\n",
       "      <td>288944.394612</td>\n",
       "      <td>504</td>\n",
       "    </tr>\n",
       "    <tr>\n",
       "      <th>8</th>\n",
       "      <td>go</td>\n",
       "      <td>524002.261922</td>\n",
       "      <td>300000.00</td>\n",
       "      <td>720319.347829</td>\n",
       "      <td>281</td>\n",
       "    </tr>\n",
       "    <tr>\n",
       "      <th>14</th>\n",
       "      <td>kotlin</td>\n",
       "      <td>335557.128037</td>\n",
       "      <td>253000.00</td>\n",
       "      <td>277276.279485</td>\n",
       "      <td>163</td>\n",
       "    </tr>\n",
       "    <tr>\n",
       "      <th>20</th>\n",
       "      <td>c++</td>\n",
       "      <td>252062.431277</td>\n",
       "      <td>211200.00</td>\n",
       "      <td>271226.910978</td>\n",
       "      <td>141</td>\n",
       "    </tr>\n",
       "    <tr>\n",
       "      <th>15</th>\n",
       "      <td>vba</td>\n",
       "      <td>216966.132609</td>\n",
       "      <td>195000.00</td>\n",
       "      <td>243024.685613</td>\n",
       "      <td>138</td>\n",
       "    </tr>\n",
       "    <tr>\n",
       "      <th>18</th>\n",
       "      <td>c</td>\n",
       "      <td>245279.113125</td>\n",
       "      <td>202000.00</td>\n",
       "      <td>286074.043582</td>\n",
       "      <td>112</td>\n",
       "    </tr>\n",
       "    <tr>\n",
       "      <th>17</th>\n",
       "      <td>ruby</td>\n",
       "      <td>421266.718519</td>\n",
       "      <td>282229.50</td>\n",
       "      <td>508621.762775</td>\n",
       "      <td>108</td>\n",
       "    </tr>\n",
       "    <tr>\n",
       "      <th>13</th>\n",
       "      <td>groovy</td>\n",
       "      <td>307642.832039</td>\n",
       "      <td>237878.56</td>\n",
       "      <td>292772.017620</td>\n",
       "      <td>103</td>\n",
       "    </tr>\n",
       "    <tr>\n",
       "      <th>23</th>\n",
       "      <td>r</td>\n",
       "      <td>291810.658062</td>\n",
       "      <td>200000.00</td>\n",
       "      <td>358367.129204</td>\n",
       "      <td>81</td>\n",
       "    </tr>\n",
       "    <tr>\n",
       "      <th>22</th>\n",
       "      <td>swift</td>\n",
       "      <td>332079.232464</td>\n",
       "      <td>220000.00</td>\n",
       "      <td>363563.545161</td>\n",
       "      <td>69</td>\n",
       "    </tr>\n",
       "    <tr>\n",
       "      <th>26</th>\n",
       "      <td>scala</td>\n",
       "      <td>409921.603226</td>\n",
       "      <td>309000.00</td>\n",
       "      <td>441561.582453</td>\n",
       "      <td>62</td>\n",
       "    </tr>\n",
       "    <tr>\n",
       "      <th>19</th>\n",
       "      <td>abap</td>\n",
       "      <td>291053.875000</td>\n",
       "      <td>250000.00</td>\n",
       "      <td>205518.833091</td>\n",
       "      <td>48</td>\n",
       "    </tr>\n",
       "    <tr>\n",
       "      <th>27</th>\n",
       "      <td>arduino</td>\n",
       "      <td>194739.391304</td>\n",
       "      <td>188500.00</td>\n",
       "      <td>110783.002861</td>\n",
       "      <td>46</td>\n",
       "    </tr>\n",
       "    <tr>\n",
       "      <th>16</th>\n",
       "      <td>cobol</td>\n",
       "      <td>232336.426000</td>\n",
       "      <td>223352.17</td>\n",
       "      <td>160909.158310</td>\n",
       "      <td>45</td>\n",
       "    </tr>\n",
       "    <tr>\n",
       "      <th>21</th>\n",
       "      <td>dart</td>\n",
       "      <td>301816.057143</td>\n",
       "      <td>221000.00</td>\n",
       "      <td>365974.582458</td>\n",
       "      <td>35</td>\n",
       "    </tr>\n",
       "    <tr>\n",
       "      <th>28</th>\n",
       "      <td>powershell</td>\n",
       "      <td>218190.666667</td>\n",
       "      <td>229500.00</td>\n",
       "      <td>143339.529735</td>\n",
       "      <td>30</td>\n",
       "    </tr>\n",
       "    <tr>\n",
       "      <th>25</th>\n",
       "      <td>perl</td>\n",
       "      <td>304605.765517</td>\n",
       "      <td>247897.00</td>\n",
       "      <td>306374.030396</td>\n",
       "      <td>29</td>\n",
       "    </tr>\n",
       "    <tr>\n",
       "      <th>24</th>\n",
       "      <td>objective-c</td>\n",
       "      <td>330409.501667</td>\n",
       "      <td>305000.00</td>\n",
       "      <td>189857.395142</td>\n",
       "      <td>24</td>\n",
       "    </tr>\n",
       "    <tr>\n",
       "      <th>29</th>\n",
       "      <td>delphi</td>\n",
       "      <td>197232.246190</td>\n",
       "      <td>209000.00</td>\n",
       "      <td>102070.174223</td>\n",
       "      <td>21</td>\n",
       "    </tr>\n",
       "  </tbody>\n",
       "</table>\n",
       "</div>"
      ],
      "text/plain": [
       "                     Language    Mean Salary  Median Salary   \n",
       "4                  javascript  307626.129348      205000.00  \\\n",
       "5                         sql  262017.875099      206000.00   \n",
       "2                        html  254474.108097      192500.00   \n",
       "0                      python  326850.181069      234500.00   \n",
       "1                         css  250862.178965      181484.00   \n",
       "3                        java  285658.429286      225000.00   \n",
       "6                  typescript  339698.253939      210000.00   \n",
       "9   ninguno de los anteriores  202987.337082      173000.00   \n",
       "12                 bash/shell  312169.215925      229000.00   \n",
       "10                       .net  266386.156176      220000.00   \n",
       "7                         php  286125.809967      200000.00   \n",
       "11                         c#  270324.558333      210000.00   \n",
       "8                          go  524002.261922      300000.00   \n",
       "14                     kotlin  335557.128037      253000.00   \n",
       "20                        c++  252062.431277      211200.00   \n",
       "15                        vba  216966.132609      195000.00   \n",
       "18                          c  245279.113125      202000.00   \n",
       "17                       ruby  421266.718519      282229.50   \n",
       "13                     groovy  307642.832039      237878.56   \n",
       "23                          r  291810.658062      200000.00   \n",
       "22                      swift  332079.232464      220000.00   \n",
       "26                      scala  409921.603226      309000.00   \n",
       "19                       abap  291053.875000      250000.00   \n",
       "27                    arduino  194739.391304      188500.00   \n",
       "16                      cobol  232336.426000      223352.17   \n",
       "21                       dart  301816.057143      221000.00   \n",
       "28                 powershell  218190.666667      229500.00   \n",
       "25                       perl  304605.765517      247897.00   \n",
       "24                objective-c  330409.501667      305000.00   \n",
       "29                     delphi  197232.246190      209000.00   \n",
       "\n",
       "    Standard Deviation  Count  \n",
       "4        488250.165381   2142  \n",
       "5        292451.127286   2071  \n",
       "2        294354.036319   1540  \n",
       "0        406539.889373   1409  \n",
       "1        299987.115353   1051  \n",
       "3        343122.320243    967  \n",
       "6        427688.534393    948  \n",
       "9        204039.069270    902  \n",
       "12       354611.751524    859  \n",
       "10       261369.299837    612  \n",
       "7        667204.546294    602  \n",
       "11       288944.394612    504  \n",
       "8        720319.347829    281  \n",
       "14       277276.279485    163  \n",
       "20       271226.910978    141  \n",
       "15       243024.685613    138  \n",
       "18       286074.043582    112  \n",
       "17       508621.762775    108  \n",
       "13       292772.017620    103  \n",
       "23       358367.129204     81  \n",
       "22       363563.545161     69  \n",
       "26       441561.582453     62  \n",
       "19       205518.833091     48  \n",
       "27       110783.002861     46  \n",
       "16       160909.158310     45  \n",
       "21       365974.582458     35  \n",
       "28       143339.529735     30  \n",
       "25       306374.030396     29  \n",
       "24       189857.395142     24  \n",
       "29       102070.174223     21  "
      ]
     },
     "execution_count": 11,
     "metadata": {},
     "output_type": "execute_result"
    }
   ],
   "source": [
    "# Initialize an empty dictionary to store the salary data for each language\n",
    "language_salary_data = {}\n",
    "\n",
    "# Iterate over each row in the DataFrame\n",
    "for index, row in df.iterrows():\n",
    "    # Convert the value in the 'tools_programming_languages' column to a string, then split it by comma\n",
    "    languages = str(row[\"tools_programming_languages\"]).lower().split(\",\")\n",
    "    # Iterate over each programming language in the list\n",
    "    for language in languages:\n",
    "        # Clean the language string by removing leading/trailing spaces\n",
    "        language = language.strip()\n",
    "        # Check if the language is already in the dictionary\n",
    "        if language in language_salary_data:\n",
    "            # If it is, append the salary to the existing list of salaries for that language\n",
    "            language_salary_data[language].append(row[\"salary_monthly_NETO\"])\n",
    "        else:\n",
    "            # If it is not, create a new key-value pair in the dictionary for the language and its salary data\n",
    "            language_salary_data[language] = [row[\"salary_monthly_NETO\"]]\n",
    "\n",
    "# Filter the language salary data dictionary to include only the languages that have more than one salary data point\n",
    "language_salary_data_filtered = {\n",
    "    language: salaries\n",
    "    for language, salaries in language_salary_data.items()\n",
    "    if len(salaries) > 20\n",
    "}\n",
    "\n",
    "# Initialize an empty list to store the statistics for each language\n",
    "language_salary_stats = []\n",
    "\n",
    "# Iterate over each language in the filtered dictionary\n",
    "for language in language_salary_data_filtered:\n",
    "    # Calculate the statistics for the salaries for that language\n",
    "    salary_stats = [\n",
    "        language,\n",
    "        np.mean(language_salary_data_filtered[language]),\n",
    "        np.median(language_salary_data_filtered[language]),\n",
    "        np.std(language_salary_data_filtered[language]),\n",
    "        len(language_salary_data_filtered[language]),\n",
    "    ]\n",
    "    # Append the statistics to the list of language statistics\n",
    "    language_salary_stats.append(salary_stats)\n",
    "\n",
    "# Create a DataFrame from the list of language statistics and name the columns\n",
    "df_salary_stats = pd.DataFrame(\n",
    "    language_salary_stats,\n",
    "    columns=[\"Language\", \"Mean Salary\", \"Median Salary\", \"Standard Deviation\", \"Count\"],\n",
    ")\n",
    "\n",
    "# Sort the DataFrame by frequency in descending order\n",
    "df_salary_stats = df_salary_stats.sort_values(by=\"Count\", ascending=False)\n",
    "\n",
    "# Print the result\n",
    "df_salary_stats"
   ]
  },
  {
   "cell_type": "markdown",
   "metadata": {},
   "source": [
    "### Ploteo un histograma de frecuencias\n",
    "Esto es solamente para tener una visualización de las frecuencias y generar intuición sobre dónde hacer el corte."
   ]
  },
  {
   "cell_type": "code",
   "execution_count": 12,
   "metadata": {
    "scrolled": false
   },
   "outputs": [
    {
     "data": {
      "image/png": "[encoded data removed]",
      "text/plain": [
       "<Figure size 640x480 with 1 Axes>"
      ]
     },
     "metadata": {},
     "output_type": "display_data"
    }
   ],
   "source": [
    "# Create a DataFrame from the language_salary_data_filtered dictionary, with columns for language and count\n",
    "df_language_count = pd.DataFrame(\n",
    "    {\n",
    "        \"Language\": list(language_salary_data_filtered.keys()),\n",
    "        \"Count\": [\n",
    "            len(language_salary_data_filtered[language])\n",
    "            for language in language_salary_data_filtered\n",
    "        ],\n",
    "    }\n",
    ")\n",
    "\n",
    "# Sort the DataFrame by count in descending order\n",
    "df_language_count = df_language_count.sort_values(by=\"Count\", ascending=False)\n",
    "\n",
    "# Initialize an empty list to store the relative frequency for each language\n",
    "language_relative_frequency = []\n",
    "\n",
    "# Iterate over each language in the sorted DataFrame\n",
    "for language in df_language_count[\"Language\"]:\n",
    "    # Calculate the relative frequency for the language and append it to the list of relative frequencies\n",
    "    frequency = len(language_salary_data_filtered[language]) / len(df)\n",
    "    language_relative_frequency.append(frequency)\n",
    "\n",
    "# Add the list of relative frequencies to the DataFrame\n",
    "df_language_count[\"Relative Frequency\"] = language_relative_frequency\n",
    "\n",
    "# Create the histogram plot using Seaborn\n",
    "sns.histplot(\n",
    "    data=df_language_count[\n",
    "        df_language_count[\"Language\"] != \"ninguno de los anteriores\"\n",
    "    ],\n",
    "    x=\"Language\",\n",
    "    weights=\"Relative Frequency\",\n",
    "    binwidth=0.5,\n",
    ")\n",
    "plt.xticks(rotation=90)\n",
    "plt.show()\n",
    "\n",
    "# I'm filtering the 'ninguno de los anteriores' because of reasons (?"
   ]
  },
  {
   "cell_type": "markdown",
   "metadata": {},
   "source": [
    "Idea de Lucas: ver la distribución de número de lenguajes por programador"
   ]
  },
  {
   "cell_type": "code",
   "execution_count": 13,
   "metadata": {},
   "outputs": [
    {
     "data": {
      "image/png": "[encoded data removed]",
      "text/plain": [
       "<Figure size 640x480 with 1 Axes>"
      ]
     },
     "metadata": {},
     "output_type": "display_data"
    }
   ],
   "source": [
    "# Count the number of programming languages for each respondent\n",
    "languages_per_programmer = (\n",
    "    df[\"tools_programming_languages\"]\n",
    "    .fillna(\"\")\n",
    "    .str.split(\",\")\n",
    "    .apply(lambda x: len([str(lang).strip() for lang in x]))\n",
    ")\n",
    "\n",
    "# Plot the distribution of the number of programming languages per programmer as a histogram\n",
    "sns.histplot(\n",
    "    languages_per_programmer, bins=range(1, 16), discrete=True, stat=\"probability\"\n",
    ")\n",
    "plt.xticks(range(1, 16))\n",
    "plt.xlabel(\"Number of programming languages\")\n",
    "plt.ylabel(\"Relative frequency\")\n",
    "plt.xlim(0.5, 15.5)\n",
    "plt.show()"
   ]
  },
  {
   "cell_type": "code",
   "execution_count": 16,
   "metadata": {
    "scrolled": false
   },
   "outputs": [
    {
     "data": {
      "image/png": "[encoded data removed]",
      "text/plain": [
       "<Figure size 1000x600 with 1 Axes>"
      ]
     },
     "metadata": {},
     "output_type": "display_data"
    }
   ],
   "source": [
    "# Compute the number of programming languages per programmer\n",
    "df[\"languages_per_programmer\"] = (\n",
    "    df[\"tools_programming_languages\"]\n",
    "    .fillna(\"\")\n",
    "    .str.split(\",\")\n",
    "    .apply(lambda x: len([str(lang).strip() for lang in x]))\n",
    ")\n",
    "\n",
    "# Filter out rows with 0 programming languages or more than 15 programming languages per programmer\n",
    "df1 = df[(df[\"languages_per_programmer\"] > 0) & (df[\"languages_per_programmer\"] <= 15)]\n",
    "\n",
    "# Group the data by the number of programming languages per programmer and compute the mean salary for each group\n",
    "grouped = (\n",
    "    df1.groupby(\"languages_per_programmer\")[\"salary_monthly_NETO\"].mean().reset_index()\n",
    ")\n",
    "\n",
    "# Plot a bar chart of the mean salary vs. the number of programming languages per programmer\n",
    "plt.figure(figsize=(10, 6))\n",
    "sns.barplot(x=\"languages_per_programmer\", y=\"salary_monthly_NETO\", data=grouped)\n",
    "plt.xlabel(\"Number of Programming Languages per Programmer\")\n",
    "plt.ylabel(\"Mean Monthly Salary (NET)\")\n",
    "plt.title(\"Mean Monthly Salary vs. Number of Programming Languages per Programmer\")\n",
    "plt.show()"
   ]
  },
  {
   "cell_type": "markdown",
   "metadata": {},
   "source": [
    "En la [documentación](https://seaborn.pydata.org/generated/seaborn.barplot.html), indica un parámetro\n",
    "> `errorbarstring`, (string, number) tuple, callable or None\n",
    "Name of errorbar method (either “ci”, “pi”, “se”, or “sd”), or a tuple with a method name and a level parameter, or a function that maps from a vector to a (min, max) interval, or None to hide errorbar."
   ]
  },
  {
   "cell_type": "code",
   "execution_count": 18,
   "metadata": {},
   "outputs": [
    {
     "data": {
      "text/plain": [
       "Text(0.5, 1.0, 'Salary vs number of programming languages')"
      ]
     },
     "execution_count": 18,
     "metadata": {},
     "output_type": "execute_result"
    },
    {
     "data": {
      "image/png": "[encoded data removed]",
      "text/plain": [
       "<Figure size 640x480 with 1 Axes>"
      ]
     },
     "metadata": {},
     "output_type": "display_data"
    }
   ],
   "source": [
    "# Define the data\n",
    "languages_per_programmer = (\n",
    "    df[\"tools_programming_languages\"]\n",
    "    .fillna(\"\")\n",
    "    .str.split(\",\")\n",
    "    .apply(lambda x: len([str(lang).strip() for lang in x]))\n",
    ")\n",
    "salary = df[\"salary_monthly_NETO\"]\n",
    "\n",
    "# Combine the data into a new dataframe\n",
    "data = pd.concat([languages_per_programmer, salary], axis=1)\n",
    "\n",
    "# Filter out entries with more than 15 programming languages\n",
    "data = data[data[\"tools_programming_languages\"] <= 15]\n",
    "\n",
    "# Calculate the mean salary and standard deviation for each number of programming languages\n",
    "mean_salary = data.groupby(\"tools_programming_languages\").mean().reset_index()\n",
    "std_salary = data.groupby(\"tools_programming_languages\").std().reset_index()\n",
    "\n",
    "# Create the plot with error bars\n",
    "sns.barplot(\n",
    "    x=\"tools_programming_languages\", y=\"salary_monthly_NETO\", data=data, errorbar=\"sd\"\n",
    ")\n",
    "\n",
    "# Set the axis labels and title\n",
    "plt.xlabel(\"Number of programming languages\")\n",
    "plt.ylabel(\"Monthly net salary (ARS)\")\n",
    "plt.title(\"Salary vs number of programming languages\")"
   ]
  },
  {
   "cell_type": "markdown",
   "metadata": {},
   "source": [
    "Si esto está bien hecho, entonces las variaciones entre número de lenguajes de programación no son significativas a la hora de comparar salarios, mucho menos comparado con las variaciones (reflejadas arriba por las desviaciones estándar). Por esto, en lugar de pensar en el conjunto de lenguajes mejor pagos, podemos justificar hablar del lenguaje mejor pago, pensándolo como “el lenguaje cuya presencia en el conjunto de lenguajes que sabés, se relaciona a salarios más altos”."
   ]
  },
  {
   "cell_type": "code",
   "execution_count": 8,
   "metadata": {
    "executionInfo": {
     "elapsed": 637,
     "status": "ok",
     "timestamp": 1680803590824,
     "user": {
      "displayName": "Laura Minuet",
      "userId": "00787725849952937741"
     },
     "user_tz": 180
    },
    "id": "6dqTEr7cZgvl"
   },
   "outputs": [],
   "source": [
    "# complete here if you want to include more columns\n",
    "relevant_columns = [\"tools_programming_languages\", \"salary_monthly_NETO\"]"
   ]
  },
  {
   "cell_type": "markdown",
   "metadata": {
    "id": "OoGgzMvuEocM"
   },
   "source": [
    "### Conteo de frecuencias de los lenguajes de programación\n",
    "\n",
    "La columna que contiene información sobre los lenguajes de programación utilizados es `tools_programming_languages`. Sus valores son strings con los lenguajes seleccionados separados por comas.\n",
    "\n"
   ]
  },
  {
   "cell_type": "code",
   "execution_count": 9,
   "metadata": {
    "colab": {
     "base_uri": "https://localhost:8080/"
    },
    "executionInfo": {
     "elapsed": 2098,
     "status": "ok",
     "timestamp": 1680803598951,
     "user": {
      "displayName": "Laura Minuet",
      "userId": "00787725849952937741"
     },
     "user_tz": 180
    },
    "id": "J7AB2Ty8SvNl",
    "outputId": "14ae668d-fd7a-4395-b76a-e7ffbcc95b7a"
   },
   "outputs": [
    {
     "data": {
      "text/plain": [
       "0                                          Python\n",
       "1    CSS, HTML, Java, Javascript, SQL, TypeScript\n",
       "2                         Javascript, PHP, Python\n",
       "Name: tools_programming_languages, dtype: object"
      ]
     },
     "execution_count": 9,
     "metadata": {},
     "output_type": "execute_result"
    }
   ],
   "source": [
    "df.tools_programming_languages[:3]"
   ]
  },
  {
   "cell_type": "markdown",
   "metadata": {
    "id": "l8bYmvMhSroH"
   },
   "source": [
    "Las siguientes celdas de código separan estos lenguajes de programación y cuentan la frecuencia con la que aparecen.\n",
    "\n",
    "No es necesario entender este código en profundidad, aunque sí es un buen ejercicio."
   ]
  },
  {
   "cell_type": "code",
   "execution_count": 10,
   "metadata": {
    "colab": {
     "base_uri": "https://localhost:8080/",
     "height": 241
    },
    "executionInfo": {
     "elapsed": 2082,
     "status": "ok",
     "timestamp": 1680803607633,
     "user": {
      "displayName": "Laura Minuet",
      "userId": "00787725849952937741"
     },
     "user_tz": 180
    },
    "id": "PAQ81x3iUP_N",
    "outputId": "d3b30292-1f23-4389-d5f9-b966758a43fb"
   },
   "outputs": [
    {
     "data": {
      "text/html": [
       "<div>\n",
       "<style scoped>\n",
       "    .dataframe tbody tr th:only-of-type {\n",
       "        vertical-align: middle;\n",
       "    }\n",
       "\n",
       "    .dataframe tbody tr th {\n",
       "        vertical-align: top;\n",
       "    }\n",
       "\n",
       "    .dataframe thead th {\n",
       "        text-align: right;\n",
       "    }\n",
       "</style>\n",
       "<table border=\"1\" class=\"dataframe\">\n",
       "  <thead>\n",
       "    <tr style=\"text-align: right;\">\n",
       "      <th></th>\n",
       "      <th>programming_language</th>\n",
       "      <th>tools_programming_languages</th>\n",
       "      <th>salary_monthly_NETO</th>\n",
       "      <th>cured_programming_languages</th>\n",
       "    </tr>\n",
       "  </thead>\n",
       "  <tbody>\n",
       "    <tr>\n",
       "      <th>0</th>\n",
       "      <td>python</td>\n",
       "      <td>Python</td>\n",
       "      <td>245000.0</td>\n",
       "      <td>[python]</td>\n",
       "    </tr>\n",
       "    <tr>\n",
       "      <th>1</th>\n",
       "      <td>css</td>\n",
       "      <td>CSS, HTML, Java, Javascript, SQL, TypeScript</td>\n",
       "      <td>850000.0</td>\n",
       "      <td>[css, html, java, javascript, sql, typescript]</td>\n",
       "    </tr>\n",
       "    <tr>\n",
       "      <th>1</th>\n",
       "      <td>html</td>\n",
       "      <td>CSS, HTML, Java, Javascript, SQL, TypeScript</td>\n",
       "      <td>850000.0</td>\n",
       "      <td>[css, html, java, javascript, sql, typescript]</td>\n",
       "    </tr>\n",
       "    <tr>\n",
       "      <th>1</th>\n",
       "      <td>java</td>\n",
       "      <td>CSS, HTML, Java, Javascript, SQL, TypeScript</td>\n",
       "      <td>850000.0</td>\n",
       "      <td>[css, html, java, javascript, sql, typescript]</td>\n",
       "    </tr>\n",
       "    <tr>\n",
       "      <th>1</th>\n",
       "      <td>javascript</td>\n",
       "      <td>CSS, HTML, Java, Javascript, SQL, TypeScript</td>\n",
       "      <td>850000.0</td>\n",
       "      <td>[css, html, java, javascript, sql, typescript]</td>\n",
       "    </tr>\n",
       "  </tbody>\n",
       "</table>\n",
       "</div>"
      ],
      "text/plain": [
       "  programming_language                   tools_programming_languages   \n",
       "0               python                                        Python  \\\n",
       "1                  css  CSS, HTML, Java, Javascript, SQL, TypeScript   \n",
       "1                 html  CSS, HTML, Java, Javascript, SQL, TypeScript   \n",
       "1                 java  CSS, HTML, Java, Javascript, SQL, TypeScript   \n",
       "1           javascript  CSS, HTML, Java, Javascript, SQL, TypeScript   \n",
       "\n",
       "   salary_monthly_NETO                     cured_programming_languages  \n",
       "0             245000.0                                        [python]  \n",
       "1             850000.0  [css, html, java, javascript, sql, typescript]  \n",
       "1             850000.0  [css, html, java, javascript, sql, typescript]  \n",
       "1             850000.0  [css, html, java, javascript, sql, typescript]  \n",
       "1             850000.0  [css, html, java, javascript, sql, typescript]  "
      ]
     },
     "execution_count": 10,
     "metadata": {},
     "output_type": "execute_result"
    }
   ],
   "source": [
    "# Convert the comma-separated string of languages to a list of string.\n",
    "# Remove 'ninguno de los anteriores' option, spaces and training commas.\n",
    "def split_languages(languages_str):\n",
    "    if not isinstance(languages_str, str):\n",
    "        return []\n",
    "    # Remove 'other' option\n",
    "    languages_str = languages_str.lower().replace(\"ninguno de los anteriores\", \"\")\n",
    "    # Split string into list of items\n",
    "    # Remove spaces and commas for each item\n",
    "    return [lang.strip().replace(\",\", \"\") for lang in languages_str.split()]\n",
    "\n",
    "\n",
    "# Create a new column with the list of languages\n",
    "df.loc[:, \"cured_programming_languages\"] = df.tools_programming_languages.apply(\n",
    "    split_languages\n",
    ")\n",
    "if \"cured_programming_languages\" not in relevant_columns:\n",
    "    relevant_columns.append(\"cured_programming_languages\")\n",
    "\n",
    "# Duplicate each row of df for each programming language\n",
    "# mentioned in the response.\n",
    "# We only include in df_lang the columns we are going to analyze later, so we\n",
    "# don't duplicate innecesary information.\n",
    "df_lang = (\n",
    "    df.cured_programming_languages.apply(pd.Series)\n",
    "    .stack()\n",
    "    .reset_index(level=-1, drop=True)\n",
    "    .to_frame()\n",
    "    .join(df[relevant_columns])\n",
    "    .rename(columns={0: \"programming_language\"})\n",
    ")\n",
    "# Horrible programming style! But a lot of data science code can be written with\n",
    "# as concatenations of functions (pipelines), and there's no elegant way of\n",
    "# doing that on Python.\n",
    "df_lang[:5]"
   ]
  },
  {
   "cell_type": "markdown",
   "metadata": {
    "id": "qm8NUg-7UEue"
   },
   "source": [
    "En la columna `programming_language` se encuentra cada lenguaje por separado. Notar que si una respuesta contenía 3 lenguajes, como `\"HTML, Javascript, Python\"`, la fila ha sido replicada 3 veces. Por ello, hay tres filas con índice 1."
   ]
  },
  {
   "cell_type": "code",
   "execution_count": 11,
   "metadata": {
    "colab": {
     "base_uri": "https://localhost:8080/",
     "height": 363
    },
    "executionInfo": {
     "elapsed": 382,
     "status": "ok",
     "timestamp": 1680803641068,
     "user": {
      "displayName": "Laura Minuet",
      "userId": "00787725849952937741"
     },
     "user_tz": 180
    },
    "id": "lNPb4tTvWCwv",
    "outputId": "2385537d-f510-4967-b5ee-2533892a26e8"
   },
   "outputs": [
    {
     "data": {
      "text/html": [
       "<div>\n",
       "<style scoped>\n",
       "    .dataframe tbody tr th:only-of-type {\n",
       "        vertical-align: middle;\n",
       "    }\n",
       "\n",
       "    .dataframe tbody tr th {\n",
       "        vertical-align: top;\n",
       "    }\n",
       "\n",
       "    .dataframe thead th {\n",
       "        text-align: right;\n",
       "    }\n",
       "</style>\n",
       "<table border=\"1\" class=\"dataframe\">\n",
       "  <thead>\n",
       "    <tr style=\"text-align: right;\">\n",
       "      <th></th>\n",
       "      <th>frequency</th>\n",
       "      <th>count</th>\n",
       "    </tr>\n",
       "  </thead>\n",
       "  <tbody>\n",
       "    <tr>\n",
       "      <th>0</th>\n",
       "      <td>javascript</td>\n",
       "      <td>2142</td>\n",
       "    </tr>\n",
       "    <tr>\n",
       "      <th>1</th>\n",
       "      <td>sql</td>\n",
       "      <td>2075</td>\n",
       "    </tr>\n",
       "    <tr>\n",
       "      <th>2</th>\n",
       "      <td>html</td>\n",
       "      <td>1541</td>\n",
       "    </tr>\n",
       "    <tr>\n",
       "      <th>3</th>\n",
       "      <td>python</td>\n",
       "      <td>1409</td>\n",
       "    </tr>\n",
       "    <tr>\n",
       "      <th>4</th>\n",
       "      <td>css</td>\n",
       "      <td>1051</td>\n",
       "    </tr>\n",
       "    <tr>\n",
       "      <th>5</th>\n",
       "      <td>java</td>\n",
       "      <td>967</td>\n",
       "    </tr>\n",
       "    <tr>\n",
       "      <th>6</th>\n",
       "      <td>typescript</td>\n",
       "      <td>948</td>\n",
       "    </tr>\n",
       "    <tr>\n",
       "      <th>7</th>\n",
       "      <td>bash/shell</td>\n",
       "      <td>859</td>\n",
       "    </tr>\n",
       "    <tr>\n",
       "      <th>8</th>\n",
       "      <td>.net</td>\n",
       "      <td>612</td>\n",
       "    </tr>\n",
       "    <tr>\n",
       "      <th>9</th>\n",
       "      <td>php</td>\n",
       "      <td>602</td>\n",
       "    </tr>\n",
       "  </tbody>\n",
       "</table>\n",
       "</div>"
      ],
      "text/plain": [
       "    frequency  count\n",
       "0  javascript   2142\n",
       "1         sql   2075\n",
       "2        html   1541\n",
       "3      python   1409\n",
       "4         css   1051\n",
       "5        java    967\n",
       "6  typescript    948\n",
       "7  bash/shell    859\n",
       "8        .net    612\n",
       "9         php    602"
      ]
     },
     "execution_count": 11,
     "metadata": {},
     "output_type": "execute_result"
    }
   ],
   "source": [
    "language_count = (\n",
    "    df_lang.programming_language.value_counts()\n",
    "    .reset_index()\n",
    "    .rename(columns={\"index\": \"language\", \"programming_language\": \"frequency\"})\n",
    ")\n",
    "language_count[:10]"
   ]
  },
  {
   "cell_type": "markdown",
   "metadata": {
    "id": "nThbJ1KeUgDo"
   },
   "source": [
    "## Filtrado de lenguajes relevantes\n",
    "\n",
    "El siguiente código permite seleccionar sólo las filas donde el valor de la columna `programming_language` se encuentre en la lista `interesting_languages`."
   ]
  },
  {
   "cell_type": "code",
   "execution_count": 12,
   "metadata": {
    "colab": {
     "base_uri": "https://localhost:8080/",
     "height": 206
    },
    "executionInfo": {
     "elapsed": 9,
     "status": "ok",
     "timestamp": 1680803661103,
     "user": {
      "displayName": "Laura Minuet",
      "userId": "00787725849952937741"
     },
     "user_tz": 180
    },
    "id": "DEpVptnLZUQU",
    "outputId": "1bd12fb9-600d-46c4-92e8-6eaafad48b0d"
   },
   "outputs": [
    {
     "data": {
      "text/html": [
       "<div>\n",
       "<style scoped>\n",
       "    .dataframe tbody tr th:only-of-type {\n",
       "        vertical-align: middle;\n",
       "    }\n",
       "\n",
       "    .dataframe tbody tr th {\n",
       "        vertical-align: top;\n",
       "    }\n",
       "\n",
       "    .dataframe thead th {\n",
       "        text-align: right;\n",
       "    }\n",
       "</style>\n",
       "<table border=\"1\" class=\"dataframe\">\n",
       "  <thead>\n",
       "    <tr style=\"text-align: right;\">\n",
       "      <th></th>\n",
       "      <th>programming_language</th>\n",
       "      <th>tools_programming_languages</th>\n",
       "      <th>salary_monthly_NETO</th>\n",
       "      <th>cured_programming_languages</th>\n",
       "    </tr>\n",
       "  </thead>\n",
       "  <tbody>\n",
       "    <tr>\n",
       "      <th>0</th>\n",
       "      <td>python</td>\n",
       "      <td>Python</td>\n",
       "      <td>245000.0</td>\n",
       "      <td>[python]</td>\n",
       "    </tr>\n",
       "    <tr>\n",
       "      <th>2</th>\n",
       "      <td>python</td>\n",
       "      <td>Javascript, PHP, Python</td>\n",
       "      <td>115000.0</td>\n",
       "      <td>[javascript, php, python]</td>\n",
       "    </tr>\n",
       "    <tr>\n",
       "      <th>13</th>\n",
       "      <td>python</td>\n",
       "      <td>Bash/Shell, Python, SQL</td>\n",
       "      <td>625000.0</td>\n",
       "      <td>[bash/shell, python, sql]</td>\n",
       "    </tr>\n",
       "    <tr>\n",
       "      <th>15</th>\n",
       "      <td>python</td>\n",
       "      <td>Bash/Shell, HTML, Javascript, PHP, Python, Typ...</td>\n",
       "      <td>317000.0</td>\n",
       "      <td>[bash/shell, html, javascript, php, python, ty...</td>\n",
       "    </tr>\n",
       "    <tr>\n",
       "      <th>18</th>\n",
       "      <td>python</td>\n",
       "      <td>CSS, HTML, Java, Python, SQL</td>\n",
       "      <td>45000.0</td>\n",
       "      <td>[css, html, java, python, sql]</td>\n",
       "    </tr>\n",
       "  </tbody>\n",
       "</table>\n",
       "</div>"
      ],
      "text/plain": [
       "   programming_language                        tools_programming_languages   \n",
       "0                python                                             Python  \\\n",
       "2                python                            Javascript, PHP, Python   \n",
       "13               python                            Bash/Shell, Python, SQL   \n",
       "15               python  Bash/Shell, HTML, Javascript, PHP, Python, Typ...   \n",
       "18               python                       CSS, HTML, Java, Python, SQL   \n",
       "\n",
       "    salary_monthly_NETO                        cured_programming_languages  \n",
       "0              245000.0                                           [python]  \n",
       "2              115000.0                          [javascript, php, python]  \n",
       "13             625000.0                          [bash/shell, python, sql]  \n",
       "15             317000.0  [bash/shell, html, javascript, php, python, ty...  \n",
       "18              45000.0                     [css, html, java, python, sql]  "
      ]
     },
     "execution_count": 12,
     "metadata": {},
     "output_type": "execute_result"
    }
   ],
   "source": [
    "# Filter out languages that we want to exclude\n",
    "# Complete here with your selected list.\n",
    "interesting_languages = [\"python\"]\n",
    "filtered_df_lang = df_lang[df_lang.programming_language.isin(interesting_languages)]\n",
    "filtered_df_lang[:5]"
   ]
  },
  {
   "cell_type": "markdown",
   "metadata": {
    "id": "tWo8SmmC9FAk"
   },
   "source": [
    "# Ejercicio 2 - Densidades y varias variables\n",
    "\n",
    "Responder a la pregunta general: **¿Que herramientas (prácticas y teóricas) són útiles para explorar la base, descubrir patrones, asociaciones?**\n",
    "\n",
    "Para ello considere (igual al ejercicio Anterior):\n",
    "1. Seleccionar las columnas relevantes para analizar.\n",
    "2. Seleccionar las filas relevantes para analizar. Esto incluye la eliminación de valores extremos y erróneos, pero también puede enfocar el análisis en sub-poblaciones. "
   ]
  },
  {
   "cell_type": "markdown",
   "metadata": {
    "id": "5baYhH0XHM3S"
   },
   "source": [
    "## a) Densidad conjunta\n",
    "\n",
    "Que herramientas visuales y modelos puede utilizar para estudiar la distribución y comportamiento de sus datos? \n",
    "\n",
    "Elija tres variables numéricas y 2 variables categóricas. Visualice la base según varias de las variables elegidas. Puede describir de alguna forma el comportamiento de sus datos? Que herramientas utilizaría? Describa\n",
    "\n",
    "\n"
   ]
  },
  {
   "cell_type": "markdown",
   "metadata": {
    "id": "lkuHE2aZGHMO"
   },
   "source": [
    "## b) Asociación\n",
    "\n",
    "* Necesitamos decidir si sacar o no la columna de salario bruto. Para hacer la encuesta más simple.\n",
    "¿Existe una correlación entre el salario bruto y el neto? Que abordaje y medidas usaría\n",
    "\n"
   ]
  },
  {
   "cell_type": "markdown",
   "metadata": {
    "id": "7MZrbRJCm-ae"
   },
   "source": [
    "## c) Densidad condicional \n",
    "\n",
    "Estudie la distribución del salario según el nivel de estudio.\n",
    "\n",
    "Separe la población según el nivel de estudio (elija dos subpoblaciones numerosas) y grafique de manera comparativa ambos histogramas de la variable `'salary_monthly_NETO'`\n",
    "¿Considera que ambas variables son independientes?\n",
    "¿Qué analizaría al respecto?\n",
    "\n",
    "Calcule medidas de centralización y dispersión para cada subpoblación\n",
    "\n",
    "\n",
    "\n",
    "\n"
   ]
  },
  {
   "cell_type": "markdown",
   "metadata": {
    "id": "u8wgYxNiqVpE"
   },
   "source": [
    "## d) Densidad Conjunta condicional\n",
    "\n",
    "Elija dos variables numéricas y una categórica. \n",
    "Estudie la dispersión (scatterplot) de las dos variables discriminando en color por la variable categórica (ayuda: hue en seaborn)\n"
   ]
  }
 ],
 "metadata": {
  "colab": {
   "provenance": [
    {
     "file_id": "1NXWXyebR6mzAabyOPqghXpZQdyy05cRV",
     "timestamp": 1680785357097
    },
    {
     "file_id": "1OZLULlr-RkXwyhar7ED5fcXmPdgc6tGb",
     "timestamp": 1617224538047
    },
    {
     "file_id": "1xPL68eVaR0UF7XTcLU1rCMfpzuS7r6s0",
     "timestamp": 1617223947184
    },
    {
     "file_id": "1bChseZSrdGJSXfa-D2_lS0dx98wplQtD",
     "timestamp": 1614968149245
    }
   ]
  },
  "kernelspec": {
   "display_name": "diplo_datos_venv",
   "language": "python",
   "name": "diplo_datos_venv"
  },
  "language_info": {
   "codemirror_mode": {
    "name": "ipython",
    "version": 3
   },
   "file_extension": ".py",
   "mimetype": "text/x-python",
   "name": "python",
   "nbconvert_exporter": "python",
   "pygments_lexer": "ipython3",
   "version": "3.10.6"
  }
 },
 "nbformat": 4,
 "nbformat_minor": 1
}
