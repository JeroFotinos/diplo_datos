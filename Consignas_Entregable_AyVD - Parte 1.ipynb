{
 "cells": [
  {
   "cell_type": "markdown",
   "metadata": {
    "id": "LYvAOR2VzHmW"
   },
   "source": [
    "\n",
    "**Diplomatura en Ciencia de Datos, Aprendizaje Automático y sus Aplicaciones**\n",
    "\n",
    "**Edición 2023**\n",
    "\n",
    "---\n",
    "# Trabajo práctico entregable - Parte 1"
   ]
  },
  {
   "cell_type": "code",
   "execution_count": 7,
   "metadata": {
    "executionInfo": {
     "elapsed": 743,
     "status": "ok",
     "timestamp": 1680803577547,
     "user": {
      "displayName": "Laura Minuet",
      "userId": "00787725849952937741"
     },
     "user_tz": 180
    },
    "id": "Xwdfo7z20TUK"
   },
   "outputs": [],
   "source": [
    "import io\n",
    "import matplotlib\n",
    "import matplotlib.pyplot as plt\n",
    "import numpy as np\n",
    "import pandas as pd\n",
    "import seaborn as sns\n",
    "import pandasql as pdsql\n",
    "from typing import List\n",
    "\n",
    "sns.set_context(\"talk\")"
   ]
  },
  {
   "cell_type": "code",
   "execution_count": 8,
   "metadata": {},
   "outputs": [],
   "source": [
    "# Utils\n",
    "# TODO: Create a module for these functions\n",
    "\n",
    "\n",
    "def filter_extreme_rows(df: pd.DataFrame, column_list: List[str]):\n",
    "    # Iterate over the columns and filter out the rows with extreme values\n",
    "    for column in column_list:\n",
    "        q1 = df[column].quantile(0.25)\n",
    "        q3 = df[column].quantile(0.75)\n",
    "        iqr = q3 - q1\n",
    "        lower_bound = q1 - 1.5 * iqr\n",
    "        upper_bound = q3 + 1.5 * iqr\n",
    "        df = df[(df[column] >= lower_bound) & (df[column] <= upper_bound)]\n",
    "\n",
    "    return df"
   ]
  },
  {
   "cell_type": "markdown",
   "metadata": {
    "id": "XY2Hl-Ma07Nn"
   },
   "source": [
    "## Lectura del data set\n",
    "\n",
    "En la notebook 00 se explican los detalles de la siguiente sección."
   ]
  },
  {
   "cell_type": "code",
   "execution_count": 9,
   "metadata": {
    "executionInfo": {
     "elapsed": 1525,
     "status": "ok",
     "timestamp": 1680803579067,
     "user": {
      "displayName": "Laura Minuet",
      "userId": "00787725849952937741"
     },
     "user_tz": 180
    },
    "id": "Vviv_sqXdR5W"
   },
   "outputs": [],
   "source": [
    "url = \"https://raw.githubusercontent.com/DiploDatos/AnalisisyVisualizacion/master/sysarmy_survey_2022_processed.csv\"\n",
    "df = pd.read_csv(url)"
   ]
  },
  {
   "cell_type": "markdown",
   "metadata": {},
   "source": [
    "## Inspección general del data set"
   ]
  },
  {
   "cell_type": "code",
   "execution_count": null,
   "metadata": {
    "colab": {
     "base_uri": "https://localhost:8080/",
     "height": 341
    },
    "executionInfo": {
     "elapsed": 8,
     "status": "ok",
     "timestamp": 1680803584733,
     "user": {
      "displayName": "Laura Minuet",
      "userId": "00787725849952937741"
     },
     "user_tz": 180
    },
    "id": "gckNHXXLktJ4",
    "outputId": "bc293c9b-10f8-4d61-fa80-2cbf89ab28e1"
   },
   "outputs": [],
   "source": [
    "# first, we visualize the first 5 rows and the corresponding columns\n",
    "df.head()"
   ]
  },
  {
   "cell_type": "code",
   "execution_count": null,
   "metadata": {},
   "outputs": [],
   "source": [
    "# then, we look at the number of rows and columns\n",
    "df.shape"
   ]
  },
  {
   "cell_type": "code",
   "execution_count": null,
   "metadata": {},
   "outputs": [],
   "source": [
    "# Let us now see the list of columns\n",
    "df.columns"
   ]
  },
  {
   "cell_type": "code",
   "execution_count": null,
   "metadata": {},
   "outputs": [],
   "source": [
    "# Let's check the data types of each column\n",
    "df.dtypes"
   ]
  },
  {
   "cell_type": "code",
   "execution_count": null,
   "metadata": {},
   "outputs": [],
   "source": [
    "# To finish this first inspection of the data, let's look at some\n",
    "# basic statistics of the numerical columns of the DataFrame\n",
    "df.describe()"
   ]
  },
  {
   "cell_type": "markdown",
   "metadata": {
    "id": "-ZSQYANFHHgV"
   },
   "source": [
    "---\n",
    "\n",
    "# Ejercicio 1 - Análisis descriptivo\n",
    "\n",
    "Responder a la pregunta: **¿Cuáles son los lenguajes de programación asociados a los mejores salarios?**\n",
    "\n",
    "Para ello:\n",
    "1. Seleccionar las columnas relevantes para analizar.\n",
    "2. Seleccionar las filas relevantes para analizar. Esto incluye la eliminación de valores extremos y erróneos, pero también puede enfocar el análisis en una sub-población. Por ejemplo, se pueden limitar a personas con un salario mayor que 10000 pesos, o a las personas que trabajan sólo en \"Data Science\", pero deben justificar su elección y reformular la pregunta inicial de ser necesario.\n",
    "  * Obtener una lista de los lenguajes de programación más populares. Decidir cuántos y cuáles seleccionan para incluir en el análisis.\n",
    "  * Para cada una de las otras columnas del punto anterior, elegir los rangos o valores seleccionan para incluir en el análisis.\n",
    "3. Seleccionar métricas que ayuden a responder la pregunta, y los métodos para analizarlas. Elegir UNA de las siguientes opciones:\n",
    "  * Comparar las distribuciones de salario para cada lenguaje utilizando visualizaciones. Como la visualización es el producto final, debe ser clara y mostrar información relevante.\n",
    "  * Comparar medidas de estadística descriptiva sobre la distribución de salario para cada lenguaje. Sean creativos, la estadística descriptiva nos permite decir cosas como: \"el 10% de los mejores sueldos los ganan, en su mayoría, programadores que saben kotlin!\" (donde *mayoría* es un término medio engañoso que sólo significa más del 50%). Para comparar múltiples lenguajes, les recomendamos usar también visualizaciones.\n",
    "  * Comparar probabilidades. Por ejemplo: \"Si sabés Python o Java, tenés un 30% más de chances de ganar arriba de 100K\".\n",
    "\n",
    "Si lo consideran necesario, realicen varias iteraciones. Es decir, si encuentran que las distribuciones de los lenguajes de programación que seleccionaron inicialmente no son muy diferentes, pueden re-hacer el análisis usando sólo los lenguajes de programación que son diferentes."
   ]
  },
  {
   "cell_type": "markdown",
   "metadata": {},
   "source": [
    "----------------------------\n",
    "\n",
    "Para comparar cuáles son los lenguajes asociados a los mejores salarios, deberíamos primero definir un valor para cada lenguaje y luego hacer la comparación. En general, tendríamos que diseñar el test de hipótesis para poder comparar, pero en este caso creo que no se pretende hacer inferencia, sino simplemente describir para los datos de la base.\n",
    "\n",
    "Idea Joaco: hacer boxplot.\n",
    "\n",
    "Para obtener un valor a comparar, tendríamos que separar primero por lenguaje. Luego:\n",
    "- ('work_contract_type') Remoto, Staff, etc., puede influir\n",
    "- ('Trabajo de') va a influir, pero creería que está indisociablemente asociado al lenguaje\n",
    "- ('profile_years_experience' & 'work_years_in_company') ¿separar los cuartiles del medio? Si no, decisión arbitraria del tipo 5 a 10 años, o comparar por cuartiles.\n",
    "- ('work_work_modality') Quizás está relacionada a 'work_contract_type'.\n",
    "\n",
    "Idea de reformulación de la pregunta a responder: ¿La presencia de qué lenguaje se asocia a los mayores salarios?"
   ]
  },
  {
   "cell_type": "markdown",
   "metadata": {},
   "source": [
    "## Selección de columnas relevantes\n",
    "Las columnas relevantes van a depender de cuál sea exactamente nuestra pregunta, pero podemos ir separando las que pueden estar relacionadas con lo que queremos ver, del resto de las columnas. Viendo la lista de columnas, las que a priori uno pensaría que pueden tener relación son:\n",
    "- `'work_contract_type'`, e.g.: Remoto, Staff, etc.;\n",
    "- `'Trabajo de'`, que pienso que va a influir, pero creería que está indisociablemente asociado al lenguaje (no podemos categorizar con esta columna);\n",
    "- `'profile_years_experience'` y `'work_years_in_company'`, ¿separar los cuartiles del medio? Si no, decisión arbitraria del tipo 5 a 10 años, o comparar por cuartiles;\n",
    "- `'work_work_modality'` quizás está relacionada a `'work_contract_type'`.\n"
   ]
  },
  {
   "cell_type": "code",
   "execution_count": null,
   "metadata": {},
   "outputs": [],
   "source": [
    "df[\"work_contract_type\"].unique()"
   ]
  },
  {
   "cell_type": "code",
   "execution_count": null,
   "metadata": {},
   "outputs": [],
   "source": [
    "df[\"Trabajo de\"].unique()"
   ]
  },
  {
   "cell_type": "code",
   "execution_count": null,
   "metadata": {},
   "outputs": [],
   "source": [
    "df[\"profile_years_experience\"].unique()"
   ]
  },
  {
   "cell_type": "code",
   "execution_count": null,
   "metadata": {},
   "outputs": [],
   "source": [
    "df[\"work_years_in_company\"].unique()"
   ]
  },
  {
   "cell_type": "code",
   "execution_count": null,
   "metadata": {},
   "outputs": [],
   "source": [
    "df[\"work_work_modality\"].unique()"
   ]
  },
  {
   "cell_type": "code",
   "execution_count": null,
   "metadata": {},
   "outputs": [],
   "source": [
    "df[\"tools_programming_languages\"].unique()\n",
    "df.columns"
   ]
  },
  {
   "cell_type": "markdown",
   "metadata": {},
   "source": [
    "2. Seleccionar las filas relevantes para analizar. Esto incluye la eliminación de valores extremos y erróneos, pero también puede enfocar el análisis en una sub-población. Por ejemplo, se pueden limitar a personas con un salario mayor que 10000 pesos, o a las personas que trabajan sólo en \"Data Science\", pero deben justificar su elección y reformular la pregunta inicial de ser necesario."
   ]
  },
  {
   "cell_type": "code",
   "execution_count": null,
   "metadata": {},
   "outputs": [],
   "source": [
    "df = filter_extreme_rows(df, [\"salary_monthly_BRUTO\", \"salary_monthly_NETO\"])\n",
    "df = pdsql.sqldf(\n",
    "    \"SELECT * FROM df WHERE salary_monthly_BRUTO > 10000 AND salary_monthly_NETO > 10000 AND salary_monthly_BRUTO > salary_monthly_NETO\"\n",
    ")"
   ]
  },
  {
   "cell_type": "markdown",
   "metadata": {},
   "source": [
    "---\n",
    "\n",
    "### Armo el Dataframe por lenguaje\n",
    "\n",
    "Notar que respuestas como `'CSS, HTML, Java, Javascript, SQL, TypeScript'` hay que parsearlas antes de poder hacer el conteo de frecuencias. Además, hay que limpiar los espacios en blanco y las diferencias en capitalización.\n"
   ]
  },
  {
   "cell_type": "code",
   "execution_count": null,
   "metadata": {},
   "outputs": [],
   "source": [
    "# Initialize an empty dictionary to store the salary data for each language\n",
    "language_salary_data = {}\n",
    "\n",
    "# Iterate over each row in the DataFrame\n",
    "for index, row in df.iterrows():\n",
    "    # Convert the value in the 'tools_programming_languages' column to a string, then split it by comma\n",
    "    languages = str(row[\"tools_programming_languages\"]).lower().split(\",\")\n",
    "    # Iterate over each programming language in the list\n",
    "    for language in languages:\n",
    "        # Clean the language string by removing leading/trailing spaces\n",
    "        language = language.strip()\n",
    "        # Check if the language is already in the dictionary\n",
    "        if language in language_salary_data:\n",
    "            # If it is, append the salary to the existing list of salaries for that language\n",
    "            language_salary_data[language].append(row[\"salary_monthly_NETO\"])\n",
    "        else:\n",
    "            # If it is not, create a new key-value pair in the dictionary for the language and its salary data\n",
    "            language_salary_data[language] = [row[\"salary_monthly_NETO\"]]\n",
    "\n",
    "# Filter the language salary data dictionary to include only the languages that have more than twenty salary data point\n",
    "language_salary_data_filtered = {\n",
    "    language: salaries\n",
    "    for language, salaries in language_salary_data.items()\n",
    "    if len(salaries) > 20  # 20 because of reasons (?\n",
    "}\n",
    "\n",
    "# Initialize an empty list to store the statistics for each language\n",
    "language_salary_stats = []\n",
    "\n",
    "# Iterate over each language in the filtered dictionary\n",
    "for language in language_salary_data_filtered:\n",
    "    # Calculate the statistics for the salaries for that language\n",
    "    salary_stats = [\n",
    "        language,\n",
    "        np.mean(language_salary_data_filtered[language]),\n",
    "        np.median(language_salary_data_filtered[language]),\n",
    "        np.std(language_salary_data_filtered[language]),\n",
    "        len(language_salary_data_filtered[language]),\n",
    "    ]\n",
    "    # Append the statistics to the list of language statistics\n",
    "    language_salary_stats.append(salary_stats)\n",
    "\n",
    "# Create a DataFrame from the list of language statistics and name the columns\n",
    "df_salary_stats = pd.DataFrame(\n",
    "    language_salary_stats,\n",
    "    columns=[\"Language\", \"Mean Salary\", \"Median Salary\", \"Standard Deviation\", \"Count\"],\n",
    ")\n",
    "\n",
    "# Sort the DataFrame by frequency in descending order\n",
    "df_salary_stats = df_salary_stats.sort_values(by=\"Count\", ascending=False)\n",
    "\n",
    "# Print the result\n",
    "df_salary_stats"
   ]
  },
  {
   "cell_type": "markdown",
   "metadata": {},
   "source": [
    "## To do\n",
    "Do the boxplot or/and boxenplot for visualizing these previous data. In order to do this, I have to construct the dataframe that has `language` and `salary` columns, where each row represents a programmer. It is wired that I will have multiple columns for each programmer, but since we are looking at statistics for languages separately, I think it would be appropriate.\n",
    "\n",
    "[Seaborn boxplot docs](https://seaborn.pydata.org/generated/seaborn.boxplot.html)"
   ]
  },
  {
   "cell_type": "code",
   "execution_count": null,
   "metadata": {},
   "outputs": [],
   "source": [
    "# I sorted by count before to assess popularity, now I sort by mean salary to get closer to our question\n",
    "df_salary_stats = df_salary_stats.sort_values(by=\"Mean Salary\", ascending=False)\n",
    "df_salary_stats"
   ]
  },
  {
   "cell_type": "code",
   "execution_count": null,
   "metadata": {},
   "outputs": [],
   "source": [
    "# Style\n",
    "sns.set_style(\"darkgrid\")\n",
    "plt.figure(figsize=(10, 9))\n",
    "\n",
    "sns.barplot(\n",
    "    data=df_salary_stats.query('Language != \"ninguno de los anteriores\"'),\n",
    "    x=\"Mean Salary\",\n",
    "    y=\"Language\",\n",
    "    palette=\"magma\",\n",
    ")\n",
    "plt.show()\n",
    "# for the record, the following doesn't work\n",
    "# errorbar=df_salary_stats['Standard Deviation']"
   ]
  },
  {
   "cell_type": "markdown",
   "metadata": {},
   "source": [
    "I'm surprised bash is so up on the list. It would be interesting to see whether it is there cause the people that know a better paid language, like go or python, also happens to know bash. However, if there is a causal relation, I would be inclined to think that it is in fact contributing to be better paid."
   ]
  },
  {
   "cell_type": "markdown",
   "metadata": {},
   "source": [
    "### Ploteo un histograma de frecuencias\n",
    "Esto es solamente para tener una visualización de las frecuencias y generar intuición sobre dónde hacer el corte."
   ]
  },
  {
   "cell_type": "code",
   "execution_count": null,
   "metadata": {},
   "outputs": [],
   "source": [
    "# Style\n",
    "sns.set_style(\"darkgrid\")"
   ]
  },
  {
   "cell_type": "code",
   "execution_count": null,
   "metadata": {
    "scrolled": false
   },
   "outputs": [],
   "source": [
    "# Create a DataFrame from the language_salary_data_filtered dictionary, with columns for language and count\n",
    "df_language_count = pd.DataFrame(\n",
    "    {\n",
    "        \"Language\": list(language_salary_data_filtered.keys()),\n",
    "        \"Count\": [\n",
    "            len(language_salary_data_filtered[language])\n",
    "            for language in language_salary_data_filtered\n",
    "        ],\n",
    "    }\n",
    ")\n",
    "\n",
    "# Sort the DataFrame by count in descending order\n",
    "df_language_count = df_language_count.sort_values(by=\"Count\", ascending=False)\n",
    "\n",
    "# Initialize an empty list to store the relative frequency for each language\n",
    "language_relative_frequency = []\n",
    "\n",
    "# Iterate over each language in the sorted DataFrame\n",
    "for language in df_language_count[\"Language\"]:\n",
    "    # Calculate the relative frequency for the language and append it to the list of relative frequencies\n",
    "    frequency = len(language_salary_data_filtered[language]) / len(df)\n",
    "    language_relative_frequency.append(frequency)\n",
    "\n",
    "# Add the list of relative frequencies to the DataFrame\n",
    "df_language_count[\"Relative Frequency\"] = language_relative_frequency\n",
    "\n",
    "# Create the histogram plot using Seaborn\n",
    "sns.histplot(\n",
    "    data=df_language_count[\n",
    "        df_language_count[\"Language\"] != \"ninguno de los anteriores\"\n",
    "    ],\n",
    "    x=\"Language\",\n",
    "    weights=\"Relative Frequency\",\n",
    "    binwidth=0.5,\n",
    ")\n",
    "plt.xticks(rotation=70)\n",
    "plt.show()\n",
    "\n",
    "# I'm filtering the 'ninguno de los anteriores' because of reasons (?"
   ]
  },
  {
   "cell_type": "code",
   "execution_count": null,
   "metadata": {
    "scrolled": false
   },
   "outputs": [],
   "source": [
    "# Maybe languages will look better on the vertical axis\n",
    "# (because of the reading direction)\n",
    "\n",
    "# we set the figure size\n",
    "sns.set(rc={\"figure.figsize\": (10, 7)})  # (width, height)\n",
    "\n",
    "\n",
    "# Create a DataFrame from the language_salary_data_filtered dictionary, with columns for language and count\n",
    "df_language_count = pd.DataFrame(\n",
    "    {\n",
    "        \"Language\": list(language_salary_data_filtered.keys()),\n",
    "        \"Count\": [\n",
    "            len(language_salary_data_filtered[language])\n",
    "            for language in language_salary_data_filtered\n",
    "        ],\n",
    "    }\n",
    ")\n",
    "\n",
    "# Sort the DataFrame by count in descending order\n",
    "df_language_count = df_language_count.sort_values(by=\"Count\", ascending=False)\n",
    "\n",
    "# Initialize an empty list to store the relative frequency for each language\n",
    "language_relative_frequency = []\n",
    "\n",
    "# Iterate over each language in the sorted DataFrame\n",
    "for language in df_language_count[\"Language\"]:\n",
    "    # Calculate the relative frequency for the language and append it to the list of relative frequencies\n",
    "    frequency = len(language_salary_data_filtered[language]) / len(df)\n",
    "    language_relative_frequency.append(frequency)\n",
    "\n",
    "# Add the list of relative frequencies to the DataFrame\n",
    "df_language_count[\"Relative Frequency\"] = language_relative_frequency\n",
    "\n",
    "# Create the histogram plot using Seaborn\n",
    "sns.barplot(\n",
    "    data=df_language_count[\n",
    "        df_language_count[\"Language\"] != \"ninguno de los anteriores\"\n",
    "    ],\n",
    "    x=\"Relative Frequency\",\n",
    "    y=\"Language\",\n",
    ")\n",
    "plt.xticks(rotation=0)\n",
    "plt.show()\n",
    "\n",
    "# I'm filtering the 'ninguno de los anteriores' because of reasons (?"
   ]
  },
  {
   "cell_type": "markdown",
   "metadata": {},
   "source": [
    "Idea de Lucas: ver la distribución de número de lenguajes por programador"
   ]
  },
  {
   "cell_type": "code",
   "execution_count": null,
   "metadata": {
    "scrolled": false
   },
   "outputs": [],
   "source": [
    "# Count the number of programming languages for each respondent\n",
    "languages_per_programmer = (\n",
    "    df[\"tools_programming_languages\"]\n",
    "    .fillna(\"\")\n",
    "    .str.split(\",\")\n",
    "    .apply(lambda x: len([str(lang).strip() for lang in x]))\n",
    ")\n",
    "\n",
    "# Plot the distribution of the number of programming languages per programmer as a histogram\n",
    "sns.histplot(\n",
    "    languages_per_programmer, bins=range(1, 16), discrete=True, stat=\"probability\"\n",
    ")\n",
    "plt.xticks(range(1, 16))\n",
    "plt.xlabel(\"Number of programming languages\")\n",
    "plt.ylabel(\"Relative frequency\")\n",
    "plt.xlim(0.5, 15.5)\n",
    "plt.show()"
   ]
  },
  {
   "cell_type": "markdown",
   "metadata": {},
   "source": [
    "This looks roughly like a power law…"
   ]
  },
  {
   "cell_type": "code",
   "execution_count": null,
   "metadata": {
    "scrolled": false
   },
   "outputs": [],
   "source": [
    "# Compute the number of programming languages per programmer\n",
    "df[\"languages_per_programmer\"] = (\n",
    "    df[\"tools_programming_languages\"]\n",
    "    .fillna(\"\")\n",
    "    .str.split(\",\")\n",
    "    .apply(lambda x: len([str(lang).strip() for lang in x]))\n",
    ")\n",
    "\n",
    "# Filter out rows with 0 programming languages or more than 15 programming languages per programmer\n",
    "df1 = df[(df[\"languages_per_programmer\"] > 0) & (df[\"languages_per_programmer\"] <= 15)]\n",
    "\n",
    "# Group the data by the number of programming languages per programmer and compute the mean salary for each group\n",
    "grouped = (\n",
    "    df1.groupby(\"languages_per_programmer\")[\"salary_monthly_NETO\"].mean().reset_index()\n",
    ")\n",
    "\n",
    "# Plot a bar chart of the mean salary vs. the number of programming languages per programmer\n",
    "plt.figure(figsize=(10, 6))\n",
    "sns.barplot(\n",
    "    x=\"languages_per_programmer\", y=\"salary_monthly_NETO\", data=grouped, palette=\"magma\"\n",
    ")\n",
    "plt.xlabel(\"Number of Programming Languages per Programmer\")\n",
    "plt.ylabel(\"Mean Monthly Salary (NET)\")\n",
    "plt.title(\"Mean Monthly Salary vs. Number of Programming Languages per Programmer\")\n",
    "plt.show()"
   ]
  },
  {
   "cell_type": "markdown",
   "metadata": {},
   "source": [
    "Uso `magma` porque el número de lenguajes es una variable secuencial (tiene orden) y este colormap es uno de los secuenciales que son perceptualmente uniformes.\n",
    "\n",
    "En la [documentación](https://seaborn.pydata.org/generated/seaborn.barplot.html), indica un parámetro\n",
    "> `errorbarstring`, (string, number) tuple, callable or None\n",
    "Name of errorbar method (either “ci”, “pi”, “se”, or “sd”), or a tuple with a method name and a level parameter, or a function that maps from a vector to a (min, max) interval, or None to hide errorbar."
   ]
  },
  {
   "cell_type": "code",
   "execution_count": null,
   "metadata": {},
   "outputs": [],
   "source": [
    "# Define the data\n",
    "languages_per_programmer = (\n",
    "    df[\"tools_programming_languages\"]\n",
    "    .fillna(\"\")\n",
    "    .str.split(\",\")\n",
    "    .apply(lambda x: len([str(lang).strip() for lang in x]))\n",
    ")\n",
    "salary = df[\"salary_monthly_NETO\"]\n",
    "\n",
    "# Combine the data into a new dataframe\n",
    "data = pd.concat([languages_per_programmer, salary], axis=1)\n",
    "\n",
    "# Filter out entries with more than 15 programming languages\n",
    "data = data[data[\"tools_programming_languages\"] <= 15]\n",
    "\n",
    "# Calculate the mean salary and standard deviation for each number of programming languages\n",
    "mean_salary = data.groupby(\"tools_programming_languages\").mean().reset_index()\n",
    "std_salary = data.groupby(\"tools_programming_languages\").std().reset_index()\n",
    "\n",
    "# Create the plot with error bars\n",
    "sns.barplot(\n",
    "    x=\"tools_programming_languages\", y=\"salary_monthly_NETO\", data=data, errorbar=\"sd\"\n",
    ")\n",
    "\n",
    "# I'm setting the inferior limit to zero, since error bars get to negative values cause thery are taken symmetric\n",
    "plt.ylim(0, 1000000)\n",
    "\n",
    "# Set the axis labels and title\n",
    "plt.xlabel(\"Number of programming languages\")\n",
    "plt.ylabel(\"Monthly net salary (ARS)\")\n",
    "plt.title(\"Salary vs number of programming languages\")\n",
    "plt.show()"
   ]
  },
  {
   "cell_type": "markdown",
   "metadata": {},
   "source": [
    "Si esto está bien hecho, entonces las variaciones entre número de lenguajes de programación no son significativas a la hora de comparar salarios, mucho menos comparado con las variaciones (reflejadas arriba por las desviaciones estándar). Por esto, en lugar de pensar en el conjunto de lenguajes mejor pagos, podemos justificar hablar del lenguaje mejor pago, pensándolo como “el lenguaje cuya presencia en el conjunto de lenguajes que sabés, se relaciona a salarios más altos”.\n",
    "\n",
    "Esto no quita que dentro de un número de lenguajes, los valores clustericen en altos y bajos salarios para ciertos conjuntos de lenguajes."
   ]
  },
  {
   "cell_type": "code",
   "execution_count": null,
   "metadata": {
    "executionInfo": {
     "elapsed": 637,
     "status": "ok",
     "timestamp": 1680803590824,
     "user": {
      "displayName": "Laura Minuet",
      "userId": "00787725849952937741"
     },
     "user_tz": 180
    },
    "id": "6dqTEr7cZgvl"
   },
   "outputs": [],
   "source": [
    "# complete here if you want to include more columns\n",
    "relevant_columns = [\"tools_programming_languages\", \"salary_monthly_NETO\"]"
   ]
  },
  {
   "cell_type": "code",
   "execution_count": null,
   "metadata": {
    "executionInfo": {
     "elapsed": 637,
     "status": "ok",
     "timestamp": 1680803590824,
     "user": {
      "displayName": "Laura Minuet",
      "userId": "00787725849952937741"
     },
     "user_tz": 180
    },
    "id": "6dqTEr7cZgvl"
   },
   "outputs": [],
   "source": [
    "# my version\n",
    "relevant_columns = [\n",
    "    \"tools_programming_languages\",\n",
    "    \"salary_monthly_NETO\",\n",
    "    \"work_contract_type\",\n",
    "    \"Trabajo de\",\n",
    "    \"profile_years_experience\",\n",
    "    \"work_years_in_company\",\n",
    "    \"work_work_modality\",\n",
    "]"
   ]
  },
  {
   "cell_type": "code",
   "execution_count": null,
   "metadata": {},
   "outputs": [],
   "source": [
    "df1 = df[relevant_columns]"
   ]
  },
  {
   "cell_type": "code",
   "execution_count": null,
   "metadata": {},
   "outputs": [],
   "source": [
    "sns.pairplot(data=df1)\n",
    "plt.show()"
   ]
  },
  {
   "cell_type": "code",
   "execution_count": null,
   "metadata": {},
   "outputs": [],
   "source": [
    "columns_to_correlate = [\n",
    "    \"salary_monthly_NETO\",\n",
    "    \"profile_years_experience\",\n",
    "    \"work_years_in_company\",\n",
    "]\n",
    "df_corr = df[columns_to_correlate].dropna().corr()\n",
    "df_corr"
   ]
  },
  {
   "cell_type": "code",
   "execution_count": null,
   "metadata": {},
   "outputs": [],
   "source": [
    "# heatmap to better visualize this\n",
    "sns.heatmap(df_corr, annot=True)\n",
    "plt.show()"
   ]
  },
  {
   "cell_type": "markdown",
   "metadata": {
    "id": "OoGgzMvuEocM"
   },
   "source": [
    "### Conteo de frecuencias de los lenguajes de programación\n",
    "\n",
    "La columna que contiene información sobre los lenguajes de programación utilizados es `tools_programming_languages`. Sus valores son strings con los lenguajes seleccionados separados por comas.\n",
    "\n"
   ]
  },
  {
   "cell_type": "code",
   "execution_count": null,
   "metadata": {
    "colab": {
     "base_uri": "https://localhost:8080/"
    },
    "executionInfo": {
     "elapsed": 2098,
     "status": "ok",
     "timestamp": 1680803598951,
     "user": {
      "displayName": "Laura Minuet",
      "userId": "00787725849952937741"
     },
     "user_tz": 180
    },
    "id": "J7AB2Ty8SvNl",
    "outputId": "14ae668d-fd7a-4395-b76a-e7ffbcc95b7a"
   },
   "outputs": [],
   "source": [
    "df.tools_programming_languages[:3]"
   ]
  },
  {
   "cell_type": "markdown",
   "metadata": {
    "id": "l8bYmvMhSroH"
   },
   "source": [
    "Las siguientes celdas de código separan estos lenguajes de programación y cuentan la frecuencia con la que aparecen.\n",
    "\n",
    "No es necesario entender este código en profundidad, aunque sí es un buen ejercicio."
   ]
  },
  {
   "cell_type": "code",
   "execution_count": null,
   "metadata": {
    "colab": {
     "base_uri": "https://localhost:8080/",
     "height": 241
    },
    "executionInfo": {
     "elapsed": 2082,
     "status": "ok",
     "timestamp": 1680803607633,
     "user": {
      "displayName": "Laura Minuet",
      "userId": "00787725849952937741"
     },
     "user_tz": 180
    },
    "id": "PAQ81x3iUP_N",
    "outputId": "d3b30292-1f23-4389-d5f9-b966758a43fb"
   },
   "outputs": [],
   "source": [
    "# Convert the comma-separated string of languages to a list of string.\n",
    "# Remove 'ninguno de los anteriores' option, spaces and training commas.\n",
    "def split_languages(languages_str):\n",
    "    if not isinstance(languages_str, str):\n",
    "        return []\n",
    "    # Remove 'other' option\n",
    "    languages_str = languages_str.lower().replace(\"ninguno de los anteriores\", \"\")\n",
    "    # Split string into list of items\n",
    "    # Remove spaces and commas for each item\n",
    "    return [lang.strip().replace(\",\", \"\") for lang in languages_str.split()]\n",
    "\n",
    "\n",
    "# Create a new column with the list of languages\n",
    "df.loc[:, \"cured_programming_languages\"] = df.tools_programming_languages.apply(\n",
    "    split_languages\n",
    ")\n",
    "if \"cured_programming_languages\" not in relevant_columns:\n",
    "    relevant_columns.append(\"cured_programming_languages\")\n",
    "\n",
    "# Duplicate each row of df for each programming language\n",
    "# mentioned in the response.\n",
    "# We only include in df_lang the columns we are going to analyze later, so we\n",
    "# don't duplicate innecesary information.\n",
    "df_lang = (\n",
    "    df.cured_programming_languages.apply(pd.Series)\n",
    "    .stack()\n",
    "    .reset_index(level=-1, drop=True)\n",
    "    .to_frame()\n",
    "    .join(df[relevant_columns])\n",
    "    .rename(columns={0: \"programming_language\"})\n",
    ")\n",
    "# Horrible programming style! But a lot of data science code can be written with\n",
    "# as concatenations of functions (pipelines), and there's no elegant way of\n",
    "# doing that on Python.\n",
    "df_lang[:5]"
   ]
  },
  {
   "cell_type": "markdown",
   "metadata": {
    "id": "qm8NUg-7UEue"
   },
   "source": [
    "En la columna `programming_language` se encuentra cada lenguaje por separado. Notar que si una respuesta contenía 3 lenguajes, como `\"HTML, Javascript, Python\"`, la fila ha sido replicada 3 veces. Por ello, hay tres filas con índice 1."
   ]
  },
  {
   "cell_type": "code",
   "execution_count": null,
   "metadata": {
    "colab": {
     "base_uri": "https://localhost:8080/",
     "height": 363
    },
    "executionInfo": {
     "elapsed": 382,
     "status": "ok",
     "timestamp": 1680803641068,
     "user": {
      "displayName": "Laura Minuet",
      "userId": "00787725849952937741"
     },
     "user_tz": 180
    },
    "id": "lNPb4tTvWCwv",
    "outputId": "2385537d-f510-4967-b5ee-2533892a26e8"
   },
   "outputs": [],
   "source": [
    "language_count = (\n",
    "    df_lang.programming_language.value_counts()\n",
    "    .reset_index()\n",
    "    .rename(columns={\"index\": \"language\", \"programming_language\": \"frequency\"})\n",
    ")\n",
    "language_count[:10]"
   ]
  },
  {
   "cell_type": "code",
   "execution_count": null,
   "metadata": {},
   "outputs": [],
   "source": [
    "df_lang_for_box_plot = df_lang.drop(\n",
    "    columns=[\"cured_programming_languages\"], inplace=False\n",
    ")\n",
    "query = \"\"\"\n",
    "SELECT df_lang_for_box_plot.programming_language, salary_monthly_NETO, language_count.frequency\n",
    "FROM df_lang_for_box_plot\n",
    "LEFT JOIN\n",
    "(\n",
    "  SELECT programming_language, COUNT(*) AS frequency\n",
    "  FROM df_lang_for_box_plot\n",
    "  GROUP BY programming_language\n",
    "  HAVING frequency > 300\n",
    ") AS language_count ON language_count.programming_language = df_lang_for_box_plot.programming_language\n",
    "WHERE frequency IS NOT NULL\n",
    "\"\"\"\n",
    "\n",
    "df_lang_for_box_plot = pdsql.sqldf(query)\n",
    "sns.boxplot(\n",
    "    y=df_lang_for_box_plot[\"programming_language\"],\n",
    "    x=df_lang_for_box_plot[\"salary_monthly_NETO\"],\n",
    ")"
   ]
  },
  {
   "cell_type": "markdown",
   "metadata": {
    "id": "nThbJ1KeUgDo"
   },
   "source": [
    "## Filtrado de lenguajes relevantes\n",
    "\n",
    "El siguiente código permite seleccionar sólo las filas donde el valor de la columna `programming_language` se encuentre en la lista `interesting_languages`."
   ]
  },
  {
   "cell_type": "code",
   "execution_count": null,
   "metadata": {
    "colab": {
     "base_uri": "https://localhost:8080/",
     "height": 206
    },
    "executionInfo": {
     "elapsed": 9,
     "status": "ok",
     "timestamp": 1680803661103,
     "user": {
      "displayName": "Laura Minuet",
      "userId": "00787725849952937741"
     },
     "user_tz": 180
    },
    "id": "DEpVptnLZUQU",
    "outputId": "1bd12fb9-600d-46c4-92e8-6eaafad48b0d"
   },
   "outputs": [],
   "source": [
    "# Filter out languages that we want to exclude\n",
    "# Complete here with your selected list.\n",
    "interesting_languages = [\"python\", \"go\"]\n",
    "filtered_df_lang = df_lang[df_lang.programming_language.isin(interesting_languages)]\n",
    "filtered_df_lang[:5]"
   ]
  },
  {
   "cell_type": "code",
   "execution_count": null,
   "metadata": {
    "scrolled": false
   },
   "outputs": [],
   "source": [
    "python_languages = [\"python\"]\n",
    "python_df_lang = df_lang[df_lang.programming_language.isin(python_languages)]\n",
    "\n",
    "go_languages = [\"go\"]\n",
    "go_df_lang = df_lang[df_lang.programming_language.isin(go_languages)]\n",
    "\n",
    "\n",
    "# sns.histplot(data=filtered_df_lang, x='salary_monthly_NETO', hue='programming_language', stat='density')\n",
    "\n",
    "sns.histplot(data=go_df_lang, x=\"salary_monthly_NETO\", label=\"Go\", stat=\"density\")\n",
    "sns.histplot(\n",
    "    data=python_df_lang, x=\"salary_monthly_NETO\", label=\"Python\", stat=\"density\"\n",
    ")\n",
    "plt.legend()\n",
    "plt.show()"
   ]
  },
  {
   "cell_type": "markdown",
   "metadata": {},
   "source": [
    "Claramente es la cola ancha de la distribución lo que le da la ventaja a Go."
   ]
  },
  {
   "cell_type": "markdown",
   "metadata": {
    "id": "tWo8SmmC9FAk"
   },
   "source": [
    "# Ejercicio 2 - Densidades y varias variables\n",
    "\n",
    "Responder a la pregunta general: **¿Que herramientas (prácticas y teóricas) són útiles para explorar la base, descubrir patrones, asociaciones?**\n",
    "\n",
    "Para ello considere (igual al ejercicio Anterior):\n",
    "1. Seleccionar las columnas relevantes para analizar.\n",
    "2. Seleccionar las filas relevantes para analizar. Esto incluye la eliminación de valores extremos y erróneos, pero también puede enfocar el análisis en sub-poblaciones. "
   ]
  },
  {
   "cell_type": "markdown",
   "metadata": {
    "id": "5baYhH0XHM3S"
   },
   "source": [
    "## a) Densidad conjunta\n",
    "\n",
    "Que herramientas visuales y modelos puede utilizar para estudiar la distribución y comportamiento de sus datos? \n",
    "\n",
    "Elija tres variables numéricas y 2 variables categóricas. Visualice la base según varias de las variables elegidas. Puede describir de alguna forma el comportamiento de sus datos? Que herramientas utilizaría? Describa\n",
    "\n",
    "\n"
   ]
  },
  {
   "cell_type": "markdown",
   "metadata": {
    "id": "lkuHE2aZGHMO"
   },
   "source": [
    "## b) Asociación\n",
    "\n",
    "* Necesitamos decidir si sacar o no la columna de salario bruto. Para hacer la encuesta más simple.\n",
    "¿Existe una correlación entre el salario bruto y el neto? Que abordaje y medidas usaría\n",
    "\n"
   ]
  },
  {
   "cell_type": "markdown",
   "metadata": {
    "id": "7MZrbRJCm-ae"
   },
   "source": [
    "## c) Densidad condicional \n",
    "\n",
    "Estudie la distribución del salario según el nivel de estudio.\n",
    "\n",
    "Separe la población según el nivel de estudio (elija dos subpoblaciones numerosas) y grafique de manera comparativa ambos histogramas de la variable `'salary_monthly_NETO'`\n",
    "¿Considera que ambas variables son independientes?\n",
    "¿Qué analizaría al respecto?\n",
    "\n",
    "Calcule medidas de centralización y dispersión para cada subpoblación\n",
    "\n",
    "\n",
    "\n",
    "\n"
   ]
  },
  {
   "cell_type": "code",
   "execution_count": 11,
   "metadata": {},
   "outputs": [
    {
     "name": "stdout",
     "output_type": "stream",
     "text": [
      "['Universitario' nan 'Terciario' 'Secundario' 'Posgrado/Especialización'\n",
      " 'Maestría' 'Doctorado' 'Posdoctorado']\n"
     ]
    }
   ],
   "source": [
    "nivel_estudios=df[\"profile_studies_level\"].unique()\n",
    "print(nivel_estudios)\n",
    "dic=['Secundario','Terciario','Universitario','Posgrado/Especialización','Mastria','Doctorado','Posdoctorado']"
   ]
  },
  {
   "cell_type": "code",
   "execution_count": 12,
   "metadata": {},
   "outputs": [
    {
     "data": {
      "text/plain": [
       "profile_studies_level\n",
       "Universitario    1811\n",
       "Terciario         430\n",
       "Name: count, dtype: int64"
      ]
     },
     "execution_count": 12,
     "metadata": {},
     "output_type": "execute_result"
    }
   ],
   "source": [
    "counts = df['profile_studies_level'].value_counts()\n",
    "top_two = counts.head(2)\n",
    "top_two"
   ]
  },
  {
   "cell_type": "code",
   "execution_count": 13,
   "metadata": {},
   "outputs": [],
   "source": [
    "Uni_o_Ter=((df['profile_studies_level']=='Universitario')|(df['profile_studies_level']=='Terciario'))\n",
    "b=(((df['profile_studies_level']=='Universitario')|(df['profile_studies_level']=='Terciario')))&(df['profile_studies_level_state']=='Completo')\n",
    "\n",
    "ter=df['profile_studies_level']=='Terciario'\n",
    "univ=df['profile_studies_level']=='Universitario'\n",
    "df_Uni_o_Ter=df.loc[Uni_o_Ter]\n",
    "df_twonuevo=df.loc[b]\n",
    "df_twou=df.loc[univ]\n",
    "df_twot=df.loc[ter]"
   ]
  },
  {
   "cell_type": "code",
   "execution_count": 14,
   "metadata": {},
   "outputs": [],
   "source": [
    "Uni_o_Ter=((df['profile_studies_level']=='Universitario')|(df['profile_studies_level']=='Terciario'))\n",
    "df_Uni_o_Ter=df.loc[Uni_o_Ter]\n"
   ]
  },
  {
   "cell_type": "code",
   "execution_count": 15,
   "metadata": {},
   "outputs": [
    {
     "data": {
      "image/png": "[encoded data removed]",
      "text/plain": [
       "<Figure size 1000x800 with 1 Axes>"
      ]
     },
     "metadata": {},
     "output_type": "display_data"
    }
   ],
   "source": [
    "plt.figure(figsize=(10, 8))\n",
    "ax=sns.histplot(data=df_Uni_o_Ter, x='salary_monthly_NETO',bins=100, hue='profile_studies_level',palette='magma', legend=True) \n",
    "ax.set(xlabel='Salario mensual neto', ylabel='Cantidad')\n",
    "ax.set_title('Salario mensual neto contra niveles de estudio') \n",
    "ax.get_legend().set_title('Niveles de estudio')"
   ]
  },
  {
   "cell_type": "code",
   "execution_count": null,
   "metadata": {},
   "outputs": [],
   "source": []
  },
  {
   "cell_type": "markdown",
   "metadata": {
    "id": "u8wgYxNiqVpE"
   },
   "source": [
    "## d) Densidad Conjunta condicional\n",
    "\n",
    "Elija dos variables numéricas y una categórica. \n",
    "Estudie la dispersión (scatterplot) de las dos variables discriminando en color por la variable categórica (ayuda: hue en seaborn)\n"
   ]
  }
 ],
 "metadata": {
  "colab": {
   "provenance": [
    {
     "file_id": "1NXWXyebR6mzAabyOPqghXpZQdyy05cRV",
     "timestamp": 1680785357097
    },
    {
     "file_id": "1OZLULlr-RkXwyhar7ED5fcXmPdgc6tGb",
     "timestamp": 1617224538047
    },
    {
     "file_id": "1xPL68eVaR0UF7XTcLU1rCMfpzuS7r6s0",
     "timestamp": 1617223947184
    },
    {
     "file_id": "1bChseZSrdGJSXfa-D2_lS0dx98wplQtD",
     "timestamp": 1614968149245
    }
   ]
  },
  "kernelspec": {
   "display_name": "Python 3 (ipykernel)",
   "language": "python",
   "name": "python3"
  },
  "language_info": {
   "codemirror_mode": {
    "name": "ipython",
    "version": 3
   },
   "file_extension": ".py",
   "mimetype": "text/x-python",
   "name": "python",
   "nbconvert_exporter": "python",
   "pygments_lexer": "ipython3",
   "version": "3.8.3"
  }
 },
 "nbformat": 4,
 "nbformat_minor": 1
}
